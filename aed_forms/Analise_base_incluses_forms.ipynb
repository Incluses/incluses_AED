{
 "cells": [
  {
   "cell_type": "markdown",
   "metadata": {},
   "source": [
    "<h1><center>Análise Exploratória de Dados</center></h1>\n",
    "<h3><center>Análise da base para a ia feita no forms</center></h3>\n",
    "\n",
    "***\n",
    "\n",
    "Datasets: \n",
    "* Incluses.xlsx\n",
    "\n",
    "Conteúdo deste notebook:\n",
    "1. Imports\n",
    "1. leitura da planilha com os dados obitidos do forms\n",
    "1. Correções da base\n",
    "    1. Corrigindo valores na coluna 'Gênero'\n",
    "    1. Corrigindo valores na coluna 'Nível de Escolaridade'\n",
    "    1. Corrigindo valores na coluna 'Preferência por Cursos'\n",
    "    1. Corrigindo valores na coluna 'Qual é a sua situação diante ao mercado de trabalho?'\n",
    "1. Incluímos no formulário uma pergunta para identificar se as pessoas pertencem à comunidade LGBTQIA+, já que nosso aplicativo é voltado para esse público.\n",
    "    1. Removendo as colunas\n",
    "    1. Renomeando as colunas\n",
    "    1. Filtrando apenas as respostas \"Sim\"\n",
    "1. Vendo a descrição do dataFrame (usuando o .describe())\n",
    "1. Definindo o pré-processador para transformar colunas categóricas em numéricas\n",
    "    1. Gerando um gráfico de correlação\n",
    "    1. Análise do que teve mais correlação\n",
    "        1. Vendo a relação entre 'Faixa Etária' e 'Situação no Mercado de Trabalho'\n",
    "        1. Vendo a relação entre 'Faixa Etária' e 'Escolaridade'\n",
    "        1. Vendo a relação entre 'Identidade de Gênero' e 'Escolaridade'\n",
    "        1. Vendo a relação entre 'Usa Redes Sociais?' e 'Escolaridade'\n",
    "1. Gerando um Relatório de Perfil do DataFrame\n",
    "1. Gerando o excel \"incluses_tratado.xlsx\" com os tratamentos que foram feitos."
   ]
  },
  {
   "cell_type": "markdown",
   "metadata": {},
   "source": [
    "## Imports"
   ]
  },
  {
   "cell_type": "code",
   "execution_count": 1,
   "metadata": {},
   "outputs": [
    {
     "name": "stderr",
     "output_type": "stream",
     "text": [
      "c:\\Users\\lucalucareli-ieg\\AppData\\Local\\Programs\\Python\\Python312\\Lib\\site-packages\\tqdm\\auto.py:21: TqdmWarning: IProgress not found. Please update jupyter and ipywidgets. See https://ipywidgets.readthedocs.io/en/stable/user_install.html\n",
      "  from .autonotebook import tqdm as notebook_tqdm\n"
     ]
    }
   ],
   "source": [
    "import pandas as pd\n",
    "import plotly.express as px\n",
    "import seaborn as sns\n",
    "import matplotlib.pyplot as plt\n",
    "from sklearn.compose import ColumnTransformer, make_column_selector\n",
    "from sklearn.preprocessing import OrdinalEncoder\n",
    "from ydata_profiling import ProfileReport"
   ]
  },
  {
   "cell_type": "markdown",
   "metadata": {},
   "source": [
    "### leitura da planilha com os dados obitidos do forms"
   ]
  },
  {
   "cell_type": "code",
   "execution_count": 2,
   "metadata": {},
   "outputs": [
    {
     "data": {
      "text/html": [
       "<div>\n",
       "<style scoped>\n",
       "    .dataframe tbody tr th:only-of-type {\n",
       "        vertical-align: middle;\n",
       "    }\n",
       "\n",
       "    .dataframe tbody tr th {\n",
       "        vertical-align: top;\n",
       "    }\n",
       "\n",
       "    .dataframe thead th {\n",
       "        text-align: right;\n",
       "    }\n",
       "</style>\n",
       "<table border=\"1\" class=\"dataframe\">\n",
       "  <thead>\n",
       "    <tr style=\"text-align: right;\">\n",
       "      <th></th>\n",
       "      <th>Id</th>\n",
       "      <th>Hora de início</th>\n",
       "      <th>Hora de conclusão</th>\n",
       "      <th>Email</th>\n",
       "      <th>Nome</th>\n",
       "      <th>Você participa da comunidade LGBTQIA+</th>\n",
       "      <th>Idade</th>\n",
       "      <th>Gênero</th>\n",
       "      <th>Orientação Sexual</th>\n",
       "      <th>Localização</th>\n",
       "      <th>Nível de Escolaridade</th>\n",
       "      <th>Você usa aplicativos para procurar oportunidades de emprego?</th>\n",
       "      <th>Preferência por Cursos</th>\n",
       "      <th>Coluna1</th>\n",
       "      <th>Você já sentiu desafios para entrar no mercado de trabalho devido ao seu gênero</th>\n",
       "      <th>Você tem interesse em empreender?</th>\n",
       "      <th>Qual é a sua situação diante ao mercado de trabalho?</th>\n",
       "      <th>Você usa redes sociais (exemplo: X, Facebook, Instagram, Youtube)</th>\n",
       "      <th>Com quais finalidades você usaria o Aplicativo Incluses</th>\n",
       "    </tr>\n",
       "  </thead>\n",
       "  <tbody>\n",
       "    <tr>\n",
       "      <th>0</th>\n",
       "      <td>2</td>\n",
       "      <td>2024-08-27 12:15:29</td>\n",
       "      <td>2024-08-27 12:15:41</td>\n",
       "      <td>anonymous</td>\n",
       "      <td>NaN</td>\n",
       "      <td>Não</td>\n",
       "      <td>NaN</td>\n",
       "      <td>NaN</td>\n",
       "      <td>NaN</td>\n",
       "      <td>NaN</td>\n",
       "      <td>NaN</td>\n",
       "      <td>NaN</td>\n",
       "      <td>NaN</td>\n",
       "      <td>NaN</td>\n",
       "      <td>NaN</td>\n",
       "      <td>NaN</td>\n",
       "      <td>NaN</td>\n",
       "      <td>NaN</td>\n",
       "      <td>NaN</td>\n",
       "    </tr>\n",
       "    <tr>\n",
       "      <th>1</th>\n",
       "      <td>3</td>\n",
       "      <td>2024-08-28 14:21:47</td>\n",
       "      <td>2024-08-28 14:22:06</td>\n",
       "      <td>anonymous</td>\n",
       "      <td>NaN</td>\n",
       "      <td>Não</td>\n",
       "      <td>NaN</td>\n",
       "      <td>NaN</td>\n",
       "      <td>NaN</td>\n",
       "      <td>NaN</td>\n",
       "      <td>NaN</td>\n",
       "      <td>NaN</td>\n",
       "      <td>NaN</td>\n",
       "      <td>NaN</td>\n",
       "      <td>NaN</td>\n",
       "      <td>NaN</td>\n",
       "      <td>NaN</td>\n",
       "      <td>NaN</td>\n",
       "      <td>NaN</td>\n",
       "    </tr>\n",
       "    <tr>\n",
       "      <th>2</th>\n",
       "      <td>4</td>\n",
       "      <td>2024-08-30 07:19:42</td>\n",
       "      <td>2024-08-30 07:22:12</td>\n",
       "      <td>anonymous</td>\n",
       "      <td>NaN</td>\n",
       "      <td>Sim</td>\n",
       "      <td>Menos de 18 anos</td>\n",
       "      <td>Mulher cisgênero</td>\n",
       "      <td>Homossexual</td>\n",
       "      <td>Região Sudeste</td>\n",
       "      <td>Ensino Fundamental completo</td>\n",
       "      <td>Sim</td>\n",
       "      <td>Prefiro cursos online</td>\n",
       "      <td>NaN</td>\n",
       "      <td>Sim</td>\n",
       "      <td>Não</td>\n",
       "      <td>Empregado (a)</td>\n",
       "      <td>Sim</td>\n",
       "      <td>Todos acima</td>\n",
       "    </tr>\n",
       "  </tbody>\n",
       "</table>\n",
       "</div>"
      ],
      "text/plain": [
       "   Id       Hora de início    Hora de conclusão      Email  Nome  \\\n",
       "0   2  2024-08-27 12:15:29  2024-08-27 12:15:41  anonymous   NaN   \n",
       "1   3  2024-08-28 14:21:47  2024-08-28 14:22:06  anonymous   NaN   \n",
       "2   4  2024-08-30 07:19:42  2024-08-30 07:22:12  anonymous   NaN   \n",
       "\n",
       "  Você participa da comunidade LGBTQIA+             Idade            Gênero  \\\n",
       "0                                   Não               NaN               NaN   \n",
       "1                                   Não               NaN               NaN   \n",
       "2                                   Sim  Menos de 18 anos  Mulher cisgênero   \n",
       "\n",
       "  Orientação Sexual     Localização        Nível de Escolaridade  \\\n",
       "0               NaN             NaN                          NaN   \n",
       "1               NaN             NaN                          NaN   \n",
       "2       Homossexual  Região Sudeste  Ensino Fundamental completo   \n",
       "\n",
       "  Você usa aplicativos para procurar oportunidades de emprego?  \\\n",
       "0                                                NaN             \n",
       "1                                                NaN             \n",
       "2                                                Sim             \n",
       "\n",
       "  Preferência por Cursos  Coluna1  \\\n",
       "0                    NaN      NaN   \n",
       "1                    NaN      NaN   \n",
       "2  Prefiro cursos online      NaN   \n",
       "\n",
       "  Você já sentiu desafios para entrar no mercado de trabalho devido ao seu gênero  \\\n",
       "0                                                NaN                                \n",
       "1                                                NaN                                \n",
       "2                                                Sim                                \n",
       "\n",
       "  Você tem interesse em empreender?  \\\n",
       "0                               NaN   \n",
       "1                               NaN   \n",
       "2                               Não   \n",
       "\n",
       "  Qual é a sua situação diante ao mercado de trabalho?  \\\n",
       "0                                                NaN     \n",
       "1                                                NaN     \n",
       "2                                      Empregado (a)     \n",
       "\n",
       "  Você usa redes sociais (exemplo: X, Facebook, Instagram, Youtube)  \\\n",
       "0                                                NaN                  \n",
       "1                                                NaN                  \n",
       "2                                                Sim                  \n",
       "\n",
       "  Com quais finalidades você usaria o Aplicativo Incluses  \n",
       "0                                                NaN       \n",
       "1                                                NaN       \n",
       "2                                        Todos acima       "
      ]
     },
     "metadata": {},
     "output_type": "display_data"
    }
   ],
   "source": [
    "df_incluses = pd.read_excel(\"./Incluses.xlsx\")\n",
    "display(df_incluses.head(3))"
   ]
  },
  {
   "cell_type": "markdown",
   "metadata": {},
   "source": [
    "#### Correções da base"
   ]
  },
  {
   "cell_type": "code",
   "execution_count": 3,
   "metadata": {},
   "outputs": [],
   "source": [
    "# Corrigindo valores na coluna 'Gênero'\n",
    "df_incluses['Gênero'] = df_incluses['Gênero'].replace({\n",
    "    \"Geladeira Eletrolux de duas portas com gelo para água \": \"Outra\",\n",
    "    \"Mulher transgênero\": \"transgênero\",\n",
    "    \"Homem transgênero\": \"transgênero\"\n",
    "    })\n",
    "\n",
    "# Corrigindo valores na coluna 'Nível de Escolaridade'\n",
    "df_incluses['Nível de Escolaridade'] = df_incluses['Nível de Escolaridade'].replace({\n",
    "    \"Ensino Médio completo\": \"Ensino Médio completo ou cursando\",\n",
    "    \"Ensino Superior completo\": \"Ensino Superior completo ou cursando\",  \n",
    "    \"Ensino Superior completo ou cursando\\xa0\": \"Ensino Superior completo ou cursando\",  \n",
    "    \"Ensino Médio completo\": \"Ensino Médio completo ou cursando\",\n",
    "    \"Ensino Fundamental completo\": \"Ensino Fundamental completo ou cursando\"\n",
    "})\n",
    "\n",
    "# Corrigindo valores na coluna 'Preferência por Cursos'\n",
    "df_incluses['Preferência por Cursos'] = df_incluses['Preferência por Cursos'].replace({\n",
    "    \"Não tenho preferência, pode ser online ou presencial\": \"Não tenho preferência, pode ser on-line ou presencial\",\n",
    "    \"Prefiro cursos online\": \"Prefiro cursos on-line\"\n",
    "})\n",
    "\n",
    "# Corrigindo valores na coluna 'Qual é a sua situação diante ao mercado de trabalho?'\n",
    "df_incluses['Qual é a sua situação diante ao mercado de trabalho?'] = df_incluses['Qual é a sua situação diante ao mercado de trabalho?'].replace({\n",
    "    \"  Desempregado (a)\": \"Desempregado (a)\",\n",
    "    \"Autônomo (a)\": \"Desempregado (a)\",\n",
    "    \"  Empregado (a)\": \"Empregado (a)\",\n",
    "})\n"
   ]
  },
  {
   "cell_type": "markdown",
   "metadata": {},
   "source": [
    "#### Incluímos no formulário uma pergunta para identificar se as pessoas pertencem à comunidade LGBTQIA+, já que nosso aplicativo é voltado para esse público."
   ]
  },
  {
   "cell_type": "code",
   "execution_count": 4,
   "metadata": {},
   "outputs": [
    {
     "data": {
      "text/html": [
       "<div>\n",
       "<style scoped>\n",
       "    .dataframe tbody tr th:only-of-type {\n",
       "        vertical-align: middle;\n",
       "    }\n",
       "\n",
       "    .dataframe tbody tr th {\n",
       "        vertical-align: top;\n",
       "    }\n",
       "\n",
       "    .dataframe thead th {\n",
       "        text-align: right;\n",
       "    }\n",
       "</style>\n",
       "<table border=\"1\" class=\"dataframe\">\n",
       "  <thead>\n",
       "    <tr style=\"text-align: right;\">\n",
       "      <th></th>\n",
       "      <th>Participante da Comunidade LGBTQIA+</th>\n",
       "      <th>Faixa Etária</th>\n",
       "      <th>Identidade de Gênero</th>\n",
       "      <th>Orientação Sexual</th>\n",
       "      <th>Cidade/Estado</th>\n",
       "      <th>Escolaridade</th>\n",
       "      <th>Usa Apps para Oportunidades de Emprego?</th>\n",
       "      <th>Preferência de Cursos</th>\n",
       "      <th>Desafios de Emprego por Gênero</th>\n",
       "      <th>Interesse em Empreender</th>\n",
       "      <th>Situação no Mercado de Trabalho</th>\n",
       "      <th>Usa Redes Sociais?</th>\n",
       "      <th>Finalidade do Uso do App Incluses</th>\n",
       "    </tr>\n",
       "  </thead>\n",
       "  <tbody>\n",
       "    <tr>\n",
       "      <th>0</th>\n",
       "      <td>Sim</td>\n",
       "      <td>Menos de 18 anos</td>\n",
       "      <td>Mulher cisgênero</td>\n",
       "      <td>Homossexual</td>\n",
       "      <td>Região Sudeste</td>\n",
       "      <td>Ensino Fundamental completo ou cursando</td>\n",
       "      <td>Sim</td>\n",
       "      <td>Prefiro cursos on-line</td>\n",
       "      <td>Sim</td>\n",
       "      <td>Não</td>\n",
       "      <td>Empregado (a)</td>\n",
       "      <td>Sim</td>\n",
       "      <td>Todos acima</td>\n",
       "    </tr>\n",
       "    <tr>\n",
       "      <th>1</th>\n",
       "      <td>Sim</td>\n",
       "      <td>Menos de 18 anos</td>\n",
       "      <td>Mulher cisgênero</td>\n",
       "      <td>Homossexual</td>\n",
       "      <td>Região Sudeste</td>\n",
       "      <td>Ensino Fundamental completo ou cursando</td>\n",
       "      <td>Tenho interesse</td>\n",
       "      <td>Não tenho preferência, pode ser on-line ou pre...</td>\n",
       "      <td>Sim</td>\n",
       "      <td>Não</td>\n",
       "      <td>Empregado (a)</td>\n",
       "      <td>Sim</td>\n",
       "      <td>Não usaria o app</td>\n",
       "    </tr>\n",
       "    <tr>\n",
       "      <th>2</th>\n",
       "      <td>Sim</td>\n",
       "      <td>Menos de 18 anos</td>\n",
       "      <td>Mulher cisgênero</td>\n",
       "      <td>Pansexual</td>\n",
       "      <td>Região Norte</td>\n",
       "      <td>Ensino Fundamental completo ou cursando</td>\n",
       "      <td>Não</td>\n",
       "      <td>Não tenho preferência, pode ser on-line ou pre...</td>\n",
       "      <td>Não</td>\n",
       "      <td>Talvez</td>\n",
       "      <td>Empregado (a)</td>\n",
       "      <td>Sim</td>\n",
       "      <td>Fazer cursos de qualificação</td>\n",
       "    </tr>\n",
       "    <tr>\n",
       "      <th>3</th>\n",
       "      <td>Sim</td>\n",
       "      <td>Menos de 18 anos</td>\n",
       "      <td>Mulher cisgênero</td>\n",
       "      <td>Bissexual</td>\n",
       "      <td>Região Sudeste</td>\n",
       "      <td>Ensino Fundamental completo ou cursando</td>\n",
       "      <td>Não</td>\n",
       "      <td>Não tenho preferência, pode ser on-line ou pre...</td>\n",
       "      <td>Sim</td>\n",
       "      <td>Não</td>\n",
       "      <td>Empregado (a)</td>\n",
       "      <td>Sim</td>\n",
       "      <td>Não usaria o app</td>\n",
       "    </tr>\n",
       "    <tr>\n",
       "      <th>4</th>\n",
       "      <td>Sim</td>\n",
       "      <td>Menos de 18 anos</td>\n",
       "      <td>transgênero</td>\n",
       "      <td>Prefiro não informar</td>\n",
       "      <td>Região Sudeste</td>\n",
       "      <td>Nenhum</td>\n",
       "      <td>Não</td>\n",
       "      <td>Não tenho preferência, pode ser on-line ou pre...</td>\n",
       "      <td>Sim</td>\n",
       "      <td>Sim</td>\n",
       "      <td>Desempregado (a)</td>\n",
       "      <td>Sim</td>\n",
       "      <td>Fazer cursos de qualificação</td>\n",
       "    </tr>\n",
       "  </tbody>\n",
       "</table>\n",
       "</div>"
      ],
      "text/plain": [
       "  Participante da Comunidade LGBTQIA+      Faixa Etária Identidade de Gênero  \\\n",
       "0                                 Sim  Menos de 18 anos     Mulher cisgênero   \n",
       "1                                 Sim  Menos de 18 anos     Mulher cisgênero   \n",
       "2                                 Sim  Menos de 18 anos     Mulher cisgênero   \n",
       "3                                 Sim  Menos de 18 anos     Mulher cisgênero   \n",
       "4                                 Sim  Menos de 18 anos          transgênero   \n",
       "\n",
       "      Orientação Sexual   Cidade/Estado  \\\n",
       "0           Homossexual  Região Sudeste   \n",
       "1           Homossexual  Região Sudeste   \n",
       "2             Pansexual    Região Norte   \n",
       "3             Bissexual  Região Sudeste   \n",
       "4  Prefiro não informar  Região Sudeste   \n",
       "\n",
       "                              Escolaridade  \\\n",
       "0  Ensino Fundamental completo ou cursando   \n",
       "1  Ensino Fundamental completo ou cursando   \n",
       "2  Ensino Fundamental completo ou cursando   \n",
       "3  Ensino Fundamental completo ou cursando   \n",
       "4                                   Nenhum   \n",
       "\n",
       "  Usa Apps para Oportunidades de Emprego?  \\\n",
       "0                                     Sim   \n",
       "1                         Tenho interesse   \n",
       "2                                     Não   \n",
       "3                                     Não   \n",
       "4                                     Não   \n",
       "\n",
       "                               Preferência de Cursos  \\\n",
       "0                             Prefiro cursos on-line   \n",
       "1  Não tenho preferência, pode ser on-line ou pre...   \n",
       "2  Não tenho preferência, pode ser on-line ou pre...   \n",
       "3  Não tenho preferência, pode ser on-line ou pre...   \n",
       "4  Não tenho preferência, pode ser on-line ou pre...   \n",
       "\n",
       "  Desafios de Emprego por Gênero Interesse em Empreender  \\\n",
       "0                            Sim                     Não   \n",
       "1                            Sim                     Não   \n",
       "2                            Não                  Talvez   \n",
       "3                            Sim                     Não   \n",
       "4                            Sim                     Sim   \n",
       "\n",
       "  Situação no Mercado de Trabalho Usa Redes Sociais?  \\\n",
       "0                   Empregado (a)                Sim   \n",
       "1                   Empregado (a)                Sim   \n",
       "2                   Empregado (a)                Sim   \n",
       "3                   Empregado (a)                Sim   \n",
       "4                Desempregado (a)                Sim   \n",
       "\n",
       "  Finalidade do Uso do App Incluses  \n",
       "0                       Todos acima  \n",
       "1                  Não usaria o app  \n",
       "2      Fazer cursos de qualificação  \n",
       "3                  Não usaria o app  \n",
       "4      Fazer cursos de qualificação  "
      ]
     },
     "metadata": {},
     "output_type": "display_data"
    }
   ],
   "source": [
    "# Removendo as colunas que não serão utilizadas na análise\n",
    "df_incluses = df_incluses.drop(columns=['Id', 'Email', 'Nome', 'Coluna1',\"Hora de início\", \"Hora de conclusão\"])\n",
    "\n",
    "# Renomeando as colunas para facilitar a utilização na análise\n",
    "df_incluses.columns = [\n",
    "    \"Participante da Comunidade LGBTQIA+\", \n",
    "    \"Faixa Etária\", \n",
    "    \"Identidade de Gênero\", \n",
    "    \"Orientação Sexual\", \n",
    "    \"Cidade/Estado\", \n",
    "    \"Escolaridade\", \n",
    "    \"Usa Apps para Oportunidades de Emprego?\", \n",
    "    \"Preferência de Cursos\", \n",
    "    \"Desafios de Emprego por Gênero\", \n",
    "    \"Interesse em Empreender\", \n",
    "    \"Situação no Mercado de Trabalho\", \n",
    "    \"Usa Redes Sociais?\", \n",
    "    \"Finalidade do Uso do App Incluses\"\n",
    "]\n",
    "\n",
    "# Filtrando apenas as respostas \"Sim\" para a coluna \"Participante da Comunidade LGBTQIA+\"\n",
    "df_incluses = df_incluses[df_incluses['Participante da Comunidade LGBTQIA+'] == 'Sim']\n",
    "\n",
    "# Corrigindo o índice após a filtragem\n",
    "df_incluses.reset_index(drop=True, inplace=True)\n",
    "\n",
    "# Mostrando o DataFrame\n",
    "display(df_incluses.head(5))"
   ]
  },
  {
   "cell_type": "markdown",
   "metadata": {},
   "source": [
    "##### Vendo a descrição do dataFrame (usuando o .describe())"
   ]
  },
  {
   "cell_type": "code",
   "execution_count": 5,
   "metadata": {},
   "outputs": [
    {
     "data": {
      "text/html": [
       "<div>\n",
       "<style scoped>\n",
       "    .dataframe tbody tr th:only-of-type {\n",
       "        vertical-align: middle;\n",
       "    }\n",
       "\n",
       "    .dataframe tbody tr th {\n",
       "        vertical-align: top;\n",
       "    }\n",
       "\n",
       "    .dataframe thead th {\n",
       "        text-align: right;\n",
       "    }\n",
       "</style>\n",
       "<table border=\"1\" class=\"dataframe\">\n",
       "  <thead>\n",
       "    <tr style=\"text-align: right;\">\n",
       "      <th></th>\n",
       "      <th>Participante da Comunidade LGBTQIA+</th>\n",
       "      <th>Faixa Etária</th>\n",
       "      <th>Identidade de Gênero</th>\n",
       "      <th>Orientação Sexual</th>\n",
       "      <th>Cidade/Estado</th>\n",
       "      <th>Escolaridade</th>\n",
       "      <th>Usa Apps para Oportunidades de Emprego?</th>\n",
       "      <th>Preferência de Cursos</th>\n",
       "      <th>Desafios de Emprego por Gênero</th>\n",
       "      <th>Interesse em Empreender</th>\n",
       "      <th>Situação no Mercado de Trabalho</th>\n",
       "      <th>Usa Redes Sociais?</th>\n",
       "      <th>Finalidade do Uso do App Incluses</th>\n",
       "    </tr>\n",
       "  </thead>\n",
       "  <tbody>\n",
       "    <tr>\n",
       "      <th>count</th>\n",
       "      <td>47</td>\n",
       "      <td>47</td>\n",
       "      <td>47</td>\n",
       "      <td>47</td>\n",
       "      <td>47</td>\n",
       "      <td>47</td>\n",
       "      <td>47</td>\n",
       "      <td>47</td>\n",
       "      <td>47</td>\n",
       "      <td>47</td>\n",
       "      <td>47</td>\n",
       "      <td>47</td>\n",
       "      <td>47</td>\n",
       "    </tr>\n",
       "    <tr>\n",
       "      <th>unique</th>\n",
       "      <td>1</td>\n",
       "      <td>6</td>\n",
       "      <td>6</td>\n",
       "      <td>7</td>\n",
       "      <td>5</td>\n",
       "      <td>4</td>\n",
       "      <td>3</td>\n",
       "      <td>3</td>\n",
       "      <td>2</td>\n",
       "      <td>3</td>\n",
       "      <td>2</td>\n",
       "      <td>2</td>\n",
       "      <td>5</td>\n",
       "    </tr>\n",
       "    <tr>\n",
       "      <th>top</th>\n",
       "      <td>Sim</td>\n",
       "      <td>Menos de 18 anos</td>\n",
       "      <td>Mulher cisgênero</td>\n",
       "      <td>Bissexual</td>\n",
       "      <td>Região Sudeste</td>\n",
       "      <td>Ensino Fundamental completo ou cursando</td>\n",
       "      <td>Sim</td>\n",
       "      <td>Não tenho preferência, pode ser on-line ou pre...</td>\n",
       "      <td>Não</td>\n",
       "      <td>Talvez</td>\n",
       "      <td>Empregado (a)</td>\n",
       "      <td>Sim</td>\n",
       "      <td>Todos acima</td>\n",
       "    </tr>\n",
       "    <tr>\n",
       "      <th>freq</th>\n",
       "      <td>47</td>\n",
       "      <td>29</td>\n",
       "      <td>20</td>\n",
       "      <td>16</td>\n",
       "      <td>33</td>\n",
       "      <td>18</td>\n",
       "      <td>23</td>\n",
       "      <td>23</td>\n",
       "      <td>29</td>\n",
       "      <td>19</td>\n",
       "      <td>26</td>\n",
       "      <td>44</td>\n",
       "      <td>16</td>\n",
       "    </tr>\n",
       "  </tbody>\n",
       "</table>\n",
       "</div>"
      ],
      "text/plain": [
       "       Participante da Comunidade LGBTQIA+      Faixa Etária  \\\n",
       "count                                   47                47   \n",
       "unique                                   1                 6   \n",
       "top                                    Sim  Menos de 18 anos   \n",
       "freq                                    47                29   \n",
       "\n",
       "       Identidade de Gênero Orientação Sexual   Cidade/Estado  \\\n",
       "count                    47                47              47   \n",
       "unique                    6                 7               5   \n",
       "top        Mulher cisgênero         Bissexual  Região Sudeste   \n",
       "freq                     20                16              33   \n",
       "\n",
       "                                   Escolaridade  \\\n",
       "count                                        47   \n",
       "unique                                        4   \n",
       "top     Ensino Fundamental completo ou cursando   \n",
       "freq                                         18   \n",
       "\n",
       "       Usa Apps para Oportunidades de Emprego?  \\\n",
       "count                                       47   \n",
       "unique                                       3   \n",
       "top                                        Sim   \n",
       "freq                                        23   \n",
       "\n",
       "                                    Preferência de Cursos  \\\n",
       "count                                                  47   \n",
       "unique                                                  3   \n",
       "top     Não tenho preferência, pode ser on-line ou pre...   \n",
       "freq                                                   23   \n",
       "\n",
       "       Desafios de Emprego por Gênero Interesse em Empreender  \\\n",
       "count                              47                      47   \n",
       "unique                              2                       3   \n",
       "top                               Não                  Talvez   \n",
       "freq                               29                      19   \n",
       "\n",
       "       Situação no Mercado de Trabalho Usa Redes Sociais?  \\\n",
       "count                               47                 47   \n",
       "unique                               2                  2   \n",
       "top                      Empregado (a)                Sim   \n",
       "freq                                26                 44   \n",
       "\n",
       "       Finalidade do Uso do App Incluses  \n",
       "count                                 47  \n",
       "unique                                 5  \n",
       "top                          Todos acima  \n",
       "freq                                  16  "
      ]
     },
     "execution_count": 5,
     "metadata": {},
     "output_type": "execute_result"
    }
   ],
   "source": [
    "# Exibindo a descrição estatística do DataFrame\n",
    "df_incluses.describe()"
   ]
  },
  {
   "cell_type": "markdown",
   "metadata": {},
   "source": [
    "##### Definindo o pré-processador para transformar colunas categóricas em numéricas\n",
    "\n",
    "Nesta célula, utilizamos o `ColumnTransformer` do Scikit-learn para transformar as colunas categóricas do DataFrame em numéricas. O `OrdinalEncoder` é aplicado permitindo que essas informações sejam integradas em análises quantitativas. \n",
    "\n",
    "O parâmetro `remainder='passthrough'` assegura que as colunas que não precisam de transformação sejam mantidas inalteradas.\n",
    "\n",
    "Em seguida, calculamos a matriz de correlação entre as variáveis, que nos ajudará a entender a força e a direção das relações entre elas. Para visualizar essas correlações, configuramos os tamanhos de fonte e geramos um heatmap, que é exibido ao final."
   ]
  },
  {
   "cell_type": "code",
   "execution_count": 6,
   "metadata": {},
   "outputs": [
    {
     "data": {
      "image/png": "[encoded data removed]",
      "text/plain": [
       "<Figure size 1700x1500 with 2 Axes>"
      ]
     },
     "metadata": {},
     "output_type": "display_data"
    }
   ],
   "source": [
    "# Definindo o pré-processador para transformar colunas categóricas em numéricas\n",
    "preprocessador = ColumnTransformer(\n",
    "    transformers=[\n",
    "        ('ordinal_encoder', OrdinalEncoder(), make_column_selector(dtype_include=['object', 'bool']))\n",
    "    ],\n",
    "    remainder='passthrough',\n",
    "    verbose_feature_names_out=False \n",
    ")\n",
    "\n",
    "# Aplicando a transformação\n",
    "df_incluses_in_float = preprocessador.fit_transform(df_incluses)\n",
    "\n",
    "# Convertendo o resultado de volta para um DataFrame, se necessário\n",
    "df_incluses_in_float = pd.DataFrame(df_incluses_in_float, columns=df_incluses.columns)\n",
    "\n",
    "# Calculando a matriz de correlação\n",
    "matriz_correlacao = df_incluses_in_float.corr()\n",
    "\n",
    "# Ajustando os tamanhos de fontes\n",
    "SMALL_SIZE = 9\n",
    "MEDIUM_SIZE = 11\n",
    "BIGGER_SIZE = 13\n",
    "\n",
    "plt.rc('font', size=SMALL_SIZE)          # controla o tamanho padrão do texto\n",
    "plt.rc('axes', titlesize=SMALL_SIZE)     # tamanho da fonte do título dos eixos\n",
    "plt.rc('axes', labelsize=MEDIUM_SIZE)    # tamanho da fonte dos rótulos dos eixos\n",
    "plt.rc('xtick', labelsize=SMALL_SIZE)    # tamanho da fonte das marcações do eixo x\n",
    "plt.rc('ytick', labelsize=SMALL_SIZE)    # tamanho da fonte das marcações do eixo y\n",
    "plt.rc('legend', fontsize=SMALL_SIZE)    # tamanho da fonte da legenda\n",
    "plt.rc('figure', titlesize=BIGGER_SIZE)  # tamanho da fonte do título da figura\n",
    "\n",
    "# Definindo o tamanho da figura\n",
    "plt.figure(figsize=(17, 15))\n",
    "\n",
    "# Gerando o heatmap da matriz de correlação\n",
    "sns.heatmap(matriz_correlacao, annot=True, fmt=\".1f\", cmap=\"coolwarm\")\n",
    "\n",
    "# Exibindo o gráfico\n",
    "plt.show()"
   ]
  },
  {
   "cell_type": "markdown",
   "metadata": {},
   "source": [
    "#### Vendo a relação entre 'Faixa Etária' e 'Situação no Mercado de Trabalho'"
   ]
  },
  {
   "cell_type": "code",
   "execution_count": 7,
   "metadata": {},
   "outputs": [
    {
     "data": {
      "application/vnd.plotly.v1+json": {
       "config": {
        "plotlyServerURL": "https://plot.ly"
       },
       "data": [
        {
         "alignmentgroup": "True",
         "hovertemplate": "Situação no Mercado de Trabalho=Empregado (a)<br>Faixa Etária=%{x}<br>Quantidade=%{y}<extra></extra>",
         "legendgroup": "Empregado (a)",
         "marker": {
          "color": "#636efa",
          "pattern": {
           "shape": ""
          }
         },
         "name": "Empregado (a)",
         "offsetgroup": "Empregado (a)",
         "orientation": "v",
         "showlegend": true,
         "textposition": "auto",
         "type": "bar",
         "x": [
          "18-24 anos",
          "25-34 anos",
          "35-44 anos",
          "45-54 anos",
          "55 anos ou mais",
          "Menos de 18 anos"
         ],
         "xaxis": "x",
         "y": [
          2,
          9,
          4,
          1,
          1,
          9
         ],
         "yaxis": "y"
        },
        {
         "alignmentgroup": "True",
         "hovertemplate": "Situação no Mercado de Trabalho=Desempregado (a)<br>Faixa Etária=%{x}<br>Quantidade=%{y}<extra></extra>",
         "legendgroup": "Desempregado (a)",
         "marker": {
          "color": "#EF553B",
          "pattern": {
           "shape": ""
          }
         },
         "name": "Desempregado (a)",
         "offsetgroup": "Desempregado (a)",
         "orientation": "v",
         "showlegend": true,
         "textposition": "auto",
         "type": "bar",
         "x": [
          "55 anos ou mais",
          "Menos de 18 anos"
         ],
         "xaxis": "x",
         "y": [
          1,
          20
         ],
         "yaxis": "y"
        }
       ],
       "layout": {
        "barmode": "stack",
        "legend": {
         "title": {
          "text": "Situação no Mercado de Trabalho"
         },
         "tracegroupgap": 0
        },
        "template": {
         "data": {
          "bar": [
           {
            "error_x": {
             "color": "#2a3f5f"
            },
            "error_y": {
             "color": "#2a3f5f"
            },
            "marker": {
             "line": {
              "color": "#E5ECF6",
              "width": 0.5
             },
             "pattern": {
              "fillmode": "overlay",
              "size": 10,
              "solidity": 0.2
             }
            },
            "type": "bar"
           }
          ],
          "barpolar": [
           {
            "marker": {
             "line": {
              "color": "#E5ECF6",
              "width": 0.5
             },
             "pattern": {
              "fillmode": "overlay",
              "size": 10,
              "solidity": 0.2
             }
            },
            "type": "barpolar"
           }
          ],
          "carpet": [
           {
            "aaxis": {
             "endlinecolor": "#2a3f5f",
             "gridcolor": "white",
             "linecolor": "white",
             "minorgridcolor": "white",
             "startlinecolor": "#2a3f5f"
            },
            "baxis": {
             "endlinecolor": "#2a3f5f",
             "gridcolor": "white",
             "linecolor": "white",
             "minorgridcolor": "white",
             "startlinecolor": "#2a3f5f"
            },
            "type": "carpet"
           }
          ],
          "choropleth": [
           {
            "colorbar": {
             "outlinewidth": 0,
             "ticks": ""
            },
            "type": "choropleth"
           }
          ],
          "contour": [
           {
            "colorbar": {
             "outlinewidth": 0,
             "ticks": ""
            },
            "colorscale": [
             [
              0,
              "#0d0887"
             ],
             [
              0.1111111111111111,
              "#46039f"
             ],
             [
              0.2222222222222222,
              "#7201a8"
             ],
             [
              0.3333333333333333,
              "#9c179e"
             ],
             [
              0.4444444444444444,
              "#bd3786"
             ],
             [
              0.5555555555555556,
              "#d8576b"
             ],
             [
              0.6666666666666666,
              "#ed7953"
             ],
             [
              0.7777777777777778,
              "#fb9f3a"
             ],
             [
              0.8888888888888888,
              "#fdca26"
             ],
             [
              1,
              "#f0f921"
             ]
            ],
            "type": "contour"
           }
          ],
          "contourcarpet": [
           {
            "colorbar": {
             "outlinewidth": 0,
             "ticks": ""
            },
            "type": "contourcarpet"
           }
          ],
          "heatmap": [
           {
            "colorbar": {
             "outlinewidth": 0,
             "ticks": ""
            },
            "colorscale": [
             [
              0,
              "#0d0887"
             ],
             [
              0.1111111111111111,
              "#46039f"
             ],
             [
              0.2222222222222222,
              "#7201a8"
             ],
             [
              0.3333333333333333,
              "#9c179e"
             ],
             [
              0.4444444444444444,
              "#bd3786"
             ],
             [
              0.5555555555555556,
              "#d8576b"
             ],
             [
              0.6666666666666666,
              "#ed7953"
             ],
             [
              0.7777777777777778,
              "#fb9f3a"
             ],
             [
              0.8888888888888888,
              "#fdca26"
             ],
             [
              1,
              "#f0f921"
             ]
            ],
            "type": "heatmap"
           }
          ],
          "heatmapgl": [
           {
            "colorbar": {
             "outlinewidth": 0,
             "ticks": ""
            },
            "colorscale": [
             [
              0,
              "#0d0887"
             ],
             [
              0.1111111111111111,
              "#46039f"
             ],
             [
              0.2222222222222222,
              "#7201a8"
             ],
             [
              0.3333333333333333,
              "#9c179e"
             ],
             [
              0.4444444444444444,
              "#bd3786"
             ],
             [
              0.5555555555555556,
              "#d8576b"
             ],
             [
              0.6666666666666666,
              "#ed7953"
             ],
             [
              0.7777777777777778,
              "#fb9f3a"
             ],
             [
              0.8888888888888888,
              "#fdca26"
             ],
             [
              1,
              "#f0f921"
             ]
            ],
            "type": "heatmapgl"
           }
          ],
          "histogram": [
           {
            "marker": {
             "pattern": {
              "fillmode": "overlay",
              "size": 10,
              "solidity": 0.2
             }
            },
            "type": "histogram"
           }
          ],
          "histogram2d": [
           {
            "colorbar": {
             "outlinewidth": 0,
             "ticks": ""
            },
            "colorscale": [
             [
              0,
              "#0d0887"
             ],
             [
              0.1111111111111111,
              "#46039f"
             ],
             [
              0.2222222222222222,
              "#7201a8"
             ],
             [
              0.3333333333333333,
              "#9c179e"
             ],
             [
              0.4444444444444444,
              "#bd3786"
             ],
             [
              0.5555555555555556,
              "#d8576b"
             ],
             [
              0.6666666666666666,
              "#ed7953"
             ],
             [
              0.7777777777777778,
              "#fb9f3a"
             ],
             [
              0.8888888888888888,
              "#fdca26"
             ],
             [
              1,
              "#f0f921"
             ]
            ],
            "type": "histogram2d"
           }
          ],
          "histogram2dcontour": [
           {
            "colorbar": {
             "outlinewidth": 0,
             "ticks": ""
            },
            "colorscale": [
             [
              0,
              "#0d0887"
             ],
             [
              0.1111111111111111,
              "#46039f"
             ],
             [
              0.2222222222222222,
              "#7201a8"
             ],
             [
              0.3333333333333333,
              "#9c179e"
             ],
             [
              0.4444444444444444,
              "#bd3786"
             ],
             [
              0.5555555555555556,
              "#d8576b"
             ],
             [
              0.6666666666666666,
              "#ed7953"
             ],
             [
              0.7777777777777778,
              "#fb9f3a"
             ],
             [
              0.8888888888888888,
              "#fdca26"
             ],
             [
              1,
              "#f0f921"
             ]
            ],
            "type": "histogram2dcontour"
           }
          ],
          "mesh3d": [
           {
            "colorbar": {
             "outlinewidth": 0,
             "ticks": ""
            },
            "type": "mesh3d"
           }
          ],
          "parcoords": [
           {
            "line": {
             "colorbar": {
              "outlinewidth": 0,
              "ticks": ""
             }
            },
            "type": "parcoords"
           }
          ],
          "pie": [
           {
            "automargin": true,
            "type": "pie"
           }
          ],
          "scatter": [
           {
            "fillpattern": {
             "fillmode": "overlay",
             "size": 10,
             "solidity": 0.2
            },
            "type": "scatter"
           }
          ],
          "scatter3d": [
           {
            "line": {
             "colorbar": {
              "outlinewidth": 0,
              "ticks": ""
             }
            },
            "marker": {
             "colorbar": {
              "outlinewidth": 0,
              "ticks": ""
             }
            },
            "type": "scatter3d"
           }
          ],
          "scattercarpet": [
           {
            "marker": {
             "colorbar": {
              "outlinewidth": 0,
              "ticks": ""
             }
            },
            "type": "scattercarpet"
           }
          ],
          "scattergeo": [
           {
            "marker": {
             "colorbar": {
              "outlinewidth": 0,
              "ticks": ""
             }
            },
            "type": "scattergeo"
           }
          ],
          "scattergl": [
           {
            "marker": {
             "colorbar": {
              "outlinewidth": 0,
              "ticks": ""
             }
            },
            "type": "scattergl"
           }
          ],
          "scattermapbox": [
           {
            "marker": {
             "colorbar": {
              "outlinewidth": 0,
              "ticks": ""
             }
            },
            "type": "scattermapbox"
           }
          ],
          "scatterpolar": [
           {
            "marker": {
             "colorbar": {
              "outlinewidth": 0,
              "ticks": ""
             }
            },
            "type": "scatterpolar"
           }
          ],
          "scatterpolargl": [
           {
            "marker": {
             "colorbar": {
              "outlinewidth": 0,
              "ticks": ""
             }
            },
            "type": "scatterpolargl"
           }
          ],
          "scatterternary": [
           {
            "marker": {
             "colorbar": {
              "outlinewidth": 0,
              "ticks": ""
             }
            },
            "type": "scatterternary"
           }
          ],
          "surface": [
           {
            "colorbar": {
             "outlinewidth": 0,
             "ticks": ""
            },
            "colorscale": [
             [
              0,
              "#0d0887"
             ],
             [
              0.1111111111111111,
              "#46039f"
             ],
             [
              0.2222222222222222,
              "#7201a8"
             ],
             [
              0.3333333333333333,
              "#9c179e"
             ],
             [
              0.4444444444444444,
              "#bd3786"
             ],
             [
              0.5555555555555556,
              "#d8576b"
             ],
             [
              0.6666666666666666,
              "#ed7953"
             ],
             [
              0.7777777777777778,
              "#fb9f3a"
             ],
             [
              0.8888888888888888,
              "#fdca26"
             ],
             [
              1,
              "#f0f921"
             ]
            ],
            "type": "surface"
           }
          ],
          "table": [
           {
            "cells": {
             "fill": {
              "color": "#EBF0F8"
             },
             "line": {
              "color": "white"
             }
            },
            "header": {
             "fill": {
              "color": "#C8D4E3"
             },
             "line": {
              "color": "white"
             }
            },
            "type": "table"
           }
          ]
         },
         "layout": {
          "annotationdefaults": {
           "arrowcolor": "#2a3f5f",
           "arrowhead": 0,
           "arrowwidth": 1
          },
          "autotypenumbers": "strict",
          "coloraxis": {
           "colorbar": {
            "outlinewidth": 0,
            "ticks": ""
           }
          },
          "colorscale": {
           "diverging": [
            [
             0,
             "#8e0152"
            ],
            [
             0.1,
             "#c51b7d"
            ],
            [
             0.2,
             "#de77ae"
            ],
            [
             0.3,
             "#f1b6da"
            ],
            [
             0.4,
             "#fde0ef"
            ],
            [
             0.5,
             "#f7f7f7"
            ],
            [
             0.6,
             "#e6f5d0"
            ],
            [
             0.7,
             "#b8e186"
            ],
            [
             0.8,
             "#7fbc41"
            ],
            [
             0.9,
             "#4d9221"
            ],
            [
             1,
             "#276419"
            ]
           ],
           "sequential": [
            [
             0,
             "#0d0887"
            ],
            [
             0.1111111111111111,
             "#46039f"
            ],
            [
             0.2222222222222222,
             "#7201a8"
            ],
            [
             0.3333333333333333,
             "#9c179e"
            ],
            [
             0.4444444444444444,
             "#bd3786"
            ],
            [
             0.5555555555555556,
             "#d8576b"
            ],
            [
             0.6666666666666666,
             "#ed7953"
            ],
            [
             0.7777777777777778,
             "#fb9f3a"
            ],
            [
             0.8888888888888888,
             "#fdca26"
            ],
            [
             1,
             "#f0f921"
            ]
           ],
           "sequentialminus": [
            [
             0,
             "#0d0887"
            ],
            [
             0.1111111111111111,
             "#46039f"
            ],
            [
             0.2222222222222222,
             "#7201a8"
            ],
            [
             0.3333333333333333,
             "#9c179e"
            ],
            [
             0.4444444444444444,
             "#bd3786"
            ],
            [
             0.5555555555555556,
             "#d8576b"
            ],
            [
             0.6666666666666666,
             "#ed7953"
            ],
            [
             0.7777777777777778,
             "#fb9f3a"
            ],
            [
             0.8888888888888888,
             "#fdca26"
            ],
            [
             1,
             "#f0f921"
            ]
           ]
          },
          "colorway": [
           "#636efa",
           "#EF553B",
           "#00cc96",
           "#ab63fa",
           "#FFA15A",
           "#19d3f3",
           "#FF6692",
           "#B6E880",
           "#FF97FF",
           "#FECB52"
          ],
          "font": {
           "color": "#2a3f5f"
          },
          "geo": {
           "bgcolor": "white",
           "lakecolor": "white",
           "landcolor": "#E5ECF6",
           "showlakes": true,
           "showland": true,
           "subunitcolor": "white"
          },
          "hoverlabel": {
           "align": "left"
          },
          "hovermode": "closest",
          "mapbox": {
           "style": "light"
          },
          "paper_bgcolor": "white",
          "plot_bgcolor": "#E5ECF6",
          "polar": {
           "angularaxis": {
            "gridcolor": "white",
            "linecolor": "white",
            "ticks": ""
           },
           "bgcolor": "#E5ECF6",
           "radialaxis": {
            "gridcolor": "white",
            "linecolor": "white",
            "ticks": ""
           }
          },
          "scene": {
           "xaxis": {
            "backgroundcolor": "#E5ECF6",
            "gridcolor": "white",
            "gridwidth": 2,
            "linecolor": "white",
            "showbackground": true,
            "ticks": "",
            "zerolinecolor": "white"
           },
           "yaxis": {
            "backgroundcolor": "#E5ECF6",
            "gridcolor": "white",
            "gridwidth": 2,
            "linecolor": "white",
            "showbackground": true,
            "ticks": "",
            "zerolinecolor": "white"
           },
           "zaxis": {
            "backgroundcolor": "#E5ECF6",
            "gridcolor": "white",
            "gridwidth": 2,
            "linecolor": "white",
            "showbackground": true,
            "ticks": "",
            "zerolinecolor": "white"
           }
          },
          "shapedefaults": {
           "line": {
            "color": "#2a3f5f"
           }
          },
          "ternary": {
           "aaxis": {
            "gridcolor": "white",
            "linecolor": "white",
            "ticks": ""
           },
           "baxis": {
            "gridcolor": "white",
            "linecolor": "white",
            "ticks": ""
           },
           "bgcolor": "#E5ECF6",
           "caxis": {
            "gridcolor": "white",
            "linecolor": "white",
            "ticks": ""
           }
          },
          "title": {
           "x": 0.05
          },
          "xaxis": {
           "automargin": true,
           "gridcolor": "white",
           "linecolor": "white",
           "ticks": "",
           "title": {
            "standoff": 15
           },
           "zerolinecolor": "white",
           "zerolinewidth": 2
          },
          "yaxis": {
           "automargin": true,
           "gridcolor": "white",
           "linecolor": "white",
           "ticks": "",
           "title": {
            "standoff": 15
           },
           "zerolinecolor": "white",
           "zerolinewidth": 2
          }
         }
        },
        "title": {
         "text": "Situação Trabalhista por Faixa Etária"
        },
        "xaxis": {
         "anchor": "y",
         "domain": [
          0,
          1
         ],
         "title": {
          "text": "Faixa Etária"
         }
        },
        "yaxis": {
         "anchor": "x",
         "domain": [
          0,
          1
         ],
         "title": {
          "text": "Quantidade"
         }
        }
       }
      }
     },
     "metadata": {},
     "output_type": "display_data"
    }
   ],
   "source": [
    "# Exemplo de DataFrame com colunas 'Faixa Etária' e 'Situação no Mercado de Trabalho'\n",
    "df_grouped = df_incluses.groupby(['Faixa Etária', 'Situação no Mercado de Trabalho']).size().reset_index(name='Contagem')\n",
    "\n",
    "# Criando o gráfico de barras empilhadas\n",
    "fig = px.bar(df_grouped, \n",
    "             x='Faixa Etária', \n",
    "             y='Contagem', \n",
    "             color='Situação no Mercado de Trabalho', \n",
    "             title='Situação Trabalhista por Faixa Etária',\n",
    "             labels={'Contagem': 'Quantidade', 'Faixa Etária': 'Faixa Etária'},\n",
    "             barmode='stack')\n",
    "\n",
    "fig.show()"
   ]
  },
  {
   "cell_type": "markdown",
   "metadata": {},
   "source": [
    "#### Vendo a relação entre 'Faixa Etária' e 'Escolaridade'"
   ]
  },
  {
   "cell_type": "code",
   "execution_count": 8,
   "metadata": {},
   "outputs": [
    {
     "data": {
      "application/vnd.plotly.v1+json": {
       "config": {
        "plotlyServerURL": "https://plot.ly"
       },
       "data": [
        {
         "alignmentgroup": "True",
         "hovertemplate": "Escolaridade=Ensino Médio completo ou cursando<br>Faixa Etária=%{x}<br>Quantidade=%{y}<extra></extra>",
         "legendgroup": "Ensino Médio completo ou cursando",
         "marker": {
          "color": "#636efa",
          "pattern": {
           "shape": ""
          }
         },
         "name": "Ensino Médio completo ou cursando",
         "offsetgroup": "Ensino Médio completo ou cursando",
         "orientation": "v",
         "showlegend": true,
         "textposition": "auto",
         "type": "bar",
         "x": [
          "18-24 anos",
          "25-34 anos",
          "Menos de 18 anos"
         ],
         "xaxis": "x",
         "y": [
          1,
          1,
          4
         ],
         "yaxis": "y"
        },
        {
         "alignmentgroup": "True",
         "hovertemplate": "Escolaridade=Ensino Superior completo ou cursando<br>Faixa Etária=%{x}<br>Quantidade=%{y}<extra></extra>",
         "legendgroup": "Ensino Superior completo ou cursando",
         "marker": {
          "color": "#EF553B",
          "pattern": {
           "shape": ""
          }
         },
         "name": "Ensino Superior completo ou cursando",
         "offsetgroup": "Ensino Superior completo ou cursando",
         "orientation": "v",
         "showlegend": true,
         "textposition": "auto",
         "type": "bar",
         "x": [
          "18-24 anos",
          "25-34 anos",
          "35-44 anos",
          "45-54 anos",
          "55 anos ou mais"
         ],
         "xaxis": "x",
         "y": [
          1,
          8,
          4,
          1,
          1
         ],
         "yaxis": "y"
        },
        {
         "alignmentgroup": "True",
         "hovertemplate": "Escolaridade=Nenhum<br>Faixa Etária=%{x}<br>Quantidade=%{y}<extra></extra>",
         "legendgroup": "Nenhum",
         "marker": {
          "color": "#00cc96",
          "pattern": {
           "shape": ""
          }
         },
         "name": "Nenhum",
         "offsetgroup": "Nenhum",
         "orientation": "v",
         "showlegend": true,
         "textposition": "auto",
         "type": "bar",
         "x": [
          "55 anos ou mais",
          "Menos de 18 anos"
         ],
         "xaxis": "x",
         "y": [
          1,
          7
         ],
         "yaxis": "y"
        },
        {
         "alignmentgroup": "True",
         "hovertemplate": "Escolaridade=Ensino Fundamental completo ou cursando<br>Faixa Etária=%{x}<br>Quantidade=%{y}<extra></extra>",
         "legendgroup": "Ensino Fundamental completo ou cursando",
         "marker": {
          "color": "#ab63fa",
          "pattern": {
           "shape": ""
          }
         },
         "name": "Ensino Fundamental completo ou cursando",
         "offsetgroup": "Ensino Fundamental completo ou cursando",
         "orientation": "v",
         "showlegend": true,
         "textposition": "auto",
         "type": "bar",
         "x": [
          "Menos de 18 anos"
         ],
         "xaxis": "x",
         "y": [
          18
         ],
         "yaxis": "y"
        }
       ],
       "layout": {
        "barmode": "stack",
        "legend": {
         "title": {
          "text": "Escolaridade"
         },
         "tracegroupgap": 0
        },
        "template": {
         "data": {
          "bar": [
           {
            "error_x": {
             "color": "#2a3f5f"
            },
            "error_y": {
             "color": "#2a3f5f"
            },
            "marker": {
             "line": {
              "color": "#E5ECF6",
              "width": 0.5
             },
             "pattern": {
              "fillmode": "overlay",
              "size": 10,
              "solidity": 0.2
             }
            },
            "type": "bar"
           }
          ],
          "barpolar": [
           {
            "marker": {
             "line": {
              "color": "#E5ECF6",
              "width": 0.5
             },
             "pattern": {
              "fillmode": "overlay",
              "size": 10,
              "solidity": 0.2
             }
            },
            "type": "barpolar"
           }
          ],
          "carpet": [
           {
            "aaxis": {
             "endlinecolor": "#2a3f5f",
             "gridcolor": "white",
             "linecolor": "white",
             "minorgridcolor": "white",
             "startlinecolor": "#2a3f5f"
            },
            "baxis": {
             "endlinecolor": "#2a3f5f",
             "gridcolor": "white",
             "linecolor": "white",
             "minorgridcolor": "white",
             "startlinecolor": "#2a3f5f"
            },
            "type": "carpet"
           }
          ],
          "choropleth": [
           {
            "colorbar": {
             "outlinewidth": 0,
             "ticks": ""
            },
            "type": "choropleth"
           }
          ],
          "contour": [
           {
            "colorbar": {
             "outlinewidth": 0,
             "ticks": ""
            },
            "colorscale": [
             [
              0,
              "#0d0887"
             ],
             [
              0.1111111111111111,
              "#46039f"
             ],
             [
              0.2222222222222222,
              "#7201a8"
             ],
             [
              0.3333333333333333,
              "#9c179e"
             ],
             [
              0.4444444444444444,
              "#bd3786"
             ],
             [
              0.5555555555555556,
              "#d8576b"
             ],
             [
              0.6666666666666666,
              "#ed7953"
             ],
             [
              0.7777777777777778,
              "#fb9f3a"
             ],
             [
              0.8888888888888888,
              "#fdca26"
             ],
             [
              1,
              "#f0f921"
             ]
            ],
            "type": "contour"
           }
          ],
          "contourcarpet": [
           {
            "colorbar": {
             "outlinewidth": 0,
             "ticks": ""
            },
            "type": "contourcarpet"
           }
          ],
          "heatmap": [
           {
            "colorbar": {
             "outlinewidth": 0,
             "ticks": ""
            },
            "colorscale": [
             [
              0,
              "#0d0887"
             ],
             [
              0.1111111111111111,
              "#46039f"
             ],
             [
              0.2222222222222222,
              "#7201a8"
             ],
             [
              0.3333333333333333,
              "#9c179e"
             ],
             [
              0.4444444444444444,
              "#bd3786"
             ],
             [
              0.5555555555555556,
              "#d8576b"
             ],
             [
              0.6666666666666666,
              "#ed7953"
             ],
             [
              0.7777777777777778,
              "#fb9f3a"
             ],
             [
              0.8888888888888888,
              "#fdca26"
             ],
             [
              1,
              "#f0f921"
             ]
            ],
            "type": "heatmap"
           }
          ],
          "heatmapgl": [
           {
            "colorbar": {
             "outlinewidth": 0,
             "ticks": ""
            },
            "colorscale": [
             [
              0,
              "#0d0887"
             ],
             [
              0.1111111111111111,
              "#46039f"
             ],
             [
              0.2222222222222222,
              "#7201a8"
             ],
             [
              0.3333333333333333,
              "#9c179e"
             ],
             [
              0.4444444444444444,
              "#bd3786"
             ],
             [
              0.5555555555555556,
              "#d8576b"
             ],
             [
              0.6666666666666666,
              "#ed7953"
             ],
             [
              0.7777777777777778,
              "#fb9f3a"
             ],
             [
              0.8888888888888888,
              "#fdca26"
             ],
             [
              1,
              "#f0f921"
             ]
            ],
            "type": "heatmapgl"
           }
          ],
          "histogram": [
           {
            "marker": {
             "pattern": {
              "fillmode": "overlay",
              "size": 10,
              "solidity": 0.2
             }
            },
            "type": "histogram"
           }
          ],
          "histogram2d": [
           {
            "colorbar": {
             "outlinewidth": 0,
             "ticks": ""
            },
            "colorscale": [
             [
              0,
              "#0d0887"
             ],
             [
              0.1111111111111111,
              "#46039f"
             ],
             [
              0.2222222222222222,
              "#7201a8"
             ],
             [
              0.3333333333333333,
              "#9c179e"
             ],
             [
              0.4444444444444444,
              "#bd3786"
             ],
             [
              0.5555555555555556,
              "#d8576b"
             ],
             [
              0.6666666666666666,
              "#ed7953"
             ],
             [
              0.7777777777777778,
              "#fb9f3a"
             ],
             [
              0.8888888888888888,
              "#fdca26"
             ],
             [
              1,
              "#f0f921"
             ]
            ],
            "type": "histogram2d"
           }
          ],
          "histogram2dcontour": [
           {
            "colorbar": {
             "outlinewidth": 0,
             "ticks": ""
            },
            "colorscale": [
             [
              0,
              "#0d0887"
             ],
             [
              0.1111111111111111,
              "#46039f"
             ],
             [
              0.2222222222222222,
              "#7201a8"
             ],
             [
              0.3333333333333333,
              "#9c179e"
             ],
             [
              0.4444444444444444,
              "#bd3786"
             ],
             [
              0.5555555555555556,
              "#d8576b"
             ],
             [
              0.6666666666666666,
              "#ed7953"
             ],
             [
              0.7777777777777778,
              "#fb9f3a"
             ],
             [
              0.8888888888888888,
              "#fdca26"
             ],
             [
              1,
              "#f0f921"
             ]
            ],
            "type": "histogram2dcontour"
           }
          ],
          "mesh3d": [
           {
            "colorbar": {
             "outlinewidth": 0,
             "ticks": ""
            },
            "type": "mesh3d"
           }
          ],
          "parcoords": [
           {
            "line": {
             "colorbar": {
              "outlinewidth": 0,
              "ticks": ""
             }
            },
            "type": "parcoords"
           }
          ],
          "pie": [
           {
            "automargin": true,
            "type": "pie"
           }
          ],
          "scatter": [
           {
            "fillpattern": {
             "fillmode": "overlay",
             "size": 10,
             "solidity": 0.2
            },
            "type": "scatter"
           }
          ],
          "scatter3d": [
           {
            "line": {
             "colorbar": {
              "outlinewidth": 0,
              "ticks": ""
             }
            },
            "marker": {
             "colorbar": {
              "outlinewidth": 0,
              "ticks": ""
             }
            },
            "type": "scatter3d"
           }
          ],
          "scattercarpet": [
           {
            "marker": {
             "colorbar": {
              "outlinewidth": 0,
              "ticks": ""
             }
            },
            "type": "scattercarpet"
           }
          ],
          "scattergeo": [
           {
            "marker": {
             "colorbar": {
              "outlinewidth": 0,
              "ticks": ""
             }
            },
            "type": "scattergeo"
           }
          ],
          "scattergl": [
           {
            "marker": {
             "colorbar": {
              "outlinewidth": 0,
              "ticks": ""
             }
            },
            "type": "scattergl"
           }
          ],
          "scattermapbox": [
           {
            "marker": {
             "colorbar": {
              "outlinewidth": 0,
              "ticks": ""
             }
            },
            "type": "scattermapbox"
           }
          ],
          "scatterpolar": [
           {
            "marker": {
             "colorbar": {
              "outlinewidth": 0,
              "ticks": ""
             }
            },
            "type": "scatterpolar"
           }
          ],
          "scatterpolargl": [
           {
            "marker": {
             "colorbar": {
              "outlinewidth": 0,
              "ticks": ""
             }
            },
            "type": "scatterpolargl"
           }
          ],
          "scatterternary": [
           {
            "marker": {
             "colorbar": {
              "outlinewidth": 0,
              "ticks": ""
             }
            },
            "type": "scatterternary"
           }
          ],
          "surface": [
           {
            "colorbar": {
             "outlinewidth": 0,
             "ticks": ""
            },
            "colorscale": [
             [
              0,
              "#0d0887"
             ],
             [
              0.1111111111111111,
              "#46039f"
             ],
             [
              0.2222222222222222,
              "#7201a8"
             ],
             [
              0.3333333333333333,
              "#9c179e"
             ],
             [
              0.4444444444444444,
              "#bd3786"
             ],
             [
              0.5555555555555556,
              "#d8576b"
             ],
             [
              0.6666666666666666,
              "#ed7953"
             ],
             [
              0.7777777777777778,
              "#fb9f3a"
             ],
             [
              0.8888888888888888,
              "#fdca26"
             ],
             [
              1,
              "#f0f921"
             ]
            ],
            "type": "surface"
           }
          ],
          "table": [
           {
            "cells": {
             "fill": {
              "color": "#EBF0F8"
             },
             "line": {
              "color": "white"
             }
            },
            "header": {
             "fill": {
              "color": "#C8D4E3"
             },
             "line": {
              "color": "white"
             }
            },
            "type": "table"
           }
          ]
         },
         "layout": {
          "annotationdefaults": {
           "arrowcolor": "#2a3f5f",
           "arrowhead": 0,
           "arrowwidth": 1
          },
          "autotypenumbers": "strict",
          "coloraxis": {
           "colorbar": {
            "outlinewidth": 0,
            "ticks": ""
           }
          },
          "colorscale": {
           "diverging": [
            [
             0,
             "#8e0152"
            ],
            [
             0.1,
             "#c51b7d"
            ],
            [
             0.2,
             "#de77ae"
            ],
            [
             0.3,
             "#f1b6da"
            ],
            [
             0.4,
             "#fde0ef"
            ],
            [
             0.5,
             "#f7f7f7"
            ],
            [
             0.6,
             "#e6f5d0"
            ],
            [
             0.7,
             "#b8e186"
            ],
            [
             0.8,
             "#7fbc41"
            ],
            [
             0.9,
             "#4d9221"
            ],
            [
             1,
             "#276419"
            ]
           ],
           "sequential": [
            [
             0,
             "#0d0887"
            ],
            [
             0.1111111111111111,
             "#46039f"
            ],
            [
             0.2222222222222222,
             "#7201a8"
            ],
            [
             0.3333333333333333,
             "#9c179e"
            ],
            [
             0.4444444444444444,
             "#bd3786"
            ],
            [
             0.5555555555555556,
             "#d8576b"
            ],
            [
             0.6666666666666666,
             "#ed7953"
            ],
            [
             0.7777777777777778,
             "#fb9f3a"
            ],
            [
             0.8888888888888888,
             "#fdca26"
            ],
            [
             1,
             "#f0f921"
            ]
           ],
           "sequentialminus": [
            [
             0,
             "#0d0887"
            ],
            [
             0.1111111111111111,
             "#46039f"
            ],
            [
             0.2222222222222222,
             "#7201a8"
            ],
            [
             0.3333333333333333,
             "#9c179e"
            ],
            [
             0.4444444444444444,
             "#bd3786"
            ],
            [
             0.5555555555555556,
             "#d8576b"
            ],
            [
             0.6666666666666666,
             "#ed7953"
            ],
            [
             0.7777777777777778,
             "#fb9f3a"
            ],
            [
             0.8888888888888888,
             "#fdca26"
            ],
            [
             1,
             "#f0f921"
            ]
           ]
          },
          "colorway": [
           "#636efa",
           "#EF553B",
           "#00cc96",
           "#ab63fa",
           "#FFA15A",
           "#19d3f3",
           "#FF6692",
           "#B6E880",
           "#FF97FF",
           "#FECB52"
          ],
          "font": {
           "color": "#2a3f5f"
          },
          "geo": {
           "bgcolor": "white",
           "lakecolor": "white",
           "landcolor": "#E5ECF6",
           "showlakes": true,
           "showland": true,
           "subunitcolor": "white"
          },
          "hoverlabel": {
           "align": "left"
          },
          "hovermode": "closest",
          "mapbox": {
           "style": "light"
          },
          "paper_bgcolor": "white",
          "plot_bgcolor": "#E5ECF6",
          "polar": {
           "angularaxis": {
            "gridcolor": "white",
            "linecolor": "white",
            "ticks": ""
           },
           "bgcolor": "#E5ECF6",
           "radialaxis": {
            "gridcolor": "white",
            "linecolor": "white",
            "ticks": ""
           }
          },
          "scene": {
           "xaxis": {
            "backgroundcolor": "#E5ECF6",
            "gridcolor": "white",
            "gridwidth": 2,
            "linecolor": "white",
            "showbackground": true,
            "ticks": "",
            "zerolinecolor": "white"
           },
           "yaxis": {
            "backgroundcolor": "#E5ECF6",
            "gridcolor": "white",
            "gridwidth": 2,
            "linecolor": "white",
            "showbackground": true,
            "ticks": "",
            "zerolinecolor": "white"
           },
           "zaxis": {
            "backgroundcolor": "#E5ECF6",
            "gridcolor": "white",
            "gridwidth": 2,
            "linecolor": "white",
            "showbackground": true,
            "ticks": "",
            "zerolinecolor": "white"
           }
          },
          "shapedefaults": {
           "line": {
            "color": "#2a3f5f"
           }
          },
          "ternary": {
           "aaxis": {
            "gridcolor": "white",
            "linecolor": "white",
            "ticks": ""
           },
           "baxis": {
            "gridcolor": "white",
            "linecolor": "white",
            "ticks": ""
           },
           "bgcolor": "#E5ECF6",
           "caxis": {
            "gridcolor": "white",
            "linecolor": "white",
            "ticks": ""
           }
          },
          "title": {
           "x": 0.05
          },
          "xaxis": {
           "automargin": true,
           "gridcolor": "white",
           "linecolor": "white",
           "ticks": "",
           "title": {
            "standoff": 15
           },
           "zerolinecolor": "white",
           "zerolinewidth": 2
          },
          "yaxis": {
           "automargin": true,
           "gridcolor": "white",
           "linecolor": "white",
           "ticks": "",
           "title": {
            "standoff": 15
           },
           "zerolinecolor": "white",
           "zerolinewidth": 2
          }
         }
        },
        "title": {
         "text": "Escolaridade por Faixa Etária"
        },
        "xaxis": {
         "anchor": "y",
         "domain": [
          0,
          1
         ],
         "title": {
          "text": "Faixa Etária"
         }
        },
        "yaxis": {
         "anchor": "x",
         "domain": [
          0,
          1
         ],
         "title": {
          "text": "Quantidade"
         }
        }
       }
      }
     },
     "metadata": {},
     "output_type": "display_data"
    }
   ],
   "source": [
    "# Exemplo de DataFrame com colunas 'Faixa Etária' e 'Escolaridade'\n",
    "df_grouped = df_incluses.groupby(['Faixa Etária', 'Escolaridade']).size().reset_index(name='Contagem')\n",
    "\n",
    "# Criando o gráfico de barras empilhadas\n",
    "fig = px.bar(df_grouped, \n",
    "             x='Faixa Etária', \n",
    "             y='Contagem', \n",
    "             color='Escolaridade', \n",
    "             title='Escolaridade por Faixa Etária',\n",
    "             labels={'Contagem': 'Quantidade', 'Faixa Etária': 'Faixa Etária'},\n",
    "             barmode='stack')\n",
    "\n",
    "fig.show()"
   ]
  },
  {
   "cell_type": "markdown",
   "metadata": {},
   "source": [
    "#### Vendo a relação entre 'Identidade de Gênero' e 'Escolaridade'"
   ]
  },
  {
   "cell_type": "code",
   "execution_count": 9,
   "metadata": {},
   "outputs": [
    {
     "data": {
      "application/vnd.plotly.v1+json": {
       "config": {
        "plotlyServerURL": "https://plot.ly"
       },
       "data": [
        {
         "alignmentgroup": "True",
         "hovertemplate": "Escolaridade=Ensino Fundamental completo ou cursando<br>Identidade de Gênero=%{x}<br>Quantidade=%{y}<extra></extra>",
         "legendgroup": "Ensino Fundamental completo ou cursando",
         "marker": {
          "color": "#636efa",
          "pattern": {
           "shape": ""
          }
         },
         "name": "Ensino Fundamental completo ou cursando",
         "offsetgroup": "Ensino Fundamental completo ou cursando",
         "orientation": "v",
         "showlegend": true,
         "textposition": "auto",
         "type": "bar",
         "x": [
          "Homem cisgênero",
          "Mulher cisgênero",
          "Não-binário",
          "Outra",
          "Prefiro não informar"
         ],
         "xaxis": "x",
         "y": [
          2,
          11,
          1,
          2,
          2
         ],
         "yaxis": "y"
        },
        {
         "alignmentgroup": "True",
         "hovertemplate": "Escolaridade=Ensino Médio completo ou cursando<br>Identidade de Gênero=%{x}<br>Quantidade=%{y}<extra></extra>",
         "legendgroup": "Ensino Médio completo ou cursando",
         "marker": {
          "color": "#EF553B",
          "pattern": {
           "shape": ""
          }
         },
         "name": "Ensino Médio completo ou cursando",
         "offsetgroup": "Ensino Médio completo ou cursando",
         "orientation": "v",
         "showlegend": true,
         "textposition": "auto",
         "type": "bar",
         "x": [
          "Homem cisgênero",
          "Mulher cisgênero",
          "Prefiro não informar"
         ],
         "xaxis": "x",
         "y": [
          2,
          3,
          1
         ],
         "yaxis": "y"
        },
        {
         "alignmentgroup": "True",
         "hovertemplate": "Escolaridade=Ensino Superior completo ou cursando<br>Identidade de Gênero=%{x}<br>Quantidade=%{y}<extra></extra>",
         "legendgroup": "Ensino Superior completo ou cursando",
         "marker": {
          "color": "#00cc96",
          "pattern": {
           "shape": ""
          }
         },
         "name": "Ensino Superior completo ou cursando",
         "offsetgroup": "Ensino Superior completo ou cursando",
         "orientation": "v",
         "showlegend": true,
         "textposition": "auto",
         "type": "bar",
         "x": [
          "Homem cisgênero",
          "Mulher cisgênero",
          "Não-binário",
          "Outra",
          "transgênero"
         ],
         "xaxis": "x",
         "y": [
          8,
          3,
          1,
          1,
          2
         ],
         "yaxis": "y"
        },
        {
         "alignmentgroup": "True",
         "hovertemplate": "Escolaridade=Nenhum<br>Identidade de Gênero=%{x}<br>Quantidade=%{y}<extra></extra>",
         "legendgroup": "Nenhum",
         "marker": {
          "color": "#ab63fa",
          "pattern": {
           "shape": ""
          }
         },
         "name": "Nenhum",
         "offsetgroup": "Nenhum",
         "orientation": "v",
         "showlegend": true,
         "textposition": "auto",
         "type": "bar",
         "x": [
          "Homem cisgênero",
          "Mulher cisgênero",
          "Não-binário",
          "Outra",
          "transgênero"
         ],
         "xaxis": "x",
         "y": [
          1,
          3,
          1,
          1,
          2
         ],
         "yaxis": "y"
        }
       ],
       "layout": {
        "barmode": "stack",
        "legend": {
         "title": {
          "text": "Escolaridade"
         },
         "tracegroupgap": 0
        },
        "template": {
         "data": {
          "bar": [
           {
            "error_x": {
             "color": "#2a3f5f"
            },
            "error_y": {
             "color": "#2a3f5f"
            },
            "marker": {
             "line": {
              "color": "#E5ECF6",
              "width": 0.5
             },
             "pattern": {
              "fillmode": "overlay",
              "size": 10,
              "solidity": 0.2
             }
            },
            "type": "bar"
           }
          ],
          "barpolar": [
           {
            "marker": {
             "line": {
              "color": "#E5ECF6",
              "width": 0.5
             },
             "pattern": {
              "fillmode": "overlay",
              "size": 10,
              "solidity": 0.2
             }
            },
            "type": "barpolar"
           }
          ],
          "carpet": [
           {
            "aaxis": {
             "endlinecolor": "#2a3f5f",
             "gridcolor": "white",
             "linecolor": "white",
             "minorgridcolor": "white",
             "startlinecolor": "#2a3f5f"
            },
            "baxis": {
             "endlinecolor": "#2a3f5f",
             "gridcolor": "white",
             "linecolor": "white",
             "minorgridcolor": "white",
             "startlinecolor": "#2a3f5f"
            },
            "type": "carpet"
           }
          ],
          "choropleth": [
           {
            "colorbar": {
             "outlinewidth": 0,
             "ticks": ""
            },
            "type": "choropleth"
           }
          ],
          "contour": [
           {
            "colorbar": {
             "outlinewidth": 0,
             "ticks": ""
            },
            "colorscale": [
             [
              0,
              "#0d0887"
             ],
             [
              0.1111111111111111,
              "#46039f"
             ],
             [
              0.2222222222222222,
              "#7201a8"
             ],
             [
              0.3333333333333333,
              "#9c179e"
             ],
             [
              0.4444444444444444,
              "#bd3786"
             ],
             [
              0.5555555555555556,
              "#d8576b"
             ],
             [
              0.6666666666666666,
              "#ed7953"
             ],
             [
              0.7777777777777778,
              "#fb9f3a"
             ],
             [
              0.8888888888888888,
              "#fdca26"
             ],
             [
              1,
              "#f0f921"
             ]
            ],
            "type": "contour"
           }
          ],
          "contourcarpet": [
           {
            "colorbar": {
             "outlinewidth": 0,
             "ticks": ""
            },
            "type": "contourcarpet"
           }
          ],
          "heatmap": [
           {
            "colorbar": {
             "outlinewidth": 0,
             "ticks": ""
            },
            "colorscale": [
             [
              0,
              "#0d0887"
             ],
             [
              0.1111111111111111,
              "#46039f"
             ],
             [
              0.2222222222222222,
              "#7201a8"
             ],
             [
              0.3333333333333333,
              "#9c179e"
             ],
             [
              0.4444444444444444,
              "#bd3786"
             ],
             [
              0.5555555555555556,
              "#d8576b"
             ],
             [
              0.6666666666666666,
              "#ed7953"
             ],
             [
              0.7777777777777778,
              "#fb9f3a"
             ],
             [
              0.8888888888888888,
              "#fdca26"
             ],
             [
              1,
              "#f0f921"
             ]
            ],
            "type": "heatmap"
           }
          ],
          "heatmapgl": [
           {
            "colorbar": {
             "outlinewidth": 0,
             "ticks": ""
            },
            "colorscale": [
             [
              0,
              "#0d0887"
             ],
             [
              0.1111111111111111,
              "#46039f"
             ],
             [
              0.2222222222222222,
              "#7201a8"
             ],
             [
              0.3333333333333333,
              "#9c179e"
             ],
             [
              0.4444444444444444,
              "#bd3786"
             ],
             [
              0.5555555555555556,
              "#d8576b"
             ],
             [
              0.6666666666666666,
              "#ed7953"
             ],
             [
              0.7777777777777778,
              "#fb9f3a"
             ],
             [
              0.8888888888888888,
              "#fdca26"
             ],
             [
              1,
              "#f0f921"
             ]
            ],
            "type": "heatmapgl"
           }
          ],
          "histogram": [
           {
            "marker": {
             "pattern": {
              "fillmode": "overlay",
              "size": 10,
              "solidity": 0.2
             }
            },
            "type": "histogram"
           }
          ],
          "histogram2d": [
           {
            "colorbar": {
             "outlinewidth": 0,
             "ticks": ""
            },
            "colorscale": [
             [
              0,
              "#0d0887"
             ],
             [
              0.1111111111111111,
              "#46039f"
             ],
             [
              0.2222222222222222,
              "#7201a8"
             ],
             [
              0.3333333333333333,
              "#9c179e"
             ],
             [
              0.4444444444444444,
              "#bd3786"
             ],
             [
              0.5555555555555556,
              "#d8576b"
             ],
             [
              0.6666666666666666,
              "#ed7953"
             ],
             [
              0.7777777777777778,
              "#fb9f3a"
             ],
             [
              0.8888888888888888,
              "#fdca26"
             ],
             [
              1,
              "#f0f921"
             ]
            ],
            "type": "histogram2d"
           }
          ],
          "histogram2dcontour": [
           {
            "colorbar": {
             "outlinewidth": 0,
             "ticks": ""
            },
            "colorscale": [
             [
              0,
              "#0d0887"
             ],
             [
              0.1111111111111111,
              "#46039f"
             ],
             [
              0.2222222222222222,
              "#7201a8"
             ],
             [
              0.3333333333333333,
              "#9c179e"
             ],
             [
              0.4444444444444444,
              "#bd3786"
             ],
             [
              0.5555555555555556,
              "#d8576b"
             ],
             [
              0.6666666666666666,
              "#ed7953"
             ],
             [
              0.7777777777777778,
              "#fb9f3a"
             ],
             [
              0.8888888888888888,
              "#fdca26"
             ],
             [
              1,
              "#f0f921"
             ]
            ],
            "type": "histogram2dcontour"
           }
          ],
          "mesh3d": [
           {
            "colorbar": {
             "outlinewidth": 0,
             "ticks": ""
            },
            "type": "mesh3d"
           }
          ],
          "parcoords": [
           {
            "line": {
             "colorbar": {
              "outlinewidth": 0,
              "ticks": ""
             }
            },
            "type": "parcoords"
           }
          ],
          "pie": [
           {
            "automargin": true,
            "type": "pie"
           }
          ],
          "scatter": [
           {
            "fillpattern": {
             "fillmode": "overlay",
             "size": 10,
             "solidity": 0.2
            },
            "type": "scatter"
           }
          ],
          "scatter3d": [
           {
            "line": {
             "colorbar": {
              "outlinewidth": 0,
              "ticks": ""
             }
            },
            "marker": {
             "colorbar": {
              "outlinewidth": 0,
              "ticks": ""
             }
            },
            "type": "scatter3d"
           }
          ],
          "scattercarpet": [
           {
            "marker": {
             "colorbar": {
              "outlinewidth": 0,
              "ticks": ""
             }
            },
            "type": "scattercarpet"
           }
          ],
          "scattergeo": [
           {
            "marker": {
             "colorbar": {
              "outlinewidth": 0,
              "ticks": ""
             }
            },
            "type": "scattergeo"
           }
          ],
          "scattergl": [
           {
            "marker": {
             "colorbar": {
              "outlinewidth": 0,
              "ticks": ""
             }
            },
            "type": "scattergl"
           }
          ],
          "scattermapbox": [
           {
            "marker": {
             "colorbar": {
              "outlinewidth": 0,
              "ticks": ""
             }
            },
            "type": "scattermapbox"
           }
          ],
          "scatterpolar": [
           {
            "marker": {
             "colorbar": {
              "outlinewidth": 0,
              "ticks": ""
             }
            },
            "type": "scatterpolar"
           }
          ],
          "scatterpolargl": [
           {
            "marker": {
             "colorbar": {
              "outlinewidth": 0,
              "ticks": ""
             }
            },
            "type": "scatterpolargl"
           }
          ],
          "scatterternary": [
           {
            "marker": {
             "colorbar": {
              "outlinewidth": 0,
              "ticks": ""
             }
            },
            "type": "scatterternary"
           }
          ],
          "surface": [
           {
            "colorbar": {
             "outlinewidth": 0,
             "ticks": ""
            },
            "colorscale": [
             [
              0,
              "#0d0887"
             ],
             [
              0.1111111111111111,
              "#46039f"
             ],
             [
              0.2222222222222222,
              "#7201a8"
             ],
             [
              0.3333333333333333,
              "#9c179e"
             ],
             [
              0.4444444444444444,
              "#bd3786"
             ],
             [
              0.5555555555555556,
              "#d8576b"
             ],
             [
              0.6666666666666666,
              "#ed7953"
             ],
             [
              0.7777777777777778,
              "#fb9f3a"
             ],
             [
              0.8888888888888888,
              "#fdca26"
             ],
             [
              1,
              "#f0f921"
             ]
            ],
            "type": "surface"
           }
          ],
          "table": [
           {
            "cells": {
             "fill": {
              "color": "#EBF0F8"
             },
             "line": {
              "color": "white"
             }
            },
            "header": {
             "fill": {
              "color": "#C8D4E3"
             },
             "line": {
              "color": "white"
             }
            },
            "type": "table"
           }
          ]
         },
         "layout": {
          "annotationdefaults": {
           "arrowcolor": "#2a3f5f",
           "arrowhead": 0,
           "arrowwidth": 1
          },
          "autotypenumbers": "strict",
          "coloraxis": {
           "colorbar": {
            "outlinewidth": 0,
            "ticks": ""
           }
          },
          "colorscale": {
           "diverging": [
            [
             0,
             "#8e0152"
            ],
            [
             0.1,
             "#c51b7d"
            ],
            [
             0.2,
             "#de77ae"
            ],
            [
             0.3,
             "#f1b6da"
            ],
            [
             0.4,
             "#fde0ef"
            ],
            [
             0.5,
             "#f7f7f7"
            ],
            [
             0.6,
             "#e6f5d0"
            ],
            [
             0.7,
             "#b8e186"
            ],
            [
             0.8,
             "#7fbc41"
            ],
            [
             0.9,
             "#4d9221"
            ],
            [
             1,
             "#276419"
            ]
           ],
           "sequential": [
            [
             0,
             "#0d0887"
            ],
            [
             0.1111111111111111,
             "#46039f"
            ],
            [
             0.2222222222222222,
             "#7201a8"
            ],
            [
             0.3333333333333333,
             "#9c179e"
            ],
            [
             0.4444444444444444,
             "#bd3786"
            ],
            [
             0.5555555555555556,
             "#d8576b"
            ],
            [
             0.6666666666666666,
             "#ed7953"
            ],
            [
             0.7777777777777778,
             "#fb9f3a"
            ],
            [
             0.8888888888888888,
             "#fdca26"
            ],
            [
             1,
             "#f0f921"
            ]
           ],
           "sequentialminus": [
            [
             0,
             "#0d0887"
            ],
            [
             0.1111111111111111,
             "#46039f"
            ],
            [
             0.2222222222222222,
             "#7201a8"
            ],
            [
             0.3333333333333333,
             "#9c179e"
            ],
            [
             0.4444444444444444,
             "#bd3786"
            ],
            [
             0.5555555555555556,
             "#d8576b"
            ],
            [
             0.6666666666666666,
             "#ed7953"
            ],
            [
             0.7777777777777778,
             "#fb9f3a"
            ],
            [
             0.8888888888888888,
             "#fdca26"
            ],
            [
             1,
             "#f0f921"
            ]
           ]
          },
          "colorway": [
           "#636efa",
           "#EF553B",
           "#00cc96",
           "#ab63fa",
           "#FFA15A",
           "#19d3f3",
           "#FF6692",
           "#B6E880",
           "#FF97FF",
           "#FECB52"
          ],
          "font": {
           "color": "#2a3f5f"
          },
          "geo": {
           "bgcolor": "white",
           "lakecolor": "white",
           "landcolor": "#E5ECF6",
           "showlakes": true,
           "showland": true,
           "subunitcolor": "white"
          },
          "hoverlabel": {
           "align": "left"
          },
          "hovermode": "closest",
          "mapbox": {
           "style": "light"
          },
          "paper_bgcolor": "white",
          "plot_bgcolor": "#E5ECF6",
          "polar": {
           "angularaxis": {
            "gridcolor": "white",
            "linecolor": "white",
            "ticks": ""
           },
           "bgcolor": "#E5ECF6",
           "radialaxis": {
            "gridcolor": "white",
            "linecolor": "white",
            "ticks": ""
           }
          },
          "scene": {
           "xaxis": {
            "backgroundcolor": "#E5ECF6",
            "gridcolor": "white",
            "gridwidth": 2,
            "linecolor": "white",
            "showbackground": true,
            "ticks": "",
            "zerolinecolor": "white"
           },
           "yaxis": {
            "backgroundcolor": "#E5ECF6",
            "gridcolor": "white",
            "gridwidth": 2,
            "linecolor": "white",
            "showbackground": true,
            "ticks": "",
            "zerolinecolor": "white"
           },
           "zaxis": {
            "backgroundcolor": "#E5ECF6",
            "gridcolor": "white",
            "gridwidth": 2,
            "linecolor": "white",
            "showbackground": true,
            "ticks": "",
            "zerolinecolor": "white"
           }
          },
          "shapedefaults": {
           "line": {
            "color": "#2a3f5f"
           }
          },
          "ternary": {
           "aaxis": {
            "gridcolor": "white",
            "linecolor": "white",
            "ticks": ""
           },
           "baxis": {
            "gridcolor": "white",
            "linecolor": "white",
            "ticks": ""
           },
           "bgcolor": "#E5ECF6",
           "caxis": {
            "gridcolor": "white",
            "linecolor": "white",
            "ticks": ""
           }
          },
          "title": {
           "x": 0.05
          },
          "xaxis": {
           "automargin": true,
           "gridcolor": "white",
           "linecolor": "white",
           "ticks": "",
           "title": {
            "standoff": 15
           },
           "zerolinecolor": "white",
           "zerolinewidth": 2
          },
          "yaxis": {
           "automargin": true,
           "gridcolor": "white",
           "linecolor": "white",
           "ticks": "",
           "title": {
            "standoff": 15
           },
           "zerolinecolor": "white",
           "zerolinewidth": 2
          }
         }
        },
        "title": {
         "text": "Escolaridade por Identidade de Gênero"
        },
        "xaxis": {
         "anchor": "y",
         "domain": [
          0,
          1
         ],
         "title": {
          "text": "Identidade de Gênero"
         }
        },
        "yaxis": {
         "anchor": "x",
         "domain": [
          0,
          1
         ],
         "title": {
          "text": "Quantidade"
         }
        }
       }
      }
     },
     "metadata": {},
     "output_type": "display_data"
    }
   ],
   "source": [
    "# Exemplo de DataFrame com colunas 'Identidade de Gênero' e 'Escolaridade'\n",
    "df_grouped = df_incluses.groupby(['Identidade de Gênero', 'Escolaridade']).size().reset_index(name='Contagem')\n",
    "\n",
    "# Criando o gráfico de barras empilhadas\n",
    "fig = px.bar(df_grouped, \n",
    "             x='Identidade de Gênero', \n",
    "             y='Contagem', \n",
    "             color='Escolaridade', \n",
    "             title='Escolaridade por Identidade de Gênero',\n",
    "             labels={'Contagem': 'Quantidade', 'Identidade de Gênero': 'Identidade de Gênero'},\n",
    "             barmode='stack')\n",
    "\n",
    "fig.show()"
   ]
  },
  {
   "cell_type": "markdown",
   "metadata": {},
   "source": [
    "#### Vendo a relação entre 'Usa Redes Sociais?' e 'Escolaridade'"
   ]
  },
  {
   "cell_type": "code",
   "execution_count": 10,
   "metadata": {},
   "outputs": [
    {
     "data": {
      "application/vnd.plotly.v1+json": {
       "config": {
        "plotlyServerURL": "https://plot.ly"
       },
       "data": [
        {
         "alignmentgroup": "True",
         "hovertemplate": "Escolaridade=Nenhum<br>Usa Redes Sociais?=%{x}<br>Quantidade=%{y}<extra></extra>",
         "legendgroup": "Nenhum",
         "marker": {
          "color": "#636efa",
          "pattern": {
           "shape": ""
          }
         },
         "name": "Nenhum",
         "offsetgroup": "Nenhum",
         "orientation": "v",
         "showlegend": true,
         "textposition": "auto",
         "type": "bar",
         "x": [
          "Não",
          "Sim"
         ],
         "xaxis": "x",
         "y": [
          3,
          5
         ],
         "yaxis": "y"
        },
        {
         "alignmentgroup": "True",
         "hovertemplate": "Escolaridade=Ensino Fundamental completo ou cursando<br>Usa Redes Sociais?=%{x}<br>Quantidade=%{y}<extra></extra>",
         "legendgroup": "Ensino Fundamental completo ou cursando",
         "marker": {
          "color": "#EF553B",
          "pattern": {
           "shape": ""
          }
         },
         "name": "Ensino Fundamental completo ou cursando",
         "offsetgroup": "Ensino Fundamental completo ou cursando",
         "orientation": "v",
         "showlegend": true,
         "textposition": "auto",
         "type": "bar",
         "x": [
          "Sim"
         ],
         "xaxis": "x",
         "y": [
          18
         ],
         "yaxis": "y"
        },
        {
         "alignmentgroup": "True",
         "hovertemplate": "Escolaridade=Ensino Médio completo ou cursando<br>Usa Redes Sociais?=%{x}<br>Quantidade=%{y}<extra></extra>",
         "legendgroup": "Ensino Médio completo ou cursando",
         "marker": {
          "color": "#00cc96",
          "pattern": {
           "shape": ""
          }
         },
         "name": "Ensino Médio completo ou cursando",
         "offsetgroup": "Ensino Médio completo ou cursando",
         "orientation": "v",
         "showlegend": true,
         "textposition": "auto",
         "type": "bar",
         "x": [
          "Sim"
         ],
         "xaxis": "x",
         "y": [
          6
         ],
         "yaxis": "y"
        },
        {
         "alignmentgroup": "True",
         "hovertemplate": "Escolaridade=Ensino Superior completo ou cursando<br>Usa Redes Sociais?=%{x}<br>Quantidade=%{y}<extra></extra>",
         "legendgroup": "Ensino Superior completo ou cursando",
         "marker": {
          "color": "#ab63fa",
          "pattern": {
           "shape": ""
          }
         },
         "name": "Ensino Superior completo ou cursando",
         "offsetgroup": "Ensino Superior completo ou cursando",
         "orientation": "v",
         "showlegend": true,
         "textposition": "auto",
         "type": "bar",
         "x": [
          "Sim"
         ],
         "xaxis": "x",
         "y": [
          15
         ],
         "yaxis": "y"
        }
       ],
       "layout": {
        "barmode": "stack",
        "legend": {
         "title": {
          "text": "Escolaridade"
         },
         "tracegroupgap": 0
        },
        "template": {
         "data": {
          "bar": [
           {
            "error_x": {
             "color": "#2a3f5f"
            },
            "error_y": {
             "color": "#2a3f5f"
            },
            "marker": {
             "line": {
              "color": "#E5ECF6",
              "width": 0.5
             },
             "pattern": {
              "fillmode": "overlay",
              "size": 10,
              "solidity": 0.2
             }
            },
            "type": "bar"
           }
          ],
          "barpolar": [
           {
            "marker": {
             "line": {
              "color": "#E5ECF6",
              "width": 0.5
             },
             "pattern": {
              "fillmode": "overlay",
              "size": 10,
              "solidity": 0.2
             }
            },
            "type": "barpolar"
           }
          ],
          "carpet": [
           {
            "aaxis": {
             "endlinecolor": "#2a3f5f",
             "gridcolor": "white",
             "linecolor": "white",
             "minorgridcolor": "white",
             "startlinecolor": "#2a3f5f"
            },
            "baxis": {
             "endlinecolor": "#2a3f5f",
             "gridcolor": "white",
             "linecolor": "white",
             "minorgridcolor": "white",
             "startlinecolor": "#2a3f5f"
            },
            "type": "carpet"
           }
          ],
          "choropleth": [
           {
            "colorbar": {
             "outlinewidth": 0,
             "ticks": ""
            },
            "type": "choropleth"
           }
          ],
          "contour": [
           {
            "colorbar": {
             "outlinewidth": 0,
             "ticks": ""
            },
            "colorscale": [
             [
              0,
              "#0d0887"
             ],
             [
              0.1111111111111111,
              "#46039f"
             ],
             [
              0.2222222222222222,
              "#7201a8"
             ],
             [
              0.3333333333333333,
              "#9c179e"
             ],
             [
              0.4444444444444444,
              "#bd3786"
             ],
             [
              0.5555555555555556,
              "#d8576b"
             ],
             [
              0.6666666666666666,
              "#ed7953"
             ],
             [
              0.7777777777777778,
              "#fb9f3a"
             ],
             [
              0.8888888888888888,
              "#fdca26"
             ],
             [
              1,
              "#f0f921"
             ]
            ],
            "type": "contour"
           }
          ],
          "contourcarpet": [
           {
            "colorbar": {
             "outlinewidth": 0,
             "ticks": ""
            },
            "type": "contourcarpet"
           }
          ],
          "heatmap": [
           {
            "colorbar": {
             "outlinewidth": 0,
             "ticks": ""
            },
            "colorscale": [
             [
              0,
              "#0d0887"
             ],
             [
              0.1111111111111111,
              "#46039f"
             ],
             [
              0.2222222222222222,
              "#7201a8"
             ],
             [
              0.3333333333333333,
              "#9c179e"
             ],
             [
              0.4444444444444444,
              "#bd3786"
             ],
             [
              0.5555555555555556,
              "#d8576b"
             ],
             [
              0.6666666666666666,
              "#ed7953"
             ],
             [
              0.7777777777777778,
              "#fb9f3a"
             ],
             [
              0.8888888888888888,
              "#fdca26"
             ],
             [
              1,
              "#f0f921"
             ]
            ],
            "type": "heatmap"
           }
          ],
          "heatmapgl": [
           {
            "colorbar": {
             "outlinewidth": 0,
             "ticks": ""
            },
            "colorscale": [
             [
              0,
              "#0d0887"
             ],
             [
              0.1111111111111111,
              "#46039f"
             ],
             [
              0.2222222222222222,
              "#7201a8"
             ],
             [
              0.3333333333333333,
              "#9c179e"
             ],
             [
              0.4444444444444444,
              "#bd3786"
             ],
             [
              0.5555555555555556,
              "#d8576b"
             ],
             [
              0.6666666666666666,
              "#ed7953"
             ],
             [
              0.7777777777777778,
              "#fb9f3a"
             ],
             [
              0.8888888888888888,
              "#fdca26"
             ],
             [
              1,
              "#f0f921"
             ]
            ],
            "type": "heatmapgl"
           }
          ],
          "histogram": [
           {
            "marker": {
             "pattern": {
              "fillmode": "overlay",
              "size": 10,
              "solidity": 0.2
             }
            },
            "type": "histogram"
           }
          ],
          "histogram2d": [
           {
            "colorbar": {
             "outlinewidth": 0,
             "ticks": ""
            },
            "colorscale": [
             [
              0,
              "#0d0887"
             ],
             [
              0.1111111111111111,
              "#46039f"
             ],
             [
              0.2222222222222222,
              "#7201a8"
             ],
             [
              0.3333333333333333,
              "#9c179e"
             ],
             [
              0.4444444444444444,
              "#bd3786"
             ],
             [
              0.5555555555555556,
              "#d8576b"
             ],
             [
              0.6666666666666666,
              "#ed7953"
             ],
             [
              0.7777777777777778,
              "#fb9f3a"
             ],
             [
              0.8888888888888888,
              "#fdca26"
             ],
             [
              1,
              "#f0f921"
             ]
            ],
            "type": "histogram2d"
           }
          ],
          "histogram2dcontour": [
           {
            "colorbar": {
             "outlinewidth": 0,
             "ticks": ""
            },
            "colorscale": [
             [
              0,
              "#0d0887"
             ],
             [
              0.1111111111111111,
              "#46039f"
             ],
             [
              0.2222222222222222,
              "#7201a8"
             ],
             [
              0.3333333333333333,
              "#9c179e"
             ],
             [
              0.4444444444444444,
              "#bd3786"
             ],
             [
              0.5555555555555556,
              "#d8576b"
             ],
             [
              0.6666666666666666,
              "#ed7953"
             ],
             [
              0.7777777777777778,
              "#fb9f3a"
             ],
             [
              0.8888888888888888,
              "#fdca26"
             ],
             [
              1,
              "#f0f921"
             ]
            ],
            "type": "histogram2dcontour"
           }
          ],
          "mesh3d": [
           {
            "colorbar": {
             "outlinewidth": 0,
             "ticks": ""
            },
            "type": "mesh3d"
           }
          ],
          "parcoords": [
           {
            "line": {
             "colorbar": {
              "outlinewidth": 0,
              "ticks": ""
             }
            },
            "type": "parcoords"
           }
          ],
          "pie": [
           {
            "automargin": true,
            "type": "pie"
           }
          ],
          "scatter": [
           {
            "fillpattern": {
             "fillmode": "overlay",
             "size": 10,
             "solidity": 0.2
            },
            "type": "scatter"
           }
          ],
          "scatter3d": [
           {
            "line": {
             "colorbar": {
              "outlinewidth": 0,
              "ticks": ""
             }
            },
            "marker": {
             "colorbar": {
              "outlinewidth": 0,
              "ticks": ""
             }
            },
            "type": "scatter3d"
           }
          ],
          "scattercarpet": [
           {
            "marker": {
             "colorbar": {
              "outlinewidth": 0,
              "ticks": ""
             }
            },
            "type": "scattercarpet"
           }
          ],
          "scattergeo": [
           {
            "marker": {
             "colorbar": {
              "outlinewidth": 0,
              "ticks": ""
             }
            },
            "type": "scattergeo"
           }
          ],
          "scattergl": [
           {
            "marker": {
             "colorbar": {
              "outlinewidth": 0,
              "ticks": ""
             }
            },
            "type": "scattergl"
           }
          ],
          "scattermapbox": [
           {
            "marker": {
             "colorbar": {
              "outlinewidth": 0,
              "ticks": ""
             }
            },
            "type": "scattermapbox"
           }
          ],
          "scatterpolar": [
           {
            "marker": {
             "colorbar": {
              "outlinewidth": 0,
              "ticks": ""
             }
            },
            "type": "scatterpolar"
           }
          ],
          "scatterpolargl": [
           {
            "marker": {
             "colorbar": {
              "outlinewidth": 0,
              "ticks": ""
             }
            },
            "type": "scatterpolargl"
           }
          ],
          "scatterternary": [
           {
            "marker": {
             "colorbar": {
              "outlinewidth": 0,
              "ticks": ""
             }
            },
            "type": "scatterternary"
           }
          ],
          "surface": [
           {
            "colorbar": {
             "outlinewidth": 0,
             "ticks": ""
            },
            "colorscale": [
             [
              0,
              "#0d0887"
             ],
             [
              0.1111111111111111,
              "#46039f"
             ],
             [
              0.2222222222222222,
              "#7201a8"
             ],
             [
              0.3333333333333333,
              "#9c179e"
             ],
             [
              0.4444444444444444,
              "#bd3786"
             ],
             [
              0.5555555555555556,
              "#d8576b"
             ],
             [
              0.6666666666666666,
              "#ed7953"
             ],
             [
              0.7777777777777778,
              "#fb9f3a"
             ],
             [
              0.8888888888888888,
              "#fdca26"
             ],
             [
              1,
              "#f0f921"
             ]
            ],
            "type": "surface"
           }
          ],
          "table": [
           {
            "cells": {
             "fill": {
              "color": "#EBF0F8"
             },
             "line": {
              "color": "white"
             }
            },
            "header": {
             "fill": {
              "color": "#C8D4E3"
             },
             "line": {
              "color": "white"
             }
            },
            "type": "table"
           }
          ]
         },
         "layout": {
          "annotationdefaults": {
           "arrowcolor": "#2a3f5f",
           "arrowhead": 0,
           "arrowwidth": 1
          },
          "autotypenumbers": "strict",
          "coloraxis": {
           "colorbar": {
            "outlinewidth": 0,
            "ticks": ""
           }
          },
          "colorscale": {
           "diverging": [
            [
             0,
             "#8e0152"
            ],
            [
             0.1,
             "#c51b7d"
            ],
            [
             0.2,
             "#de77ae"
            ],
            [
             0.3,
             "#f1b6da"
            ],
            [
             0.4,
             "#fde0ef"
            ],
            [
             0.5,
             "#f7f7f7"
            ],
            [
             0.6,
             "#e6f5d0"
            ],
            [
             0.7,
             "#b8e186"
            ],
            [
             0.8,
             "#7fbc41"
            ],
            [
             0.9,
             "#4d9221"
            ],
            [
             1,
             "#276419"
            ]
           ],
           "sequential": [
            [
             0,
             "#0d0887"
            ],
            [
             0.1111111111111111,
             "#46039f"
            ],
            [
             0.2222222222222222,
             "#7201a8"
            ],
            [
             0.3333333333333333,
             "#9c179e"
            ],
            [
             0.4444444444444444,
             "#bd3786"
            ],
            [
             0.5555555555555556,
             "#d8576b"
            ],
            [
             0.6666666666666666,
             "#ed7953"
            ],
            [
             0.7777777777777778,
             "#fb9f3a"
            ],
            [
             0.8888888888888888,
             "#fdca26"
            ],
            [
             1,
             "#f0f921"
            ]
           ],
           "sequentialminus": [
            [
             0,
             "#0d0887"
            ],
            [
             0.1111111111111111,
             "#46039f"
            ],
            [
             0.2222222222222222,
             "#7201a8"
            ],
            [
             0.3333333333333333,
             "#9c179e"
            ],
            [
             0.4444444444444444,
             "#bd3786"
            ],
            [
             0.5555555555555556,
             "#d8576b"
            ],
            [
             0.6666666666666666,
             "#ed7953"
            ],
            [
             0.7777777777777778,
             "#fb9f3a"
            ],
            [
             0.8888888888888888,
             "#fdca26"
            ],
            [
             1,
             "#f0f921"
            ]
           ]
          },
          "colorway": [
           "#636efa",
           "#EF553B",
           "#00cc96",
           "#ab63fa",
           "#FFA15A",
           "#19d3f3",
           "#FF6692",
           "#B6E880",
           "#FF97FF",
           "#FECB52"
          ],
          "font": {
           "color": "#2a3f5f"
          },
          "geo": {
           "bgcolor": "white",
           "lakecolor": "white",
           "landcolor": "#E5ECF6",
           "showlakes": true,
           "showland": true,
           "subunitcolor": "white"
          },
          "hoverlabel": {
           "align": "left"
          },
          "hovermode": "closest",
          "mapbox": {
           "style": "light"
          },
          "paper_bgcolor": "white",
          "plot_bgcolor": "#E5ECF6",
          "polar": {
           "angularaxis": {
            "gridcolor": "white",
            "linecolor": "white",
            "ticks": ""
           },
           "bgcolor": "#E5ECF6",
           "radialaxis": {
            "gridcolor": "white",
            "linecolor": "white",
            "ticks": ""
           }
          },
          "scene": {
           "xaxis": {
            "backgroundcolor": "#E5ECF6",
            "gridcolor": "white",
            "gridwidth": 2,
            "linecolor": "white",
            "showbackground": true,
            "ticks": "",
            "zerolinecolor": "white"
           },
           "yaxis": {
            "backgroundcolor": "#E5ECF6",
            "gridcolor": "white",
            "gridwidth": 2,
            "linecolor": "white",
            "showbackground": true,
            "ticks": "",
            "zerolinecolor": "white"
           },
           "zaxis": {
            "backgroundcolor": "#E5ECF6",
            "gridcolor": "white",
            "gridwidth": 2,
            "linecolor": "white",
            "showbackground": true,
            "ticks": "",
            "zerolinecolor": "white"
           }
          },
          "shapedefaults": {
           "line": {
            "color": "#2a3f5f"
           }
          },
          "ternary": {
           "aaxis": {
            "gridcolor": "white",
            "linecolor": "white",
            "ticks": ""
           },
           "baxis": {
            "gridcolor": "white",
            "linecolor": "white",
            "ticks": ""
           },
           "bgcolor": "#E5ECF6",
           "caxis": {
            "gridcolor": "white",
            "linecolor": "white",
            "ticks": ""
           }
          },
          "title": {
           "x": 0.05
          },
          "xaxis": {
           "automargin": true,
           "gridcolor": "white",
           "linecolor": "white",
           "ticks": "",
           "title": {
            "standoff": 15
           },
           "zerolinecolor": "white",
           "zerolinewidth": 2
          },
          "yaxis": {
           "automargin": true,
           "gridcolor": "white",
           "linecolor": "white",
           "ticks": "",
           "title": {
            "standoff": 15
           },
           "zerolinecolor": "white",
           "zerolinewidth": 2
          }
         }
        },
        "title": {
         "text": "Escolaridade por Usa Redes Sociais?"
        },
        "xaxis": {
         "anchor": "y",
         "domain": [
          0,
          1
         ],
         "title": {
          "text": "Usa Redes Sociais?"
         }
        },
        "yaxis": {
         "anchor": "x",
         "domain": [
          0,
          1
         ],
         "title": {
          "text": "Quantidade"
         }
        }
       }
      }
     },
     "metadata": {},
     "output_type": "display_data"
    }
   ],
   "source": [
    "# Exemplo de DataFrame com colunas 'Usa Redes Sociais?' e 'Escolaridade'\n",
    "df_grouped = df_incluses.groupby(['Usa Redes Sociais?', 'Escolaridade']).size().reset_index(name='Contagem')\n",
    "\n",
    "# Criando o gráfico de barras empilhadas\n",
    "fig = px.bar(df_grouped, \n",
    "             x='Usa Redes Sociais?', \n",
    "             y='Contagem', \n",
    "             color='Escolaridade', \n",
    "             title='Escolaridade por Usa Redes Sociais?',\n",
    "             labels={'Contagem': 'Quantidade', 'Usa Redes Sociais?': 'Usa Redes Sociais?'},\n",
    "             barmode='stack')\n",
    "\n",
    "fig.show()"
   ]
  },
  {
   "cell_type": "markdown",
   "metadata": {},
   "source": [
    "##### Gerando um Relatório de Perfil do DataFrame\n",
    "\n",
    "Nesta célula, estamos utilizando a biblioteca `ydata_profiling` para criar um relatório detalhado sobre o DataFrame `df_incluses`. O `ProfileReport` nos permite explorar as características dos dados de forma abrangente, fornecendo estatísticas descritivas e visualizações úteis.\n",
    "\n",
    "As configurações do relatório incluem:\n",
    "\n",
    "- **Ordenação**: O parâmetro `sort=None` define que as variáveis não serão ordenadas por padrão.\n",
    "- **Estilo HTML**: O relatório é configurado para ter largura total (`full_width`) para melhor visualização.\n",
    "- **Barra de Progresso**: A barra de progresso é desativada (`progress_bar=False`) para um processamento mais silencioso.\n",
    "- **Cálculo de Correlações**: As correlações são calculadas apenas para os métodos \"phi_k\" e \"cramers\", enquanto os métodos \"pearson\", \"spearman\" e \"kendall\" são desativados. Isso permite uma análise focada nas correlações mais relevantes para os dados em questão.\n",
    "- **Modo Exploratória**: O parâmetro `explorative=True` habilita análises exploratórias adicionais no relatório.\n",
    "- **Título**: O relatório é intitulado \"Profiling Report\".\n",
    "\n",
    "Por fim, o relatório gerado é salvo como um arquivo HTML chamado \"incluses.html\", permitindo fácil acesso e compartilhamento dos resultados da análise."
   ]
  },
  {
   "cell_type": "code",
   "execution_count": 11,
   "metadata": {},
   "outputs": [],
   "source": [
    "# Criando um relatório de perfil do DataFrame 'df_incluses'\n",
    "profile_report = ProfileReport(\n",
    "    df_incluses,  # O DataFrame a ser analisado\n",
    "    sort=None,  # Não ordenar as variáveis por padrão\n",
    "    html={  # Configurações para a saída HTML do relatório\n",
    "        \"style\": {\"full_width\": True}  # Habilita a largura total para melhor visualização\n",
    "    }, \n",
    "    progress_bar=False,  # Desativa a barra de progresso durante a geração do relatório\n",
    "    correlations={  # Configurações para calcular correlações entre variáveis\n",
    "        \"auto\": {\"calculate\": True},  # Calcula correlações automaticamente\n",
    "        \"pearson\": {\"calculate\": False},  # Desativa o cálculo da correlação de Pearson\n",
    "        \"spearman\": {\"calculate\": False},  # Desativa o cálculo da correlação de Spearman\n",
    "        \"kendall\": {\"calculate\": False},  # Desativa o cálculo da correlação de Kendall\n",
    "        \"phi_k\": {\"calculate\": True},  # Habilita o cálculo da correlação phi_k\n",
    "        \"cramers\": {\"calculate\": True},  # Habilita o cálculo da correlação de Cramér\n",
    "    },\n",
    "    \n",
    "    explorative=True,  # Ativa análises exploratórias adicionais no relatório\n",
    "    title=\"Profiling Report\"  # Define o título do relatório\n",
    ")\n",
    "\n",
    "# Salva o relatório gerado como um arquivo HTML chamado \"incluses.html\"\n",
    "profile_report.to_file(\"incluses.html\")"
   ]
  },
  {
   "cell_type": "markdown",
   "metadata": {},
   "source": [
    "##### Gerando o excel \"incluses_tratado.xlsx\" com os tratamentos que foram feitos."
   ]
  },
  {
   "cell_type": "code",
   "execution_count": 12,
   "metadata": {},
   "outputs": [],
   "source": [
    "df_incluses.to_excel('incluses_tratado.xlsx', index=False)"
   ]
  }
 ],
 "metadata": {
  "kernelspec": {
   "display_name": "Python 3",
   "language": "python",
   "name": "python3"
  },
  "language_info": {
   "codemirror_mode": {
    "name": "ipython",
    "version": 3
   },
   "file_extension": ".py",
   "mimetype": "text/x-python",
   "name": "python",
   "nbconvert_exporter": "python",
   "pygments_lexer": "ipython3",
   "version": "3.12.5"
  }
 },
 "nbformat": 4,
 "nbformat_minor": 2
}
