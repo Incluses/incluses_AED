{
 "cells": [
  {
   "cell_type": "markdown",
   "metadata": {},
   "source": [
    "<h1><center>Análise Exploratória de Dados</center></h1>\n",
    "<h3><center>Análise da base para a ia feita no forms</center></h3>\n",
    "\n",
    "***\n",
    "\n",
    "Datasets: \n",
    "* Incluses.xlsx\n",
    "\n",
    "Conteúdo deste notebook:\n",
    "1. Imports\n",
    "1. leitura da planilha com os dados obitidos do forms\n",
    "1. Correções da base\n",
    "    1. Corrigindo valores na coluna 'Gênero'\n",
    "    1. Corrigindo valores na coluna 'Nível de Escolaridade'\n",
    "    1. Corrigindo valores na coluna 'Preferência por Cursos'\n",
    "    1. Corrigindo valores na coluna 'Qual é a sua situação diante ao mercado de trabalho?'\n",
    "1. Incluímos no formulário uma pergunta para identificar se as pessoas pertencem à comunidade LGBTQIA+, já que nosso aplicativo é voltado para esse público.\n",
    "    1. Removendo as colunas\n",
    "    1. Renomeando as colunas\n",
    "    1. Filtrando apenas as respostas \"Sim\"\n",
    "1. Vendo a descrição do dataFrame (usuando o .describe())\n",
    "1. Definindo o pré-processador para transformar colunas categóricas em numéricas\n",
    "    1. Gerando um gráfico de correlação\n",
    "    1. Análise do que teve mais correlação\n",
    "        1. Vendo a relação entre 'Faixa Etária' e 'Situação no Mercado de Trabalho'\n",
    "        1. Vendo a relação entre 'Faixa Etária' e 'Escolaridade'\n",
    "        1. Vendo a relação entre 'Identidade de Gênero' e 'Escolaridade'\n",
    "        1. Vendo a relação entre 'Usa Redes Sociais?' e 'Escolaridade'\n",
    "1. PCA\n",
    "1. Gerando um Relatório de Perfil do DataFrame\n",
    "1. Gerando o excel \"incluses_tratado.xlsx\" com os tratamentos que foram feitos."
   ]
  },
  {
   "cell_type": "markdown",
   "metadata": {},
   "source": [
    "## Imports"
   ]
  },
  {
   "cell_type": "code",
   "execution_count": 202,
   "metadata": {},
   "outputs": [],
   "source": [
    "import pandas as pd\n",
    "import plotly.express as px\n",
    "import seaborn as sns\n",
    "import matplotlib.pyplot as plt\n",
    "from sklearn.compose import ColumnTransformer, make_column_selector\n",
    "from sklearn.preprocessing import OneHotEncoder\n",
    "from ydata_profiling import ProfileReport\n",
    "from sklearn.decomposition import PCA\n",
    "from sklearn.preprocessing import StandardScaler\n",
    "import numpy as np"
   ]
  },
  {
   "cell_type": "markdown",
   "metadata": {},
   "source": [
    "### leitura da planilha com os dados obitidos do forms"
   ]
  },
  {
   "cell_type": "code",
   "execution_count": 203,
   "metadata": {},
   "outputs": [
    {
     "data": {
      "text/html": [
       "<div>\n",
       "<style scoped>\n",
       "    .dataframe tbody tr th:only-of-type {\n",
       "        vertical-align: middle;\n",
       "    }\n",
       "\n",
       "    .dataframe tbody tr th {\n",
       "        vertical-align: top;\n",
       "    }\n",
       "\n",
       "    .dataframe thead th {\n",
       "        text-align: right;\n",
       "    }\n",
       "</style>\n",
       "<table border=\"1\" class=\"dataframe\">\n",
       "  <thead>\n",
       "    <tr style=\"text-align: right;\">\n",
       "      <th></th>\n",
       "      <th>Id</th>\n",
       "      <th>Hora de início</th>\n",
       "      <th>Hora de conclusão</th>\n",
       "      <th>Email</th>\n",
       "      <th>Nome</th>\n",
       "      <th>Você participa da comunidade LGBTQIA+</th>\n",
       "      <th>Idade</th>\n",
       "      <th>Gênero</th>\n",
       "      <th>Orientação Sexual</th>\n",
       "      <th>Localização</th>\n",
       "      <th>Nível de Escolaridade</th>\n",
       "      <th>Você usa aplicativos para procurar oportunidades de emprego?</th>\n",
       "      <th>Preferência por Cursos</th>\n",
       "      <th>Coluna1</th>\n",
       "      <th>Você já sentiu desafios para entrar no mercado de trabalho devido ao seu gênero</th>\n",
       "      <th>Você tem interesse em empreender?</th>\n",
       "      <th>Qual é a sua situação diante ao mercado de trabalho?</th>\n",
       "      <th>Você usa redes sociais (exemplo: X, Facebook, Instagram, Youtube)</th>\n",
       "      <th>Com quais finalidades você usaria o Aplicativo Incluses</th>\n",
       "    </tr>\n",
       "  </thead>\n",
       "  <tbody>\n",
       "    <tr>\n",
       "      <th>0</th>\n",
       "      <td>2</td>\n",
       "      <td>2024-08-27 12:15:29</td>\n",
       "      <td>2024-08-27 12:15:41</td>\n",
       "      <td>anonymous</td>\n",
       "      <td>NaN</td>\n",
       "      <td>Não</td>\n",
       "      <td>NaN</td>\n",
       "      <td>NaN</td>\n",
       "      <td>NaN</td>\n",
       "      <td>NaN</td>\n",
       "      <td>NaN</td>\n",
       "      <td>NaN</td>\n",
       "      <td>NaN</td>\n",
       "      <td>NaN</td>\n",
       "      <td>NaN</td>\n",
       "      <td>NaN</td>\n",
       "      <td>NaN</td>\n",
       "      <td>NaN</td>\n",
       "      <td>NaN</td>\n",
       "    </tr>\n",
       "    <tr>\n",
       "      <th>1</th>\n",
       "      <td>3</td>\n",
       "      <td>2024-08-28 14:21:47</td>\n",
       "      <td>2024-08-28 14:22:06</td>\n",
       "      <td>anonymous</td>\n",
       "      <td>NaN</td>\n",
       "      <td>Não</td>\n",
       "      <td>NaN</td>\n",
       "      <td>NaN</td>\n",
       "      <td>NaN</td>\n",
       "      <td>NaN</td>\n",
       "      <td>NaN</td>\n",
       "      <td>NaN</td>\n",
       "      <td>NaN</td>\n",
       "      <td>NaN</td>\n",
       "      <td>NaN</td>\n",
       "      <td>NaN</td>\n",
       "      <td>NaN</td>\n",
       "      <td>NaN</td>\n",
       "      <td>NaN</td>\n",
       "    </tr>\n",
       "    <tr>\n",
       "      <th>2</th>\n",
       "      <td>4</td>\n",
       "      <td>2024-08-30 07:19:42</td>\n",
       "      <td>2024-08-30 07:22:12</td>\n",
       "      <td>anonymous</td>\n",
       "      <td>NaN</td>\n",
       "      <td>Sim</td>\n",
       "      <td>Menos de 18 anos</td>\n",
       "      <td>Mulher cisgênero</td>\n",
       "      <td>Homossexual</td>\n",
       "      <td>Região Sudeste</td>\n",
       "      <td>Ensino Fundamental completo</td>\n",
       "      <td>Sim</td>\n",
       "      <td>Prefiro cursos online</td>\n",
       "      <td>NaN</td>\n",
       "      <td>Sim</td>\n",
       "      <td>Não</td>\n",
       "      <td>Empregado (a)</td>\n",
       "      <td>Sim</td>\n",
       "      <td>Todos acima</td>\n",
       "    </tr>\n",
       "  </tbody>\n",
       "</table>\n",
       "</div>"
      ],
      "text/plain": [
       "   Id       Hora de início    Hora de conclusão      Email  Nome  \\\n",
       "0   2  2024-08-27 12:15:29  2024-08-27 12:15:41  anonymous   NaN   \n",
       "1   3  2024-08-28 14:21:47  2024-08-28 14:22:06  anonymous   NaN   \n",
       "2   4  2024-08-30 07:19:42  2024-08-30 07:22:12  anonymous   NaN   \n",
       "\n",
       "  Você participa da comunidade LGBTQIA+             Idade            Gênero  \\\n",
       "0                                   Não               NaN               NaN   \n",
       "1                                   Não               NaN               NaN   \n",
       "2                                   Sim  Menos de 18 anos  Mulher cisgênero   \n",
       "\n",
       "  Orientação Sexual     Localização        Nível de Escolaridade  \\\n",
       "0               NaN             NaN                          NaN   \n",
       "1               NaN             NaN                          NaN   \n",
       "2       Homossexual  Região Sudeste  Ensino Fundamental completo   \n",
       "\n",
       "  Você usa aplicativos para procurar oportunidades de emprego?  \\\n",
       "0                                                NaN             \n",
       "1                                                NaN             \n",
       "2                                                Sim             \n",
       "\n",
       "  Preferência por Cursos  Coluna1  \\\n",
       "0                    NaN      NaN   \n",
       "1                    NaN      NaN   \n",
       "2  Prefiro cursos online      NaN   \n",
       "\n",
       "  Você já sentiu desafios para entrar no mercado de trabalho devido ao seu gênero  \\\n",
       "0                                                NaN                                \n",
       "1                                                NaN                                \n",
       "2                                                Sim                                \n",
       "\n",
       "  Você tem interesse em empreender?  \\\n",
       "0                               NaN   \n",
       "1                               NaN   \n",
       "2                               Não   \n",
       "\n",
       "  Qual é a sua situação diante ao mercado de trabalho?  \\\n",
       "0                                                NaN     \n",
       "1                                                NaN     \n",
       "2                                      Empregado (a)     \n",
       "\n",
       "  Você usa redes sociais (exemplo: X, Facebook, Instagram, Youtube)  \\\n",
       "0                                                NaN                  \n",
       "1                                                NaN                  \n",
       "2                                                Sim                  \n",
       "\n",
       "  Com quais finalidades você usaria o Aplicativo Incluses  \n",
       "0                                                NaN       \n",
       "1                                                NaN       \n",
       "2                                        Todos acima       "
      ]
     },
     "metadata": {},
     "output_type": "display_data"
    }
   ],
   "source": [
    "df_incluses = pd.read_excel(\"./Incluses.xlsx\")\n",
    "display(df_incluses.head(3))"
   ]
  },
  {
   "cell_type": "markdown",
   "metadata": {},
   "source": [
    "#### Correções da base"
   ]
  },
  {
   "cell_type": "code",
   "execution_count": 204,
   "metadata": {},
   "outputs": [],
   "source": [
    "# Corrigindo valores na coluna 'Gênero'\n",
    "df_incluses['Gênero'] = df_incluses['Gênero'].replace({\n",
    "    \"Geladeira Eletrolux de duas portas com gelo para água \": \"Outra\",\n",
    "    \"Mulher transgênero\": \"transgênero\",\n",
    "    \"Homem transgênero\": \"transgênero\"\n",
    "    })\n",
    "\n",
    "# Corrigindo valores na coluna 'Nível de Escolaridade'\n",
    "df_incluses['Nível de Escolaridade'] = df_incluses['Nível de Escolaridade'].replace({\n",
    "    \"Ensino Médio completo\": \"Ensino Médio completo ou cursando\",\n",
    "    \"Ensino Superior completo\": \"Ensino Superior completo ou cursando\",  \n",
    "    \"Ensino Superior completo ou cursando\\xa0\": \"Ensino Superior completo ou cursando\",  \n",
    "    \"Ensino Médio completo\": \"Ensino Médio completo ou cursando\",\n",
    "    \"Ensino Fundamental completo\": \"Ensino Fundamental completo ou cursando\"\n",
    "})\n",
    "\n",
    "# Corrigindo valores na coluna 'Preferência por Cursos'\n",
    "df_incluses['Preferência por Cursos'] = df_incluses['Preferência por Cursos'].replace({\n",
    "    \"Não tenho preferência, pode ser online ou presencial\": \"Não tenho preferência, pode ser on-line ou presencial\",\n",
    "    \"Prefiro cursos online\": \"Prefiro cursos on-line\"\n",
    "})\n",
    "\n",
    "# Corrigindo valores na coluna 'Qual é a sua situação diante ao mercado de trabalho?'\n",
    "df_incluses['Qual é a sua situação diante ao mercado de trabalho?'] = df_incluses['Qual é a sua situação diante ao mercado de trabalho?'].replace({\n",
    "    \"  Desempregado (a)\": \"Desempregado (a)\",\n",
    "    \"Autônomo (a)\": \"Desempregado (a)\",\n",
    "    \"  Empregado (a)\": \"Empregado (a)\",\n",
    "})\n"
   ]
  },
  {
   "cell_type": "markdown",
   "metadata": {},
   "source": [
    "#### Incluímos no formulário uma pergunta para identificar se as pessoas pertencem à comunidade LGBTQIA+, já que nosso aplicativo é voltado para esse público."
   ]
  },
  {
   "cell_type": "code",
   "execution_count": 205,
   "metadata": {},
   "outputs": [
    {
     "data": {
      "text/html": [
       "<div>\n",
       "<style scoped>\n",
       "    .dataframe tbody tr th:only-of-type {\n",
       "        vertical-align: middle;\n",
       "    }\n",
       "\n",
       "    .dataframe tbody tr th {\n",
       "        vertical-align: top;\n",
       "    }\n",
       "\n",
       "    .dataframe thead th {\n",
       "        text-align: right;\n",
       "    }\n",
       "</style>\n",
       "<table border=\"1\" class=\"dataframe\">\n",
       "  <thead>\n",
       "    <tr style=\"text-align: right;\">\n",
       "      <th></th>\n",
       "      <th>Participante da Comunidade LGBTQIA+</th>\n",
       "      <th>Faixa Etária</th>\n",
       "      <th>Identidade de Gênero</th>\n",
       "      <th>Orientação Sexual</th>\n",
       "      <th>Cidade/Estado</th>\n",
       "      <th>Escolaridade</th>\n",
       "      <th>Usa Apps para Oportunidades de Emprego?</th>\n",
       "      <th>Preferência de Cursos</th>\n",
       "      <th>Desafios de Emprego por Gênero</th>\n",
       "      <th>Interesse em Empreender</th>\n",
       "      <th>Situação no Mercado de Trabalho</th>\n",
       "      <th>Usa Redes Sociais?</th>\n",
       "      <th>Finalidade do Uso do App Incluses</th>\n",
       "    </tr>\n",
       "  </thead>\n",
       "  <tbody>\n",
       "    <tr>\n",
       "      <th>0</th>\n",
       "      <td>Sim</td>\n",
       "      <td>Menos de 18 anos</td>\n",
       "      <td>Mulher cisgênero</td>\n",
       "      <td>Homossexual</td>\n",
       "      <td>Região Sudeste</td>\n",
       "      <td>Ensino Fundamental completo ou cursando</td>\n",
       "      <td>Sim</td>\n",
       "      <td>Prefiro cursos on-line</td>\n",
       "      <td>Sim</td>\n",
       "      <td>Não</td>\n",
       "      <td>Empregado (a)</td>\n",
       "      <td>Sim</td>\n",
       "      <td>Todos acima</td>\n",
       "    </tr>\n",
       "    <tr>\n",
       "      <th>1</th>\n",
       "      <td>Sim</td>\n",
       "      <td>Menos de 18 anos</td>\n",
       "      <td>Mulher cisgênero</td>\n",
       "      <td>Homossexual</td>\n",
       "      <td>Região Sudeste</td>\n",
       "      <td>Ensino Fundamental completo ou cursando</td>\n",
       "      <td>Tenho interesse</td>\n",
       "      <td>Não tenho preferência, pode ser on-line ou pre...</td>\n",
       "      <td>Sim</td>\n",
       "      <td>Não</td>\n",
       "      <td>Empregado (a)</td>\n",
       "      <td>Sim</td>\n",
       "      <td>Não usaria o app</td>\n",
       "    </tr>\n",
       "    <tr>\n",
       "      <th>2</th>\n",
       "      <td>Sim</td>\n",
       "      <td>Menos de 18 anos</td>\n",
       "      <td>Mulher cisgênero</td>\n",
       "      <td>Pansexual</td>\n",
       "      <td>Região Norte</td>\n",
       "      <td>Ensino Fundamental completo ou cursando</td>\n",
       "      <td>Não</td>\n",
       "      <td>Não tenho preferência, pode ser on-line ou pre...</td>\n",
       "      <td>Não</td>\n",
       "      <td>Talvez</td>\n",
       "      <td>Empregado (a)</td>\n",
       "      <td>Sim</td>\n",
       "      <td>Fazer cursos de qualificação</td>\n",
       "    </tr>\n",
       "    <tr>\n",
       "      <th>3</th>\n",
       "      <td>Sim</td>\n",
       "      <td>Menos de 18 anos</td>\n",
       "      <td>Mulher cisgênero</td>\n",
       "      <td>Bissexual</td>\n",
       "      <td>Região Sudeste</td>\n",
       "      <td>Ensino Fundamental completo ou cursando</td>\n",
       "      <td>Não</td>\n",
       "      <td>Não tenho preferência, pode ser on-line ou pre...</td>\n",
       "      <td>Sim</td>\n",
       "      <td>Não</td>\n",
       "      <td>Empregado (a)</td>\n",
       "      <td>Sim</td>\n",
       "      <td>Não usaria o app</td>\n",
       "    </tr>\n",
       "    <tr>\n",
       "      <th>4</th>\n",
       "      <td>Sim</td>\n",
       "      <td>Menos de 18 anos</td>\n",
       "      <td>transgênero</td>\n",
       "      <td>Prefiro não informar</td>\n",
       "      <td>Região Sudeste</td>\n",
       "      <td>Nenhum</td>\n",
       "      <td>Não</td>\n",
       "      <td>Não tenho preferência, pode ser on-line ou pre...</td>\n",
       "      <td>Sim</td>\n",
       "      <td>Sim</td>\n",
       "      <td>Desempregado (a)</td>\n",
       "      <td>Sim</td>\n",
       "      <td>Fazer cursos de qualificação</td>\n",
       "    </tr>\n",
       "  </tbody>\n",
       "</table>\n",
       "</div>"
      ],
      "text/plain": [
       "  Participante da Comunidade LGBTQIA+      Faixa Etária Identidade de Gênero  \\\n",
       "0                                 Sim  Menos de 18 anos     Mulher cisgênero   \n",
       "1                                 Sim  Menos de 18 anos     Mulher cisgênero   \n",
       "2                                 Sim  Menos de 18 anos     Mulher cisgênero   \n",
       "3                                 Sim  Menos de 18 anos     Mulher cisgênero   \n",
       "4                                 Sim  Menos de 18 anos          transgênero   \n",
       "\n",
       "      Orientação Sexual   Cidade/Estado  \\\n",
       "0           Homossexual  Região Sudeste   \n",
       "1           Homossexual  Região Sudeste   \n",
       "2             Pansexual    Região Norte   \n",
       "3             Bissexual  Região Sudeste   \n",
       "4  Prefiro não informar  Região Sudeste   \n",
       "\n",
       "                              Escolaridade  \\\n",
       "0  Ensino Fundamental completo ou cursando   \n",
       "1  Ensino Fundamental completo ou cursando   \n",
       "2  Ensino Fundamental completo ou cursando   \n",
       "3  Ensino Fundamental completo ou cursando   \n",
       "4                                   Nenhum   \n",
       "\n",
       "  Usa Apps para Oportunidades de Emprego?  \\\n",
       "0                                     Sim   \n",
       "1                         Tenho interesse   \n",
       "2                                     Não   \n",
       "3                                     Não   \n",
       "4                                     Não   \n",
       "\n",
       "                               Preferência de Cursos  \\\n",
       "0                             Prefiro cursos on-line   \n",
       "1  Não tenho preferência, pode ser on-line ou pre...   \n",
       "2  Não tenho preferência, pode ser on-line ou pre...   \n",
       "3  Não tenho preferência, pode ser on-line ou pre...   \n",
       "4  Não tenho preferência, pode ser on-line ou pre...   \n",
       "\n",
       "  Desafios de Emprego por Gênero Interesse em Empreender  \\\n",
       "0                            Sim                     Não   \n",
       "1                            Sim                     Não   \n",
       "2                            Não                  Talvez   \n",
       "3                            Sim                     Não   \n",
       "4                            Sim                     Sim   \n",
       "\n",
       "  Situação no Mercado de Trabalho Usa Redes Sociais?  \\\n",
       "0                   Empregado (a)                Sim   \n",
       "1                   Empregado (a)                Sim   \n",
       "2                   Empregado (a)                Sim   \n",
       "3                   Empregado (a)                Sim   \n",
       "4                Desempregado (a)                Sim   \n",
       "\n",
       "  Finalidade do Uso do App Incluses  \n",
       "0                       Todos acima  \n",
       "1                  Não usaria o app  \n",
       "2      Fazer cursos de qualificação  \n",
       "3                  Não usaria o app  \n",
       "4      Fazer cursos de qualificação  "
      ]
     },
     "metadata": {},
     "output_type": "display_data"
    }
   ],
   "source": [
    "# Removendo as colunas que não serão utilizadas na análise\n",
    "df_incluses = df_incluses.drop(columns=['Id', 'Email', 'Nome', 'Coluna1',\"Hora de início\", \"Hora de conclusão\"])\n",
    "\n",
    "# Renomeando as colunas para facilitar a utilização na análise\n",
    "df_incluses.columns = [\n",
    "    \"Participante da Comunidade LGBTQIA+\", \n",
    "    \"Faixa Etária\", \n",
    "    \"Identidade de Gênero\", \n",
    "    \"Orientação Sexual\", \n",
    "    \"Cidade/Estado\", \n",
    "    \"Escolaridade\", \n",
    "    \"Usa Apps para Oportunidades de Emprego?\", \n",
    "    \"Preferência de Cursos\", \n",
    "    \"Desafios de Emprego por Gênero\", \n",
    "    \"Interesse em Empreender\", \n",
    "    \"Situação no Mercado de Trabalho\", \n",
    "    \"Usa Redes Sociais?\", \n",
    "    \"Finalidade do Uso do App Incluses\"\n",
    "]\n",
    "\n",
    "# Filtrando apenas as respostas \"Sim\" para a coluna \"Participante da Comunidade LGBTQIA+\"\n",
    "df_incluses = df_incluses[df_incluses['Participante da Comunidade LGBTQIA+'] == 'Sim']\n",
    "\n",
    "# Corrigindo o índice após a filtragem\n",
    "df_incluses.reset_index(drop=True, inplace=True)\n",
    "\n",
    "# Mostrando o DataFrame\n",
    "display(df_incluses.head(5))"
   ]
  },
  {
   "cell_type": "markdown",
   "metadata": {},
   "source": [
    "##### Vendo a descrição do dataFrame (usuando o .describe())"
   ]
  },
  {
   "cell_type": "code",
   "execution_count": 206,
   "metadata": {},
   "outputs": [
    {
     "data": {
      "text/html": [
       "<div>\n",
       "<style scoped>\n",
       "    .dataframe tbody tr th:only-of-type {\n",
       "        vertical-align: middle;\n",
       "    }\n",
       "\n",
       "    .dataframe tbody tr th {\n",
       "        vertical-align: top;\n",
       "    }\n",
       "\n",
       "    .dataframe thead th {\n",
       "        text-align: right;\n",
       "    }\n",
       "</style>\n",
       "<table border=\"1\" class=\"dataframe\">\n",
       "  <thead>\n",
       "    <tr style=\"text-align: right;\">\n",
       "      <th></th>\n",
       "      <th>Participante da Comunidade LGBTQIA+</th>\n",
       "      <th>Faixa Etária</th>\n",
       "      <th>Identidade de Gênero</th>\n",
       "      <th>Orientação Sexual</th>\n",
       "      <th>Cidade/Estado</th>\n",
       "      <th>Escolaridade</th>\n",
       "      <th>Usa Apps para Oportunidades de Emprego?</th>\n",
       "      <th>Preferência de Cursos</th>\n",
       "      <th>Desafios de Emprego por Gênero</th>\n",
       "      <th>Interesse em Empreender</th>\n",
       "      <th>Situação no Mercado de Trabalho</th>\n",
       "      <th>Usa Redes Sociais?</th>\n",
       "      <th>Finalidade do Uso do App Incluses</th>\n",
       "    </tr>\n",
       "  </thead>\n",
       "  <tbody>\n",
       "    <tr>\n",
       "      <th>count</th>\n",
       "      <td>47</td>\n",
       "      <td>47</td>\n",
       "      <td>47</td>\n",
       "      <td>47</td>\n",
       "      <td>47</td>\n",
       "      <td>47</td>\n",
       "      <td>47</td>\n",
       "      <td>47</td>\n",
       "      <td>47</td>\n",
       "      <td>47</td>\n",
       "      <td>47</td>\n",
       "      <td>47</td>\n",
       "      <td>47</td>\n",
       "    </tr>\n",
       "    <tr>\n",
       "      <th>unique</th>\n",
       "      <td>1</td>\n",
       "      <td>6</td>\n",
       "      <td>6</td>\n",
       "      <td>7</td>\n",
       "      <td>5</td>\n",
       "      <td>4</td>\n",
       "      <td>3</td>\n",
       "      <td>3</td>\n",
       "      <td>2</td>\n",
       "      <td>3</td>\n",
       "      <td>2</td>\n",
       "      <td>2</td>\n",
       "      <td>5</td>\n",
       "    </tr>\n",
       "    <tr>\n",
       "      <th>top</th>\n",
       "      <td>Sim</td>\n",
       "      <td>Menos de 18 anos</td>\n",
       "      <td>Mulher cisgênero</td>\n",
       "      <td>Bissexual</td>\n",
       "      <td>Região Sudeste</td>\n",
       "      <td>Ensino Fundamental completo ou cursando</td>\n",
       "      <td>Sim</td>\n",
       "      <td>Não tenho preferência, pode ser on-line ou pre...</td>\n",
       "      <td>Não</td>\n",
       "      <td>Talvez</td>\n",
       "      <td>Empregado (a)</td>\n",
       "      <td>Sim</td>\n",
       "      <td>Todos acima</td>\n",
       "    </tr>\n",
       "    <tr>\n",
       "      <th>freq</th>\n",
       "      <td>47</td>\n",
       "      <td>29</td>\n",
       "      <td>20</td>\n",
       "      <td>16</td>\n",
       "      <td>33</td>\n",
       "      <td>18</td>\n",
       "      <td>23</td>\n",
       "      <td>23</td>\n",
       "      <td>29</td>\n",
       "      <td>19</td>\n",
       "      <td>26</td>\n",
       "      <td>44</td>\n",
       "      <td>16</td>\n",
       "    </tr>\n",
       "  </tbody>\n",
       "</table>\n",
       "</div>"
      ],
      "text/plain": [
       "       Participante da Comunidade LGBTQIA+      Faixa Etária  \\\n",
       "count                                   47                47   \n",
       "unique                                   1                 6   \n",
       "top                                    Sim  Menos de 18 anos   \n",
       "freq                                    47                29   \n",
       "\n",
       "       Identidade de Gênero Orientação Sexual   Cidade/Estado  \\\n",
       "count                    47                47              47   \n",
       "unique                    6                 7               5   \n",
       "top        Mulher cisgênero         Bissexual  Região Sudeste   \n",
       "freq                     20                16              33   \n",
       "\n",
       "                                   Escolaridade  \\\n",
       "count                                        47   \n",
       "unique                                        4   \n",
       "top     Ensino Fundamental completo ou cursando   \n",
       "freq                                         18   \n",
       "\n",
       "       Usa Apps para Oportunidades de Emprego?  \\\n",
       "count                                       47   \n",
       "unique                                       3   \n",
       "top                                        Sim   \n",
       "freq                                        23   \n",
       "\n",
       "                                    Preferência de Cursos  \\\n",
       "count                                                  47   \n",
       "unique                                                  3   \n",
       "top     Não tenho preferência, pode ser on-line ou pre...   \n",
       "freq                                                   23   \n",
       "\n",
       "       Desafios de Emprego por Gênero Interesse em Empreender  \\\n",
       "count                              47                      47   \n",
       "unique                              2                       3   \n",
       "top                               Não                  Talvez   \n",
       "freq                               29                      19   \n",
       "\n",
       "       Situação no Mercado de Trabalho Usa Redes Sociais?  \\\n",
       "count                               47                 47   \n",
       "unique                               2                  2   \n",
       "top                      Empregado (a)                Sim   \n",
       "freq                                26                 44   \n",
       "\n",
       "       Finalidade do Uso do App Incluses  \n",
       "count                                 47  \n",
       "unique                                 5  \n",
       "top                          Todos acima  \n",
       "freq                                  16  "
      ]
     },
     "execution_count": 206,
     "metadata": {},
     "output_type": "execute_result"
    }
   ],
   "source": [
    "# Exibindo a descrição estatística do DataFrame\n",
    "df_incluses.describe()"
   ]
  },
  {
   "cell_type": "markdown",
   "metadata": {},
   "source": [
    "##### Definindo o pré-processador para transformar colunas categóricas em numéricas\n",
    "\n",
    "Nesta célula, utilizamos o `OneHotEncoder` do Scikit-learn para transformar as colunas categóricas do DataFrame em numéricas. O `OneHotEncoder` é aplicado permitindo que essas informações sejam integradas em análises quantitativas. A principal ideia do `One-Hot Encoding` é transformar cada categoria de uma variável em uma nova coluna binária (0 ou 1), onde cada coluna representa a presença ou ausência de uma determinada categoria.\n",
    "\n",
    "O parâmetro `remainder='passthrough'` assegura que as colunas que não precisam de transformação sejam mantidas inalteradas.\n",
    "\n",
    "Em seguida, calculamos a matriz de correlação entre as variáveis, que nos ajudará a entender a força e a direção das relações entre elas. Para visualizar essas correlações, configuramos os tamanhos de fonte e geramos um heatmap, que é exibido ao final."
   ]
  },
  {
   "cell_type": "code",
   "execution_count": 207,
   "metadata": {},
   "outputs": [
    {
     "data": {
      "image/png": "[encoded data removed]",
      "text/plain": [
       "<Figure size 1800x1800 with 2 Axes>"
      ]
     },
     "metadata": {},
     "output_type": "display_data"
    },
    {
     "name": "stdout",
     "output_type": "stream",
     "text": [
      "Matriz de Correlação Filtrada:\n",
      "                                                    Faixa Etária_25-34 anos  \\\n",
      "Faixa Etária_25-34 anos                                                 NaN   \n",
      "Faixa Etária_45-54 anos                                                 NaN   \n",
      "Faixa Etária_55 anos ou mais                                            NaN   \n",
      "Faixa Etária_Menos de 18 anos                                     -0.617721   \n",
      "Identidade de Gênero_Homem cisgênero                                    NaN   \n",
      "Identidade de Gênero_Mulher cisgênero                                   NaN   \n",
      "Identidade de Gênero_Não-binário                                        NaN   \n",
      "Identidade de Gênero_Outra                                              NaN   \n",
      "Orientação Sexual_Assexual                                              NaN   \n",
      "Orientação Sexual_Bissexual                                             NaN   \n",
      "Orientação Sexual_Heterossexual                                         NaN   \n",
      "Orientação Sexual_Outra                                                 NaN   \n",
      "Cidade/Estado_Região Centro-Oeste                                       NaN   \n",
      "Cidade/Estado_Região Nordeste                                           NaN   \n",
      "Cidade/Estado_Região Sudeste                                            NaN   \n",
      "Escolaridade_Ensino Fundamental completo ou cur...                      NaN   \n",
      "Escolaridade_Ensino Superior completo ou cursando                  0.594817   \n",
      "Escolaridade_Nenhum                                                     NaN   \n",
      "Usa Apps para Oportunidades de Emprego?_Não                             NaN   \n",
      "Usa Apps para Oportunidades de Emprego?_Sim                             NaN   \n",
      "Preferência de Cursos_Não tenho preferência, po...                      NaN   \n",
      "Preferência de Cursos_Prefiro cursos on-line                            NaN   \n",
      "Preferência de Cursos_Prefiro cursos presenciais                        NaN   \n",
      "Desafios de Emprego por Gênero_Não                                      NaN   \n",
      "Desafios de Emprego por Gênero_Sim                                      NaN   \n",
      "Interesse em Empreender_Sim                                             NaN   \n",
      "Interesse em Empreender_Talvez                                          NaN   \n",
      "Situação no Mercado de Trabalho_Desempregado (a)                        NaN   \n",
      "Situação no Mercado de Trabalho_Empregado (a)                           NaN   \n",
      "Usa Redes Sociais?_Não                                                  NaN   \n",
      "Usa Redes Sociais?_Sim                                                  NaN   \n",
      "Finalidade do Uso do App Incluses_Divulgar cont...                      NaN   \n",
      "\n",
      "                                                    Faixa Etária_45-54 anos  \\\n",
      "Faixa Etária_25-34 anos                                                 NaN   \n",
      "Faixa Etária_45-54 anos                                                 NaN   \n",
      "Faixa Etária_55 anos ou mais                                            NaN   \n",
      "Faixa Etária_Menos de 18 anos                                           NaN   \n",
      "Identidade de Gênero_Homem cisgênero                                    NaN   \n",
      "Identidade de Gênero_Mulher cisgênero                                   NaN   \n",
      "Identidade de Gênero_Não-binário                                        NaN   \n",
      "Identidade de Gênero_Outra                                              NaN   \n",
      "Orientação Sexual_Assexual                                              NaN   \n",
      "Orientação Sexual_Bissexual                                             NaN   \n",
      "Orientação Sexual_Heterossexual                                         NaN   \n",
      "Orientação Sexual_Outra                                                 NaN   \n",
      "Cidade/Estado_Região Centro-Oeste                                       NaN   \n",
      "Cidade/Estado_Região Nordeste                                           NaN   \n",
      "Cidade/Estado_Região Sudeste                                            NaN   \n",
      "Escolaridade_Ensino Fundamental completo ou cur...                      NaN   \n",
      "Escolaridade_Ensino Superior completo ou cursando                       NaN   \n",
      "Escolaridade_Nenhum                                                     NaN   \n",
      "Usa Apps para Oportunidades de Emprego?_Não                             NaN   \n",
      "Usa Apps para Oportunidades de Emprego?_Sim                             NaN   \n",
      "Preferência de Cursos_Não tenho preferência, po...                      NaN   \n",
      "Preferência de Cursos_Prefiro cursos on-line                            NaN   \n",
      "Preferência de Cursos_Prefiro cursos presenciais                        NaN   \n",
      "Desafios de Emprego por Gênero_Não                                      NaN   \n",
      "Desafios de Emprego por Gênero_Sim                                      NaN   \n",
      "Interesse em Empreender_Sim                                             NaN   \n",
      "Interesse em Empreender_Talvez                                          NaN   \n",
      "Situação no Mercado de Trabalho_Desempregado (a)                        NaN   \n",
      "Situação no Mercado de Trabalho_Empregado (a)                           NaN   \n",
      "Usa Redes Sociais?_Não                                                  NaN   \n",
      "Usa Redes Sociais?_Sim                                                  NaN   \n",
      "Finalidade do Uso do App Incluses_Divulgar cont...                  0.56466   \n",
      "\n",
      "                                                    Faixa Etária_55 anos ou mais  \\\n",
      "Faixa Etária_25-34 anos                                                      NaN   \n",
      "Faixa Etária_45-54 anos                                                      NaN   \n",
      "Faixa Etária_55 anos ou mais                                                 NaN   \n",
      "Faixa Etária_Menos de 18 anos                                                NaN   \n",
      "Identidade de Gênero_Homem cisgênero                                         NaN   \n",
      "Identidade de Gênero_Mulher cisgênero                                        NaN   \n",
      "Identidade de Gênero_Não-binário                                             NaN   \n",
      "Identidade de Gênero_Outra                                                   NaN   \n",
      "Orientação Sexual_Assexual                                                   NaN   \n",
      "Orientação Sexual_Bissexual                                                  NaN   \n",
      "Orientação Sexual_Heterossexual                                              NaN   \n",
      "Orientação Sexual_Outra                                                 0.699379   \n",
      "Cidade/Estado_Região Centro-Oeste                                            NaN   \n",
      "Cidade/Estado_Região Nordeste                                           0.699379   \n",
      "Cidade/Estado_Região Sudeste                                                 NaN   \n",
      "Escolaridade_Ensino Fundamental completo ou cur...                           NaN   \n",
      "Escolaridade_Ensino Superior completo ou cursando                            NaN   \n",
      "Escolaridade_Nenhum                                                          NaN   \n",
      "Usa Apps para Oportunidades de Emprego?_Não                                  NaN   \n",
      "Usa Apps para Oportunidades de Emprego?_Sim                                  NaN   \n",
      "Preferência de Cursos_Não tenho preferência, po...                           NaN   \n",
      "Preferência de Cursos_Prefiro cursos on-line                                 NaN   \n",
      "Preferência de Cursos_Prefiro cursos presenciais                             NaN   \n",
      "Desafios de Emprego por Gênero_Não                                           NaN   \n",
      "Desafios de Emprego por Gênero_Sim                                           NaN   \n",
      "Interesse em Empreender_Sim                                                  NaN   \n",
      "Interesse em Empreender_Talvez                                               NaN   \n",
      "Situação no Mercado de Trabalho_Desempregado (a)                             NaN   \n",
      "Situação no Mercado de Trabalho_Empregado (a)                                NaN   \n",
      "Usa Redes Sociais?_Não                                                       NaN   \n",
      "Usa Redes Sociais?_Sim                                                       NaN   \n",
      "Finalidade do Uso do App Incluses_Divulgar cont...                           NaN   \n",
      "\n",
      "                                                    Faixa Etária_Menos de 18 anos  \\\n",
      "Faixa Etária_25-34 anos                                                 -0.617721   \n",
      "Faixa Etária_45-54 anos                                                       NaN   \n",
      "Faixa Etária_55 anos ou mais                                                  NaN   \n",
      "Faixa Etária_Menos de 18 anos                                                 NaN   \n",
      "Identidade de Gênero_Homem cisgênero                                          NaN   \n",
      "Identidade de Gênero_Mulher cisgênero                                         NaN   \n",
      "Identidade de Gênero_Não-binário                                              NaN   \n",
      "Identidade de Gênero_Outra                                                    NaN   \n",
      "Orientação Sexual_Assexual                                                    NaN   \n",
      "Orientação Sexual_Bissexual                                                   NaN   \n",
      "Orientação Sexual_Heterossexual                                               NaN   \n",
      "Orientação Sexual_Outra                                                       NaN   \n",
      "Cidade/Estado_Região Centro-Oeste                                             NaN   \n",
      "Cidade/Estado_Região Nordeste                                                 NaN   \n",
      "Cidade/Estado_Região Sudeste                                                  NaN   \n",
      "Escolaridade_Ensino Fundamental completo ou cur...                       0.620690   \n",
      "Escolaridade_Ensino Superior completo ou cursando                       -0.869027   \n",
      "Escolaridade_Nenhum                                                           NaN   \n",
      "Usa Apps para Oportunidades de Emprego?_Não                                   NaN   \n",
      "Usa Apps para Oportunidades de Emprego?_Sim                                   NaN   \n",
      "Preferência de Cursos_Não tenho preferência, po...                            NaN   \n",
      "Preferência de Cursos_Prefiro cursos on-line                                  NaN   \n",
      "Preferência de Cursos_Prefiro cursos presenciais                              NaN   \n",
      "Desafios de Emprego por Gênero_Não                                            NaN   \n",
      "Desafios de Emprego por Gênero_Sim                                            NaN   \n",
      "Interesse em Empreender_Sim                                                   NaN   \n",
      "Interesse em Empreender_Talvez                                                NaN   \n",
      "Situação no Mercado de Trabalho_Desempregado (a)                         0.620007   \n",
      "Situação no Mercado de Trabalho_Empregado (a)                           -0.620007   \n",
      "Usa Redes Sociais?_Não                                                        NaN   \n",
      "Usa Redes Sociais?_Sim                                                        NaN   \n",
      "Finalidade do Uso do App Incluses_Divulgar cont...                            NaN   \n",
      "\n",
      "                                                    Identidade de Gênero_Homem cisgênero  \\\n",
      "Faixa Etária_25-34 anos                                                              NaN   \n",
      "Faixa Etária_45-54 anos                                                              NaN   \n",
      "Faixa Etária_55 anos ou mais                                                         NaN   \n",
      "Faixa Etária_Menos de 18 anos                                                        NaN   \n",
      "Identidade de Gênero_Homem cisgênero                                                 NaN   \n",
      "Identidade de Gênero_Mulher cisgênero                                          -0.532188   \n",
      "Identidade de Gênero_Não-binário                                                     NaN   \n",
      "Identidade de Gênero_Outra                                                           NaN   \n",
      "Orientação Sexual_Assexual                                                           NaN   \n",
      "Orientação Sexual_Bissexual                                                          NaN   \n",
      "Orientação Sexual_Heterossexual                                                      NaN   \n",
      "Orientação Sexual_Outra                                                              NaN   \n",
      "Cidade/Estado_Região Centro-Oeste                                                    NaN   \n",
      "Cidade/Estado_Região Nordeste                                                        NaN   \n",
      "Cidade/Estado_Região Sudeste                                                         NaN   \n",
      "Escolaridade_Ensino Fundamental completo ou cur...                                   NaN   \n",
      "Escolaridade_Ensino Superior completo ou cursando                                    NaN   \n",
      "Escolaridade_Nenhum                                                                  NaN   \n",
      "Usa Apps para Oportunidades de Emprego?_Não                                          NaN   \n",
      "Usa Apps para Oportunidades de Emprego?_Sim                                          NaN   \n",
      "Preferência de Cursos_Não tenho preferência, po...                                   NaN   \n",
      "Preferência de Cursos_Prefiro cursos on-line                                         NaN   \n",
      "Preferência de Cursos_Prefiro cursos presenciais                                     NaN   \n",
      "Desafios de Emprego por Gênero_Não                                                   NaN   \n",
      "Desafios de Emprego por Gênero_Sim                                                   NaN   \n",
      "Interesse em Empreender_Sim                                                          NaN   \n",
      "Interesse em Empreender_Talvez                                                       NaN   \n",
      "Situação no Mercado de Trabalho_Desempregado (a)                                     NaN   \n",
      "Situação no Mercado de Trabalho_Empregado (a)                                        NaN   \n",
      "Usa Redes Sociais?_Não                                                               NaN   \n",
      "Usa Redes Sociais?_Sim                                                               NaN   \n",
      "Finalidade do Uso do App Incluses_Divulgar cont...                                   NaN   \n",
      "\n",
      "                                                    Identidade de Gênero_Mulher cisgênero  \\\n",
      "Faixa Etária_25-34 anos                                                               NaN   \n",
      "Faixa Etária_45-54 anos                                                               NaN   \n",
      "Faixa Etária_55 anos ou mais                                                          NaN   \n",
      "Faixa Etária_Menos de 18 anos                                                         NaN   \n",
      "Identidade de Gênero_Homem cisgênero                                            -0.532188   \n",
      "Identidade de Gênero_Mulher cisgênero                                                 NaN   \n",
      "Identidade de Gênero_Não-binário                                                      NaN   \n",
      "Identidade de Gênero_Outra                                                            NaN   \n",
      "Orientação Sexual_Assexual                                                            NaN   \n",
      "Orientação Sexual_Bissexual                                                      0.562283   \n",
      "Orientação Sexual_Heterossexual                                                       NaN   \n",
      "Orientação Sexual_Outra                                                               NaN   \n",
      "Cidade/Estado_Região Centro-Oeste                                                     NaN   \n",
      "Cidade/Estado_Região Nordeste                                                         NaN   \n",
      "Cidade/Estado_Região Sudeste                                                          NaN   \n",
      "Escolaridade_Ensino Fundamental completo ou cur...                                    NaN   \n",
      "Escolaridade_Ensino Superior completo ou cursando                                     NaN   \n",
      "Escolaridade_Nenhum                                                                   NaN   \n",
      "Usa Apps para Oportunidades de Emprego?_Não                                           NaN   \n",
      "Usa Apps para Oportunidades de Emprego?_Sim                                           NaN   \n",
      "Preferência de Cursos_Não tenho preferência, po...                                    NaN   \n",
      "Preferência de Cursos_Prefiro cursos on-line                                          NaN   \n",
      "Preferência de Cursos_Prefiro cursos presenciais                                      NaN   \n",
      "Desafios de Emprego por Gênero_Não                                                    NaN   \n",
      "Desafios de Emprego por Gênero_Sim                                                    NaN   \n",
      "Interesse em Empreender_Sim                                                           NaN   \n",
      "Interesse em Empreender_Talvez                                                        NaN   \n",
      "Situação no Mercado de Trabalho_Desempregado (a)                                      NaN   \n",
      "Situação no Mercado de Trabalho_Empregado (a)                                         NaN   \n",
      "Usa Redes Sociais?_Não                                                                NaN   \n",
      "Usa Redes Sociais?_Sim                                                                NaN   \n",
      "Finalidade do Uso do App Incluses_Divulgar cont...                                    NaN   \n",
      "\n",
      "                                                    Identidade de Gênero_Não-binário  \\\n",
      "Faixa Etária_25-34 anos                                                          NaN   \n",
      "Faixa Etária_45-54 anos                                                          NaN   \n",
      "Faixa Etária_55 anos ou mais                                                     NaN   \n",
      "Faixa Etária_Menos de 18 anos                                                    NaN   \n",
      "Identidade de Gênero_Homem cisgênero                                             NaN   \n",
      "Identidade de Gênero_Mulher cisgênero                                            NaN   \n",
      "Identidade de Gênero_Não-binário                                                 NaN   \n",
      "Identidade de Gênero_Outra                                                       NaN   \n",
      "Orientação Sexual_Assexual                                                  0.807373   \n",
      "Orientação Sexual_Bissexual                                                      NaN   \n",
      "Orientação Sexual_Heterossexual                                                  NaN   \n",
      "Orientação Sexual_Outra                                                          NaN   \n",
      "Cidade/Estado_Região Centro-Oeste                                                NaN   \n",
      "Cidade/Estado_Região Nordeste                                               0.564660   \n",
      "Cidade/Estado_Região Sudeste                                                     NaN   \n",
      "Escolaridade_Ensino Fundamental completo ou cur...                               NaN   \n",
      "Escolaridade_Ensino Superior completo ou cursando                                NaN   \n",
      "Escolaridade_Nenhum                                                              NaN   \n",
      "Usa Apps para Oportunidades de Emprego?_Não                                      NaN   \n",
      "Usa Apps para Oportunidades de Emprego?_Sim                                      NaN   \n",
      "Preferência de Cursos_Não tenho preferência, po...                               NaN   \n",
      "Preferência de Cursos_Prefiro cursos on-line                                     NaN   \n",
      "Preferência de Cursos_Prefiro cursos presenciais                                 NaN   \n",
      "Desafios de Emprego por Gênero_Não                                               NaN   \n",
      "Desafios de Emprego por Gênero_Sim                                               NaN   \n",
      "Interesse em Empreender_Sim                                                      NaN   \n",
      "Interesse em Empreender_Talvez                                                   NaN   \n",
      "Situação no Mercado de Trabalho_Desempregado (a)                                 NaN   \n",
      "Situação no Mercado de Trabalho_Empregado (a)                                    NaN   \n",
      "Usa Redes Sociais?_Não                                                           NaN   \n",
      "Usa Redes Sociais?_Sim                                                           NaN   \n",
      "Finalidade do Uso do App Incluses_Divulgar cont...                               NaN   \n",
      "\n",
      "                                                    Identidade de Gênero_Outra  \\\n",
      "Faixa Etária_25-34 anos                                                    NaN   \n",
      "Faixa Etária_45-54 anos                                                    NaN   \n",
      "Faixa Etária_55 anos ou mais                                               NaN   \n",
      "Faixa Etária_Menos de 18 anos                                              NaN   \n",
      "Identidade de Gênero_Homem cisgênero                                       NaN   \n",
      "Identidade de Gênero_Mulher cisgênero                                      NaN   \n",
      "Identidade de Gênero_Não-binário                                           NaN   \n",
      "Identidade de Gênero_Outra                                                 NaN   \n",
      "Orientação Sexual_Assexual                                                 NaN   \n",
      "Orientação Sexual_Bissexual                                                NaN   \n",
      "Orientação Sexual_Heterossexual                                       0.726744   \n",
      "Orientação Sexual_Outra                                                    NaN   \n",
      "Cidade/Estado_Região Centro-Oeste                                          NaN   \n",
      "Cidade/Estado_Região Nordeste                                              NaN   \n",
      "Cidade/Estado_Região Sudeste                                               NaN   \n",
      "Escolaridade_Ensino Fundamental completo ou cur...                         NaN   \n",
      "Escolaridade_Ensino Superior completo ou cursando                          NaN   \n",
      "Escolaridade_Nenhum                                                        NaN   \n",
      "Usa Apps para Oportunidades de Emprego?_Não                                NaN   \n",
      "Usa Apps para Oportunidades de Emprego?_Sim                                NaN   \n",
      "Preferência de Cursos_Não tenho preferência, po...                         NaN   \n",
      "Preferência de Cursos_Prefiro cursos on-line                               NaN   \n",
      "Preferência de Cursos_Prefiro cursos presenciais                           NaN   \n",
      "Desafios de Emprego por Gênero_Não                                         NaN   \n",
      "Desafios de Emprego por Gênero_Sim                                         NaN   \n",
      "Interesse em Empreender_Sim                                                NaN   \n",
      "Interesse em Empreender_Talvez                                             NaN   \n",
      "Situação no Mercado de Trabalho_Desempregado (a)                           NaN   \n",
      "Situação no Mercado de Trabalho_Empregado (a)                              NaN   \n",
      "Usa Redes Sociais?_Não                                                     NaN   \n",
      "Usa Redes Sociais?_Sim                                                     NaN   \n",
      "Finalidade do Uso do App Incluses_Divulgar cont...                         NaN   \n",
      "\n",
      "                                                    Orientação Sexual_Assexual  \\\n",
      "Faixa Etária_25-34 anos                                                    NaN   \n",
      "Faixa Etária_45-54 anos                                                    NaN   \n",
      "Faixa Etária_55 anos ou mais                                               NaN   \n",
      "Faixa Etária_Menos de 18 anos                                              NaN   \n",
      "Identidade de Gênero_Homem cisgênero                                       NaN   \n",
      "Identidade de Gênero_Mulher cisgênero                                      NaN   \n",
      "Identidade de Gênero_Não-binário                                      0.807373   \n",
      "Identidade de Gênero_Outra                                                 NaN   \n",
      "Orientação Sexual_Assexual                                                 NaN   \n",
      "Orientação Sexual_Bissexual                                                NaN   \n",
      "Orientação Sexual_Heterossexual                                            NaN   \n",
      "Orientação Sexual_Outra                                                    NaN   \n",
      "Cidade/Estado_Região Centro-Oeste                                          NaN   \n",
      "Cidade/Estado_Região Nordeste                                         0.699379   \n",
      "Cidade/Estado_Região Sudeste                                               NaN   \n",
      "Escolaridade_Ensino Fundamental completo ou cur...                         NaN   \n",
      "Escolaridade_Ensino Superior completo ou cursando                          NaN   \n",
      "Escolaridade_Nenhum                                                        NaN   \n",
      "Usa Apps para Oportunidades de Emprego?_Não                                NaN   \n",
      "Usa Apps para Oportunidades de Emprego?_Sim                                NaN   \n",
      "Preferência de Cursos_Não tenho preferência, po...                         NaN   \n",
      "Preferência de Cursos_Prefiro cursos on-line                               NaN   \n",
      "Preferência de Cursos_Prefiro cursos presenciais                           NaN   \n",
      "Desafios de Emprego por Gênero_Não                                         NaN   \n",
      "Desafios de Emprego por Gênero_Sim                                         NaN   \n",
      "Interesse em Empreender_Sim                                                NaN   \n",
      "Interesse em Empreender_Talvez                                             NaN   \n",
      "Situação no Mercado de Trabalho_Desempregado (a)                           NaN   \n",
      "Situação no Mercado de Trabalho_Empregado (a)                              NaN   \n",
      "Usa Redes Sociais?_Não                                                     NaN   \n",
      "Usa Redes Sociais?_Sim                                                     NaN   \n",
      "Finalidade do Uso do App Incluses_Divulgar cont...                         NaN   \n",
      "\n",
      "                                                    Orientação Sexual_Bissexual  \\\n",
      "Faixa Etária_25-34 anos                                                     NaN   \n",
      "Faixa Etária_45-54 anos                                                     NaN   \n",
      "Faixa Etária_55 anos ou mais                                                NaN   \n",
      "Faixa Etária_Menos de 18 anos                                               NaN   \n",
      "Identidade de Gênero_Homem cisgênero                                        NaN   \n",
      "Identidade de Gênero_Mulher cisgênero                                  0.562283   \n",
      "Identidade de Gênero_Não-binário                                            NaN   \n",
      "Identidade de Gênero_Outra                                                  NaN   \n",
      "Orientação Sexual_Assexual                                                  NaN   \n",
      "Orientação Sexual_Bissexual                                                 NaN   \n",
      "Orientação Sexual_Heterossexual                                             NaN   \n",
      "Orientação Sexual_Outra                                                     NaN   \n",
      "Cidade/Estado_Região Centro-Oeste                                           NaN   \n",
      "Cidade/Estado_Região Nordeste                                               NaN   \n",
      "Cidade/Estado_Região Sudeste                                                NaN   \n",
      "Escolaridade_Ensino Fundamental completo ou cur...                          NaN   \n",
      "Escolaridade_Ensino Superior completo ou cursando                           NaN   \n",
      "Escolaridade_Nenhum                                                         NaN   \n",
      "Usa Apps para Oportunidades de Emprego?_Não                                 NaN   \n",
      "Usa Apps para Oportunidades de Emprego?_Sim                                 NaN   \n",
      "Preferência de Cursos_Não tenho preferência, po...                          NaN   \n",
      "Preferência de Cursos_Prefiro cursos on-line                                NaN   \n",
      "Preferência de Cursos_Prefiro cursos presenciais                            NaN   \n",
      "Desafios de Emprego por Gênero_Não                                          NaN   \n",
      "Desafios de Emprego por Gênero_Sim                                          NaN   \n",
      "Interesse em Empreender_Sim                                                 NaN   \n",
      "Interesse em Empreender_Talvez                                              NaN   \n",
      "Situação no Mercado de Trabalho_Desempregado (a)                            NaN   \n",
      "Situação no Mercado de Trabalho_Empregado (a)                               NaN   \n",
      "Usa Redes Sociais?_Não                                                      NaN   \n",
      "Usa Redes Sociais?_Sim                                                      NaN   \n",
      "Finalidade do Uso do App Incluses_Divulgar cont...                          NaN   \n",
      "\n",
      "                                                    ...  \\\n",
      "Faixa Etária_25-34 anos                             ...   \n",
      "Faixa Etária_45-54 anos                             ...   \n",
      "Faixa Etária_55 anos ou mais                        ...   \n",
      "Faixa Etária_Menos de 18 anos                       ...   \n",
      "Identidade de Gênero_Homem cisgênero                ...   \n",
      "Identidade de Gênero_Mulher cisgênero               ...   \n",
      "Identidade de Gênero_Não-binário                    ...   \n",
      "Identidade de Gênero_Outra                          ...   \n",
      "Orientação Sexual_Assexual                          ...   \n",
      "Orientação Sexual_Bissexual                         ...   \n",
      "Orientação Sexual_Heterossexual                     ...   \n",
      "Orientação Sexual_Outra                             ...   \n",
      "Cidade/Estado_Região Centro-Oeste                   ...   \n",
      "Cidade/Estado_Região Nordeste                       ...   \n",
      "Cidade/Estado_Região Sudeste                        ...   \n",
      "Escolaridade_Ensino Fundamental completo ou cur...  ...   \n",
      "Escolaridade_Ensino Superior completo ou cursando   ...   \n",
      "Escolaridade_Nenhum                                 ...   \n",
      "Usa Apps para Oportunidades de Emprego?_Não         ...   \n",
      "Usa Apps para Oportunidades de Emprego?_Sim         ...   \n",
      "Preferência de Cursos_Não tenho preferência, po...  ...   \n",
      "Preferência de Cursos_Prefiro cursos on-line        ...   \n",
      "Preferência de Cursos_Prefiro cursos presenciais    ...   \n",
      "Desafios de Emprego por Gênero_Não                  ...   \n",
      "Desafios de Emprego por Gênero_Sim                  ...   \n",
      "Interesse em Empreender_Sim                         ...   \n",
      "Interesse em Empreender_Talvez                      ...   \n",
      "Situação no Mercado de Trabalho_Desempregado (a)    ...   \n",
      "Situação no Mercado de Trabalho_Empregado (a)       ...   \n",
      "Usa Redes Sociais?_Não                              ...   \n",
      "Usa Redes Sociais?_Sim                              ...   \n",
      "Finalidade do Uso do App Incluses_Divulgar cont...  ...   \n",
      "\n",
      "                                                    Preferência de Cursos_Prefiro cursos presenciais  \\\n",
      "Faixa Etária_25-34 anos                                                                          NaN   \n",
      "Faixa Etária_45-54 anos                                                                          NaN   \n",
      "Faixa Etária_55 anos ou mais                                                                     NaN   \n",
      "Faixa Etária_Menos de 18 anos                                                                    NaN   \n",
      "Identidade de Gênero_Homem cisgênero                                                             NaN   \n",
      "Identidade de Gênero_Mulher cisgênero                                                            NaN   \n",
      "Identidade de Gênero_Não-binário                                                                 NaN   \n",
      "Identidade de Gênero_Outra                                                                       NaN   \n",
      "Orientação Sexual_Assexual                                                                       NaN   \n",
      "Orientação Sexual_Bissexual                                                                      NaN   \n",
      "Orientação Sexual_Heterossexual                                                                  NaN   \n",
      "Orientação Sexual_Outra                                                                          NaN   \n",
      "Cidade/Estado_Região Centro-Oeste                                                                NaN   \n",
      "Cidade/Estado_Região Nordeste                                                                    NaN   \n",
      "Cidade/Estado_Região Sudeste                                                                     NaN   \n",
      "Escolaridade_Ensino Fundamental completo ou cur...                                               NaN   \n",
      "Escolaridade_Ensino Superior completo ou cursando                                                NaN   \n",
      "Escolaridade_Nenhum                                                                              NaN   \n",
      "Usa Apps para Oportunidades de Emprego?_Não                                                      NaN   \n",
      "Usa Apps para Oportunidades de Emprego?_Sim                                                      NaN   \n",
      "Preferência de Cursos_Não tenho preferência, po...                                         -0.508929   \n",
      "Preferência de Cursos_Prefiro cursos on-line                                                     NaN   \n",
      "Preferência de Cursos_Prefiro cursos presenciais                                                 NaN   \n",
      "Desafios de Emprego por Gênero_Não                                                               NaN   \n",
      "Desafios de Emprego por Gênero_Sim                                                               NaN   \n",
      "Interesse em Empreender_Sim                                                                      NaN   \n",
      "Interesse em Empreender_Talvez                                                                   NaN   \n",
      "Situação no Mercado de Trabalho_Desempregado (a)                                                 NaN   \n",
      "Situação no Mercado de Trabalho_Empregado (a)                                                    NaN   \n",
      "Usa Redes Sociais?_Não                                                                           NaN   \n",
      "Usa Redes Sociais?_Sim                                                                           NaN   \n",
      "Finalidade do Uso do App Incluses_Divulgar cont...                                               NaN   \n",
      "\n",
      "                                                    Desafios de Emprego por Gênero_Não  \\\n",
      "Faixa Etária_25-34 anos                                                            NaN   \n",
      "Faixa Etária_45-54 anos                                                            NaN   \n",
      "Faixa Etária_55 anos ou mais                                                       NaN   \n",
      "Faixa Etária_Menos de 18 anos                                                      NaN   \n",
      "Identidade de Gênero_Homem cisgênero                                               NaN   \n",
      "Identidade de Gênero_Mulher cisgênero                                              NaN   \n",
      "Identidade de Gênero_Não-binário                                                   NaN   \n",
      "Identidade de Gênero_Outra                                                         NaN   \n",
      "Orientação Sexual_Assexual                                                         NaN   \n",
      "Orientação Sexual_Bissexual                                                        NaN   \n",
      "Orientação Sexual_Heterossexual                                                    NaN   \n",
      "Orientação Sexual_Outra                                                            NaN   \n",
      "Cidade/Estado_Região Centro-Oeste                                                  NaN   \n",
      "Cidade/Estado_Região Nordeste                                                      NaN   \n",
      "Cidade/Estado_Região Sudeste                                                       NaN   \n",
      "Escolaridade_Ensino Fundamental completo ou cur...                                 NaN   \n",
      "Escolaridade_Ensino Superior completo ou cursando                                  NaN   \n",
      "Escolaridade_Nenhum                                                                NaN   \n",
      "Usa Apps para Oportunidades de Emprego?_Não                                        NaN   \n",
      "Usa Apps para Oportunidades de Emprego?_Sim                                        NaN   \n",
      "Preferência de Cursos_Não tenho preferência, po...                                 NaN   \n",
      "Preferência de Cursos_Prefiro cursos on-line                                       NaN   \n",
      "Preferência de Cursos_Prefiro cursos presenciais                                   NaN   \n",
      "Desafios de Emprego por Gênero_Não                                                 NaN   \n",
      "Desafios de Emprego por Gênero_Sim                                                -1.0   \n",
      "Interesse em Empreender_Sim                                                        NaN   \n",
      "Interesse em Empreender_Talvez                                                     NaN   \n",
      "Situação no Mercado de Trabalho_Desempregado (a)                                   NaN   \n",
      "Situação no Mercado de Trabalho_Empregado (a)                                      NaN   \n",
      "Usa Redes Sociais?_Não                                                             NaN   \n",
      "Usa Redes Sociais?_Sim                                                             NaN   \n",
      "Finalidade do Uso do App Incluses_Divulgar cont...                                 NaN   \n",
      "\n",
      "                                                    Desafios de Emprego por Gênero_Sim  \\\n",
      "Faixa Etária_25-34 anos                                                            NaN   \n",
      "Faixa Etária_45-54 anos                                                            NaN   \n",
      "Faixa Etária_55 anos ou mais                                                       NaN   \n",
      "Faixa Etária_Menos de 18 anos                                                      NaN   \n",
      "Identidade de Gênero_Homem cisgênero                                               NaN   \n",
      "Identidade de Gênero_Mulher cisgênero                                              NaN   \n",
      "Identidade de Gênero_Não-binário                                                   NaN   \n",
      "Identidade de Gênero_Outra                                                         NaN   \n",
      "Orientação Sexual_Assexual                                                         NaN   \n",
      "Orientação Sexual_Bissexual                                                        NaN   \n",
      "Orientação Sexual_Heterossexual                                                    NaN   \n",
      "Orientação Sexual_Outra                                                            NaN   \n",
      "Cidade/Estado_Região Centro-Oeste                                                  NaN   \n",
      "Cidade/Estado_Região Nordeste                                                      NaN   \n",
      "Cidade/Estado_Região Sudeste                                                       NaN   \n",
      "Escolaridade_Ensino Fundamental completo ou cur...                                 NaN   \n",
      "Escolaridade_Ensino Superior completo ou cursando                                  NaN   \n",
      "Escolaridade_Nenhum                                                                NaN   \n",
      "Usa Apps para Oportunidades de Emprego?_Não                                        NaN   \n",
      "Usa Apps para Oportunidades de Emprego?_Sim                                        NaN   \n",
      "Preferência de Cursos_Não tenho preferência, po...                                 NaN   \n",
      "Preferência de Cursos_Prefiro cursos on-line                                       NaN   \n",
      "Preferência de Cursos_Prefiro cursos presenciais                                   NaN   \n",
      "Desafios de Emprego por Gênero_Não                                                -1.0   \n",
      "Desafios de Emprego por Gênero_Sim                                                 NaN   \n",
      "Interesse em Empreender_Sim                                                        NaN   \n",
      "Interesse em Empreender_Talvez                                                     NaN   \n",
      "Situação no Mercado de Trabalho_Desempregado (a)                                   NaN   \n",
      "Situação no Mercado de Trabalho_Empregado (a)                                      NaN   \n",
      "Usa Redes Sociais?_Não                                                             NaN   \n",
      "Usa Redes Sociais?_Sim                                                             NaN   \n",
      "Finalidade do Uso do App Incluses_Divulgar cont...                                 NaN   \n",
      "\n",
      "                                                    Interesse em Empreender_Sim  \\\n",
      "Faixa Etária_25-34 anos                                                     NaN   \n",
      "Faixa Etária_45-54 anos                                                     NaN   \n",
      "Faixa Etária_55 anos ou mais                                                NaN   \n",
      "Faixa Etária_Menos de 18 anos                                               NaN   \n",
      "Identidade de Gênero_Homem cisgênero                                        NaN   \n",
      "Identidade de Gênero_Mulher cisgênero                                       NaN   \n",
      "Identidade de Gênero_Não-binário                                            NaN   \n",
      "Identidade de Gênero_Outra                                                  NaN   \n",
      "Orientação Sexual_Assexual                                                  NaN   \n",
      "Orientação Sexual_Bissexual                                                 NaN   \n",
      "Orientação Sexual_Heterossexual                                             NaN   \n",
      "Orientação Sexual_Outra                                                     NaN   \n",
      "Cidade/Estado_Região Centro-Oeste                                           NaN   \n",
      "Cidade/Estado_Região Nordeste                                               NaN   \n",
      "Cidade/Estado_Região Sudeste                                                NaN   \n",
      "Escolaridade_Ensino Fundamental completo ou cur...                          NaN   \n",
      "Escolaridade_Ensino Superior completo ou cursando                           NaN   \n",
      "Escolaridade_Nenhum                                                         NaN   \n",
      "Usa Apps para Oportunidades de Emprego?_Não                                 NaN   \n",
      "Usa Apps para Oportunidades de Emprego?_Sim                                 NaN   \n",
      "Preferência de Cursos_Não tenho preferência, po...                          NaN   \n",
      "Preferência de Cursos_Prefiro cursos on-line                                NaN   \n",
      "Preferência de Cursos_Prefiro cursos presenciais                            NaN   \n",
      "Desafios de Emprego por Gênero_Não                                          NaN   \n",
      "Desafios de Emprego por Gênero_Sim                                          NaN   \n",
      "Interesse em Empreender_Sim                                                 NaN   \n",
      "Interesse em Empreender_Talvez                                          -0.6201   \n",
      "Situação no Mercado de Trabalho_Desempregado (a)                            NaN   \n",
      "Situação no Mercado de Trabalho_Empregado (a)                               NaN   \n",
      "Usa Redes Sociais?_Não                                                      NaN   \n",
      "Usa Redes Sociais?_Sim                                                      NaN   \n",
      "Finalidade do Uso do App Incluses_Divulgar cont...                          NaN   \n",
      "\n",
      "                                                    Interesse em Empreender_Talvez  \\\n",
      "Faixa Etária_25-34 anos                                                        NaN   \n",
      "Faixa Etária_45-54 anos                                                        NaN   \n",
      "Faixa Etária_55 anos ou mais                                                   NaN   \n",
      "Faixa Etária_Menos de 18 anos                                                  NaN   \n",
      "Identidade de Gênero_Homem cisgênero                                           NaN   \n",
      "Identidade de Gênero_Mulher cisgênero                                          NaN   \n",
      "Identidade de Gênero_Não-binário                                               NaN   \n",
      "Identidade de Gênero_Outra                                                     NaN   \n",
      "Orientação Sexual_Assexual                                                     NaN   \n",
      "Orientação Sexual_Bissexual                                                    NaN   \n",
      "Orientação Sexual_Heterossexual                                                NaN   \n",
      "Orientação Sexual_Outra                                                        NaN   \n",
      "Cidade/Estado_Região Centro-Oeste                                              NaN   \n",
      "Cidade/Estado_Região Nordeste                                                  NaN   \n",
      "Cidade/Estado_Região Sudeste                                                   NaN   \n",
      "Escolaridade_Ensino Fundamental completo ou cur...                             NaN   \n",
      "Escolaridade_Ensino Superior completo ou cursando                              NaN   \n",
      "Escolaridade_Nenhum                                                            NaN   \n",
      "Usa Apps para Oportunidades de Emprego?_Não                                    NaN   \n",
      "Usa Apps para Oportunidades de Emprego?_Sim                                    NaN   \n",
      "Preferência de Cursos_Não tenho preferência, po...                             NaN   \n",
      "Preferência de Cursos_Prefiro cursos on-line                                   NaN   \n",
      "Preferência de Cursos_Prefiro cursos presenciais                               NaN   \n",
      "Desafios de Emprego por Gênero_Não                                             NaN   \n",
      "Desafios de Emprego por Gênero_Sim                                             NaN   \n",
      "Interesse em Empreender_Sim                                                -0.6201   \n",
      "Interesse em Empreender_Talvez                                                 NaN   \n",
      "Situação no Mercado de Trabalho_Desempregado (a)                               NaN   \n",
      "Situação no Mercado de Trabalho_Empregado (a)                                  NaN   \n",
      "Usa Redes Sociais?_Não                                                         NaN   \n",
      "Usa Redes Sociais?_Sim                                                         NaN   \n",
      "Finalidade do Uso do App Incluses_Divulgar cont...                             NaN   \n",
      "\n",
      "                                                    Situação no Mercado de Trabalho_Desempregado (a)  \\\n",
      "Faixa Etária_25-34 anos                                                                          NaN   \n",
      "Faixa Etária_45-54 anos                                                                          NaN   \n",
      "Faixa Etária_55 anos ou mais                                                                     NaN   \n",
      "Faixa Etária_Menos de 18 anos                                                               0.620007   \n",
      "Identidade de Gênero_Homem cisgênero                                                             NaN   \n",
      "Identidade de Gênero_Mulher cisgênero                                                            NaN   \n",
      "Identidade de Gênero_Não-binário                                                                 NaN   \n",
      "Identidade de Gênero_Outra                                                                       NaN   \n",
      "Orientação Sexual_Assexual                                                                       NaN   \n",
      "Orientação Sexual_Bissexual                                                                      NaN   \n",
      "Orientação Sexual_Heterossexual                                                                  NaN   \n",
      "Orientação Sexual_Outra                                                                          NaN   \n",
      "Cidade/Estado_Região Centro-Oeste                                                                NaN   \n",
      "Cidade/Estado_Região Nordeste                                                                    NaN   \n",
      "Cidade/Estado_Região Sudeste                                                                     NaN   \n",
      "Escolaridade_Ensino Fundamental completo ou cur...                                               NaN   \n",
      "Escolaridade_Ensino Superior completo ou cursando                                          -0.615309   \n",
      "Escolaridade_Nenhum                                                                         0.503953   \n",
      "Usa Apps para Oportunidades de Emprego?_Não                                                      NaN   \n",
      "Usa Apps para Oportunidades de Emprego?_Sim                                                      NaN   \n",
      "Preferência de Cursos_Não tenho preferência, po...                                               NaN   \n",
      "Preferência de Cursos_Prefiro cursos on-line                                                     NaN   \n",
      "Preferência de Cursos_Prefiro cursos presenciais                                                 NaN   \n",
      "Desafios de Emprego por Gênero_Não                                                               NaN   \n",
      "Desafios de Emprego por Gênero_Sim                                                               NaN   \n",
      "Interesse em Empreender_Sim                                                                      NaN   \n",
      "Interesse em Empreender_Talvez                                                                   NaN   \n",
      "Situação no Mercado de Trabalho_Desempregado (a)                                                 NaN   \n",
      "Situação no Mercado de Trabalho_Empregado (a)                                              -1.000000   \n",
      "Usa Redes Sociais?_Não                                                                           NaN   \n",
      "Usa Redes Sociais?_Sim                                                                           NaN   \n",
      "Finalidade do Uso do App Incluses_Divulgar cont...                                               NaN   \n",
      "\n",
      "                                                    Situação no Mercado de Trabalho_Empregado (a)  \\\n",
      "Faixa Etária_25-34 anos                                                                       NaN   \n",
      "Faixa Etária_45-54 anos                                                                       NaN   \n",
      "Faixa Etária_55 anos ou mais                                                                  NaN   \n",
      "Faixa Etária_Menos de 18 anos                                                           -0.620007   \n",
      "Identidade de Gênero_Homem cisgênero                                                          NaN   \n",
      "Identidade de Gênero_Mulher cisgênero                                                         NaN   \n",
      "Identidade de Gênero_Não-binário                                                              NaN   \n",
      "Identidade de Gênero_Outra                                                                    NaN   \n",
      "Orientação Sexual_Assexual                                                                    NaN   \n",
      "Orientação Sexual_Bissexual                                                                   NaN   \n",
      "Orientação Sexual_Heterossexual                                                               NaN   \n",
      "Orientação Sexual_Outra                                                                       NaN   \n",
      "Cidade/Estado_Região Centro-Oeste                                                             NaN   \n",
      "Cidade/Estado_Região Nordeste                                                                 NaN   \n",
      "Cidade/Estado_Região Sudeste                                                                  NaN   \n",
      "Escolaridade_Ensino Fundamental completo ou cur...                                            NaN   \n",
      "Escolaridade_Ensino Superior completo ou cursando                                        0.615309   \n",
      "Escolaridade_Nenhum                                                                     -0.503953   \n",
      "Usa Apps para Oportunidades de Emprego?_Não                                                   NaN   \n",
      "Usa Apps para Oportunidades de Emprego?_Sim                                                   NaN   \n",
      "Preferência de Cursos_Não tenho preferência, po...                                            NaN   \n",
      "Preferência de Cursos_Prefiro cursos on-line                                                  NaN   \n",
      "Preferência de Cursos_Prefiro cursos presenciais                                              NaN   \n",
      "Desafios de Emprego por Gênero_Não                                                            NaN   \n",
      "Desafios de Emprego por Gênero_Sim                                                            NaN   \n",
      "Interesse em Empreender_Sim                                                                   NaN   \n",
      "Interesse em Empreender_Talvez                                                                NaN   \n",
      "Situação no Mercado de Trabalho_Desempregado (a)                                        -1.000000   \n",
      "Situação no Mercado de Trabalho_Empregado (a)                                                 NaN   \n",
      "Usa Redes Sociais?_Não                                                                        NaN   \n",
      "Usa Redes Sociais?_Sim                                                                        NaN   \n",
      "Finalidade do Uso do App Incluses_Divulgar cont...                                            NaN   \n",
      "\n",
      "                                                    Usa Redes Sociais?_Não  \\\n",
      "Faixa Etária_25-34 anos                                                NaN   \n",
      "Faixa Etária_45-54 anos                                                NaN   \n",
      "Faixa Etária_55 anos ou mais                                           NaN   \n",
      "Faixa Etária_Menos de 18 anos                                          NaN   \n",
      "Identidade de Gênero_Homem cisgênero                                   NaN   \n",
      "Identidade de Gênero_Mulher cisgênero                                  NaN   \n",
      "Identidade de Gênero_Não-binário                                       NaN   \n",
      "Identidade de Gênero_Outra                                             NaN   \n",
      "Orientação Sexual_Assexual                                             NaN   \n",
      "Orientação Sexual_Bissexual                                            NaN   \n",
      "Orientação Sexual_Heterossexual                                        NaN   \n",
      "Orientação Sexual_Outra                                                NaN   \n",
      "Cidade/Estado_Região Centro-Oeste                                      NaN   \n",
      "Cidade/Estado_Região Nordeste                                      0.56466   \n",
      "Cidade/Estado_Região Sudeste                                           NaN   \n",
      "Escolaridade_Ensino Fundamental completo ou cur...                     NaN   \n",
      "Escolaridade_Ensino Superior completo ou cursando                      NaN   \n",
      "Escolaridade_Nenhum                                                0.57653   \n",
      "Usa Apps para Oportunidades de Emprego?_Não                            NaN   \n",
      "Usa Apps para Oportunidades de Emprego?_Sim                            NaN   \n",
      "Preferência de Cursos_Não tenho preferência, po...                     NaN   \n",
      "Preferência de Cursos_Prefiro cursos on-line                           NaN   \n",
      "Preferência de Cursos_Prefiro cursos presenciais                       NaN   \n",
      "Desafios de Emprego por Gênero_Não                                     NaN   \n",
      "Desafios de Emprego por Gênero_Sim                                     NaN   \n",
      "Interesse em Empreender_Sim                                            NaN   \n",
      "Interesse em Empreender_Talvez                                         NaN   \n",
      "Situação no Mercado de Trabalho_Desempregado (a)                       NaN   \n",
      "Situação no Mercado de Trabalho_Empregado (a)                          NaN   \n",
      "Usa Redes Sociais?_Não                                                 NaN   \n",
      "Usa Redes Sociais?_Sim                                            -1.00000   \n",
      "Finalidade do Uso do App Incluses_Divulgar cont...                     NaN   \n",
      "\n",
      "                                                    Usa Redes Sociais?_Sim  \\\n",
      "Faixa Etária_25-34 anos                                                NaN   \n",
      "Faixa Etária_45-54 anos                                                NaN   \n",
      "Faixa Etária_55 anos ou mais                                           NaN   \n",
      "Faixa Etária_Menos de 18 anos                                          NaN   \n",
      "Identidade de Gênero_Homem cisgênero                                   NaN   \n",
      "Identidade de Gênero_Mulher cisgênero                                  NaN   \n",
      "Identidade de Gênero_Não-binário                                       NaN   \n",
      "Identidade de Gênero_Outra                                             NaN   \n",
      "Orientação Sexual_Assexual                                             NaN   \n",
      "Orientação Sexual_Bissexual                                            NaN   \n",
      "Orientação Sexual_Heterossexual                                        NaN   \n",
      "Orientação Sexual_Outra                                                NaN   \n",
      "Cidade/Estado_Região Centro-Oeste                                      NaN   \n",
      "Cidade/Estado_Região Nordeste                                     -0.56466   \n",
      "Cidade/Estado_Região Sudeste                                           NaN   \n",
      "Escolaridade_Ensino Fundamental completo ou cur...                     NaN   \n",
      "Escolaridade_Ensino Superior completo ou cursando                      NaN   \n",
      "Escolaridade_Nenhum                                               -0.57653   \n",
      "Usa Apps para Oportunidades de Emprego?_Não                            NaN   \n",
      "Usa Apps para Oportunidades de Emprego?_Sim                            NaN   \n",
      "Preferência de Cursos_Não tenho preferência, po...                     NaN   \n",
      "Preferência de Cursos_Prefiro cursos on-line                           NaN   \n",
      "Preferência de Cursos_Prefiro cursos presenciais                       NaN   \n",
      "Desafios de Emprego por Gênero_Não                                     NaN   \n",
      "Desafios de Emprego por Gênero_Sim                                     NaN   \n",
      "Interesse em Empreender_Sim                                            NaN   \n",
      "Interesse em Empreender_Talvez                                         NaN   \n",
      "Situação no Mercado de Trabalho_Desempregado (a)                       NaN   \n",
      "Situação no Mercado de Trabalho_Empregado (a)                          NaN   \n",
      "Usa Redes Sociais?_Não                                            -1.00000   \n",
      "Usa Redes Sociais?_Sim                                                 NaN   \n",
      "Finalidade do Uso do App Incluses_Divulgar cont...                     NaN   \n",
      "\n",
      "                                                    Finalidade do Uso do App Incluses_Divulgar conteúdos profissionais   \n",
      "Faixa Etária_25-34 anos                                                                           NaN                    \n",
      "Faixa Etária_45-54 anos                                                                       0.56466                    \n",
      "Faixa Etária_55 anos ou mais                                                                      NaN                    \n",
      "Faixa Etária_Menos de 18 anos                                                                     NaN                    \n",
      "Identidade de Gênero_Homem cisgênero                                                              NaN                    \n",
      "Identidade de Gênero_Mulher cisgênero                                                             NaN                    \n",
      "Identidade de Gênero_Não-binário                                                                  NaN                    \n",
      "Identidade de Gênero_Outra                                                                        NaN                    \n",
      "Orientação Sexual_Assexual                                                                        NaN                    \n",
      "Orientação Sexual_Bissexual                                                                       NaN                    \n",
      "Orientação Sexual_Heterossexual                                                                   NaN                    \n",
      "Orientação Sexual_Outra                                                                           NaN                    \n",
      "Cidade/Estado_Região Centro-Oeste                                                                 NaN                    \n",
      "Cidade/Estado_Região Nordeste                                                                     NaN                    \n",
      "Cidade/Estado_Região Sudeste                                                                      NaN                    \n",
      "Escolaridade_Ensino Fundamental completo ou cur...                                                NaN                    \n",
      "Escolaridade_Ensino Superior completo ou cursando                                                 NaN                    \n",
      "Escolaridade_Nenhum                                                                               NaN                    \n",
      "Usa Apps para Oportunidades de Emprego?_Não                                                       NaN                    \n",
      "Usa Apps para Oportunidades de Emprego?_Sim                                                       NaN                    \n",
      "Preferência de Cursos_Não tenho preferência, po...                                                NaN                    \n",
      "Preferência de Cursos_Prefiro cursos on-line                                                      NaN                    \n",
      "Preferência de Cursos_Prefiro cursos presenciais                                                  NaN                    \n",
      "Desafios de Emprego por Gênero_Não                                                                NaN                    \n",
      "Desafios de Emprego por Gênero_Sim                                                                NaN                    \n",
      "Interesse em Empreender_Sim                                                                       NaN                    \n",
      "Interesse em Empreender_Talvez                                                                    NaN                    \n",
      "Situação no Mercado de Trabalho_Desempregado (a)                                                  NaN                    \n",
      "Situação no Mercado de Trabalho_Empregado (a)                                                     NaN                    \n",
      "Usa Redes Sociais?_Não                                                                            NaN                    \n",
      "Usa Redes Sociais?_Sim                                                                            NaN                    \n",
      "Finalidade do Uso do App Incluses_Divulgar cont...                                                NaN                    \n",
      "\n",
      "[32 rows x 32 columns]\n"
     ]
    }
   ],
   "source": [
    "# Definindo o pré-processador para transformar colunas categóricas em numéricas\n",
    "preprocessador = ColumnTransformer(\n",
    "    transformers=[\n",
    "        ('one_hot_encoder', OneHotEncoder(sparse_output=False), make_column_selector(dtype_include=['object', 'bool']))\n",
    "    ],\n",
    "    remainder='passthrough',  # Manter as colunas não transformadas\n",
    "    verbose_feature_names_out=False \n",
    ")\n",
    "\n",
    "# Aplicando a transformação\n",
    "df_incluses_in_float = preprocessador.fit_transform(df_incluses)\n",
    "\n",
    "# Obtendo as novas colunas criadas pelo OneHotEncoder\n",
    "colunas_transformadas = preprocessador.named_transformers_['one_hot_encoder'].get_feature_names_out(\n",
    "    input_features=df_incluses.select_dtypes(include=['object', 'bool']).columns\n",
    ")\n",
    "\n",
    "# Obtendo as colunas que não foram transformadas (numéricas)\n",
    "colunas_restantes = df_incluses.select_dtypes(exclude=['object', 'bool']).columns\n",
    "\n",
    "# Combinando as colunas transformadas e não transformadas\n",
    "novas_colunas = np.concatenate([colunas_transformadas, colunas_restantes])\n",
    "\n",
    "# Convertendo o resultado de volta para um DataFrame com as novas colunas\n",
    "df_incluses_in_float = pd.DataFrame(df_incluses_in_float, columns=novas_colunas)\n",
    "\n",
    "# Calculando a matriz de correlação\n",
    "matriz_correlacao = df_incluses_in_float.corr()\n",
    "\n",
    "# Removendo a diagonal principal\n",
    "np.fill_diagonal(matriz_correlacao.values, 0)\n",
    "\n",
    "# Filtrando a matriz de correlação para valores acima de 0.5 e abaixo de -0.5\n",
    "matriz_correlacao_filtrada = matriz_correlacao[(matriz_correlacao > 0.5) | (matriz_correlacao < -0.5)]\n",
    "\n",
    "# Removendo colunas e linhas que não contêm correlações significativas\n",
    "matriz_correlacao_filtrada = matriz_correlacao_filtrada.dropna(how='all', axis=0).dropna(how='all', axis=1)\n",
    "\n",
    "# Visualização da matriz de correlação filtrada\n",
    "plt.figure(figsize=(18, 18))\n",
    "sns.heatmap(matriz_correlacao_filtrada, annot=True, fmt=\".1f\", cmap=\"coolwarm\", center=0)\n",
    "plt.title(\"Matriz de Correlação (Filtrada)\")\n",
    "plt.show()\n",
    "\n",
    "# Exibindo a matriz de correlação filtrada\n",
    "print(\"Matriz de Correlação Filtrada:\")\n",
    "print(matriz_correlacao_filtrada)\n"
   ]
  },
  {
   "cell_type": "markdown",
   "metadata": {},
   "source": [
    "#### Vendo a relação entre 'Faixa Etária' e 'Situação no Mercado de Trabalho'"
   ]
  },
  {
   "cell_type": "code",
   "execution_count": 208,
   "metadata": {},
   "outputs": [
    {
     "data": {
      "application/vnd.plotly.v1+json": {
       "config": {
        "plotlyServerURL": "https://plot.ly"
       },
       "data": [
        {
         "alignmentgroup": "True",
         "hovertemplate": "Situação no Mercado de Trabalho=Empregado (a)<br>Faixa Etária=%{x}<br>Quantidade=%{y}<extra></extra>",
         "legendgroup": "Empregado (a)",
         "marker": {
          "color": "#636efa",
          "pattern": {
           "shape": ""
          }
         },
         "name": "Empregado (a)",
         "offsetgroup": "Empregado (a)",
         "orientation": "v",
         "showlegend": true,
         "textposition": "auto",
         "type": "bar",
         "x": [
          "18-24 anos",
          "25-34 anos",
          "35-44 anos",
          "45-54 anos",
          "55 anos ou mais",
          "Menos de 18 anos"
         ],
         "xaxis": "x",
         "y": [
          2,
          9,
          4,
          1,
          1,
          9
         ],
         "yaxis": "y"
        },
        {
         "alignmentgroup": "True",
         "hovertemplate": "Situação no Mercado de Trabalho=Desempregado (a)<br>Faixa Etária=%{x}<br>Quantidade=%{y}<extra></extra>",
         "legendgroup": "Desempregado (a)",
         "marker": {
          "color": "#EF553B",
          "pattern": {
           "shape": ""
          }
         },
         "name": "Desempregado (a)",
         "offsetgroup": "Desempregado (a)",
         "orientation": "v",
         "showlegend": true,
         "textposition": "auto",
         "type": "bar",
         "x": [
          "55 anos ou mais",
          "Menos de 18 anos"
         ],
         "xaxis": "x",
         "y": [
          1,
          20
         ],
         "yaxis": "y"
        }
       ],
       "layout": {
        "barmode": "stack",
        "legend": {
         "title": {
          "text": "Situação no Mercado de Trabalho"
         },
         "tracegroupgap": 0
        },
        "template": {
         "data": {
          "bar": [
           {
            "error_x": {
             "color": "#2a3f5f"
            },
            "error_y": {
             "color": "#2a3f5f"
            },
            "marker": {
             "line": {
              "color": "#E5ECF6",
              "width": 0.5
             },
             "pattern": {
              "fillmode": "overlay",
              "size": 10,
              "solidity": 0.2
             }
            },
            "type": "bar"
           }
          ],
          "barpolar": [
           {
            "marker": {
             "line": {
              "color": "#E5ECF6",
              "width": 0.5
             },
             "pattern": {
              "fillmode": "overlay",
              "size": 10,
              "solidity": 0.2
             }
            },
            "type": "barpolar"
           }
          ],
          "carpet": [
           {
            "aaxis": {
             "endlinecolor": "#2a3f5f",
             "gridcolor": "white",
             "linecolor": "white",
             "minorgridcolor": "white",
             "startlinecolor": "#2a3f5f"
            },
            "baxis": {
             "endlinecolor": "#2a3f5f",
             "gridcolor": "white",
             "linecolor": "white",
             "minorgridcolor": "white",
             "startlinecolor": "#2a3f5f"
            },
            "type": "carpet"
           }
          ],
          "choropleth": [
           {
            "colorbar": {
             "outlinewidth": 0,
             "ticks": ""
            },
            "type": "choropleth"
           }
          ],
          "contour": [
           {
            "colorbar": {
             "outlinewidth": 0,
             "ticks": ""
            },
            "colorscale": [
             [
              0,
              "#0d0887"
             ],
             [
              0.1111111111111111,
              "#46039f"
             ],
             [
              0.2222222222222222,
              "#7201a8"
             ],
             [
              0.3333333333333333,
              "#9c179e"
             ],
             [
              0.4444444444444444,
              "#bd3786"
             ],
             [
              0.5555555555555556,
              "#d8576b"
             ],
             [
              0.6666666666666666,
              "#ed7953"
             ],
             [
              0.7777777777777778,
              "#fb9f3a"
             ],
             [
              0.8888888888888888,
              "#fdca26"
             ],
             [
              1,
              "#f0f921"
             ]
            ],
            "type": "contour"
           }
          ],
          "contourcarpet": [
           {
            "colorbar": {
             "outlinewidth": 0,
             "ticks": ""
            },
            "type": "contourcarpet"
           }
          ],
          "heatmap": [
           {
            "colorbar": {
             "outlinewidth": 0,
             "ticks": ""
            },
            "colorscale": [
             [
              0,
              "#0d0887"
             ],
             [
              0.1111111111111111,
              "#46039f"
             ],
             [
              0.2222222222222222,
              "#7201a8"
             ],
             [
              0.3333333333333333,
              "#9c179e"
             ],
             [
              0.4444444444444444,
              "#bd3786"
             ],
             [
              0.5555555555555556,
              "#d8576b"
             ],
             [
              0.6666666666666666,
              "#ed7953"
             ],
             [
              0.7777777777777778,
              "#fb9f3a"
             ],
             [
              0.8888888888888888,
              "#fdca26"
             ],
             [
              1,
              "#f0f921"
             ]
            ],
            "type": "heatmap"
           }
          ],
          "heatmapgl": [
           {
            "colorbar": {
             "outlinewidth": 0,
             "ticks": ""
            },
            "colorscale": [
             [
              0,
              "#0d0887"
             ],
             [
              0.1111111111111111,
              "#46039f"
             ],
             [
              0.2222222222222222,
              "#7201a8"
             ],
             [
              0.3333333333333333,
              "#9c179e"
             ],
             [
              0.4444444444444444,
              "#bd3786"
             ],
             [
              0.5555555555555556,
              "#d8576b"
             ],
             [
              0.6666666666666666,
              "#ed7953"
             ],
             [
              0.7777777777777778,
              "#fb9f3a"
             ],
             [
              0.8888888888888888,
              "#fdca26"
             ],
             [
              1,
              "#f0f921"
             ]
            ],
            "type": "heatmapgl"
           }
          ],
          "histogram": [
           {
            "marker": {
             "pattern": {
              "fillmode": "overlay",
              "size": 10,
              "solidity": 0.2
             }
            },
            "type": "histogram"
           }
          ],
          "histogram2d": [
           {
            "colorbar": {
             "outlinewidth": 0,
             "ticks": ""
            },
            "colorscale": [
             [
              0,
              "#0d0887"
             ],
             [
              0.1111111111111111,
              "#46039f"
             ],
             [
              0.2222222222222222,
              "#7201a8"
             ],
             [
              0.3333333333333333,
              "#9c179e"
             ],
             [
              0.4444444444444444,
              "#bd3786"
             ],
             [
              0.5555555555555556,
              "#d8576b"
             ],
             [
              0.6666666666666666,
              "#ed7953"
             ],
             [
              0.7777777777777778,
              "#fb9f3a"
             ],
             [
              0.8888888888888888,
              "#fdca26"
             ],
             [
              1,
              "#f0f921"
             ]
            ],
            "type": "histogram2d"
           }
          ],
          "histogram2dcontour": [
           {
            "colorbar": {
             "outlinewidth": 0,
             "ticks": ""
            },
            "colorscale": [
             [
              0,
              "#0d0887"
             ],
             [
              0.1111111111111111,
              "#46039f"
             ],
             [
              0.2222222222222222,
              "#7201a8"
             ],
             [
              0.3333333333333333,
              "#9c179e"
             ],
             [
              0.4444444444444444,
              "#bd3786"
             ],
             [
              0.5555555555555556,
              "#d8576b"
             ],
             [
              0.6666666666666666,
              "#ed7953"
             ],
             [
              0.7777777777777778,
              "#fb9f3a"
             ],
             [
              0.8888888888888888,
              "#fdca26"
             ],
             [
              1,
              "#f0f921"
             ]
            ],
            "type": "histogram2dcontour"
           }
          ],
          "mesh3d": [
           {
            "colorbar": {
             "outlinewidth": 0,
             "ticks": ""
            },
            "type": "mesh3d"
           }
          ],
          "parcoords": [
           {
            "line": {
             "colorbar": {
              "outlinewidth": 0,
              "ticks": ""
             }
            },
            "type": "parcoords"
           }
          ],
          "pie": [
           {
            "automargin": true,
            "type": "pie"
           }
          ],
          "scatter": [
           {
            "fillpattern": {
             "fillmode": "overlay",
             "size": 10,
             "solidity": 0.2
            },
            "type": "scatter"
           }
          ],
          "scatter3d": [
           {
            "line": {
             "colorbar": {
              "outlinewidth": 0,
              "ticks": ""
             }
            },
            "marker": {
             "colorbar": {
              "outlinewidth": 0,
              "ticks": ""
             }
            },
            "type": "scatter3d"
           }
          ],
          "scattercarpet": [
           {
            "marker": {
             "colorbar": {
              "outlinewidth": 0,
              "ticks": ""
             }
            },
            "type": "scattercarpet"
           }
          ],
          "scattergeo": [
           {
            "marker": {
             "colorbar": {
              "outlinewidth": 0,
              "ticks": ""
             }
            },
            "type": "scattergeo"
           }
          ],
          "scattergl": [
           {
            "marker": {
             "colorbar": {
              "outlinewidth": 0,
              "ticks": ""
             }
            },
            "type": "scattergl"
           }
          ],
          "scattermapbox": [
           {
            "marker": {
             "colorbar": {
              "outlinewidth": 0,
              "ticks": ""
             }
            },
            "type": "scattermapbox"
           }
          ],
          "scatterpolar": [
           {
            "marker": {
             "colorbar": {
              "outlinewidth": 0,
              "ticks": ""
             }
            },
            "type": "scatterpolar"
           }
          ],
          "scatterpolargl": [
           {
            "marker": {
             "colorbar": {
              "outlinewidth": 0,
              "ticks": ""
             }
            },
            "type": "scatterpolargl"
           }
          ],
          "scatterternary": [
           {
            "marker": {
             "colorbar": {
              "outlinewidth": 0,
              "ticks": ""
             }
            },
            "type": "scatterternary"
           }
          ],
          "surface": [
           {
            "colorbar": {
             "outlinewidth": 0,
             "ticks": ""
            },
            "colorscale": [
             [
              0,
              "#0d0887"
             ],
             [
              0.1111111111111111,
              "#46039f"
             ],
             [
              0.2222222222222222,
              "#7201a8"
             ],
             [
              0.3333333333333333,
              "#9c179e"
             ],
             [
              0.4444444444444444,
              "#bd3786"
             ],
             [
              0.5555555555555556,
              "#d8576b"
             ],
             [
              0.6666666666666666,
              "#ed7953"
             ],
             [
              0.7777777777777778,
              "#fb9f3a"
             ],
             [
              0.8888888888888888,
              "#fdca26"
             ],
             [
              1,
              "#f0f921"
             ]
            ],
            "type": "surface"
           }
          ],
          "table": [
           {
            "cells": {
             "fill": {
              "color": "#EBF0F8"
             },
             "line": {
              "color": "white"
             }
            },
            "header": {
             "fill": {
              "color": "#C8D4E3"
             },
             "line": {
              "color": "white"
             }
            },
            "type": "table"
           }
          ]
         },
         "layout": {
          "annotationdefaults": {
           "arrowcolor": "#2a3f5f",
           "arrowhead": 0,
           "arrowwidth": 1
          },
          "autotypenumbers": "strict",
          "coloraxis": {
           "colorbar": {
            "outlinewidth": 0,
            "ticks": ""
           }
          },
          "colorscale": {
           "diverging": [
            [
             0,
             "#8e0152"
            ],
            [
             0.1,
             "#c51b7d"
            ],
            [
             0.2,
             "#de77ae"
            ],
            [
             0.3,
             "#f1b6da"
            ],
            [
             0.4,
             "#fde0ef"
            ],
            [
             0.5,
             "#f7f7f7"
            ],
            [
             0.6,
             "#e6f5d0"
            ],
            [
             0.7,
             "#b8e186"
            ],
            [
             0.8,
             "#7fbc41"
            ],
            [
             0.9,
             "#4d9221"
            ],
            [
             1,
             "#276419"
            ]
           ],
           "sequential": [
            [
             0,
             "#0d0887"
            ],
            [
             0.1111111111111111,
             "#46039f"
            ],
            [
             0.2222222222222222,
             "#7201a8"
            ],
            [
             0.3333333333333333,
             "#9c179e"
            ],
            [
             0.4444444444444444,
             "#bd3786"
            ],
            [
             0.5555555555555556,
             "#d8576b"
            ],
            [
             0.6666666666666666,
             "#ed7953"
            ],
            [
             0.7777777777777778,
             "#fb9f3a"
            ],
            [
             0.8888888888888888,
             "#fdca26"
            ],
            [
             1,
             "#f0f921"
            ]
           ],
           "sequentialminus": [
            [
             0,
             "#0d0887"
            ],
            [
             0.1111111111111111,
             "#46039f"
            ],
            [
             0.2222222222222222,
             "#7201a8"
            ],
            [
             0.3333333333333333,
             "#9c179e"
            ],
            [
             0.4444444444444444,
             "#bd3786"
            ],
            [
             0.5555555555555556,
             "#d8576b"
            ],
            [
             0.6666666666666666,
             "#ed7953"
            ],
            [
             0.7777777777777778,
             "#fb9f3a"
            ],
            [
             0.8888888888888888,
             "#fdca26"
            ],
            [
             1,
             "#f0f921"
            ]
           ]
          },
          "colorway": [
           "#636efa",
           "#EF553B",
           "#00cc96",
           "#ab63fa",
           "#FFA15A",
           "#19d3f3",
           "#FF6692",
           "#B6E880",
           "#FF97FF",
           "#FECB52"
          ],
          "font": {
           "color": "#2a3f5f"
          },
          "geo": {
           "bgcolor": "white",
           "lakecolor": "white",
           "landcolor": "#E5ECF6",
           "showlakes": true,
           "showland": true,
           "subunitcolor": "white"
          },
          "hoverlabel": {
           "align": "left"
          },
          "hovermode": "closest",
          "mapbox": {
           "style": "light"
          },
          "paper_bgcolor": "white",
          "plot_bgcolor": "#E5ECF6",
          "polar": {
           "angularaxis": {
            "gridcolor": "white",
            "linecolor": "white",
            "ticks": ""
           },
           "bgcolor": "#E5ECF6",
           "radialaxis": {
            "gridcolor": "white",
            "linecolor": "white",
            "ticks": ""
           }
          },
          "scene": {
           "xaxis": {
            "backgroundcolor": "#E5ECF6",
            "gridcolor": "white",
            "gridwidth": 2,
            "linecolor": "white",
            "showbackground": true,
            "ticks": "",
            "zerolinecolor": "white"
           },
           "yaxis": {
            "backgroundcolor": "#E5ECF6",
            "gridcolor": "white",
            "gridwidth": 2,
            "linecolor": "white",
            "showbackground": true,
            "ticks": "",
            "zerolinecolor": "white"
           },
           "zaxis": {
            "backgroundcolor": "#E5ECF6",
            "gridcolor": "white",
            "gridwidth": 2,
            "linecolor": "white",
            "showbackground": true,
            "ticks": "",
            "zerolinecolor": "white"
           }
          },
          "shapedefaults": {
           "line": {
            "color": "#2a3f5f"
           }
          },
          "ternary": {
           "aaxis": {
            "gridcolor": "white",
            "linecolor": "white",
            "ticks": ""
           },
           "baxis": {
            "gridcolor": "white",
            "linecolor": "white",
            "ticks": ""
           },
           "bgcolor": "#E5ECF6",
           "caxis": {
            "gridcolor": "white",
            "linecolor": "white",
            "ticks": ""
           }
          },
          "title": {
           "x": 0.05
          },
          "xaxis": {
           "automargin": true,
           "gridcolor": "white",
           "linecolor": "white",
           "ticks": "",
           "title": {
            "standoff": 15
           },
           "zerolinecolor": "white",
           "zerolinewidth": 2
          },
          "yaxis": {
           "automargin": true,
           "gridcolor": "white",
           "linecolor": "white",
           "ticks": "",
           "title": {
            "standoff": 15
           },
           "zerolinecolor": "white",
           "zerolinewidth": 2
          }
         }
        },
        "title": {
         "text": "Situação Trabalhista por Faixa Etária"
        },
        "xaxis": {
         "anchor": "y",
         "domain": [
          0,
          1
         ],
         "title": {
          "text": "Faixa Etária"
         }
        },
        "yaxis": {
         "anchor": "x",
         "domain": [
          0,
          1
         ],
         "title": {
          "text": "Quantidade"
         }
        }
       }
      }
     },
     "metadata": {},
     "output_type": "display_data"
    }
   ],
   "source": [
    "# Exemplo de DataFrame com colunas 'Faixa Etária' e 'Situação no Mercado de Trabalho'\n",
    "df_grouped = df_incluses.groupby(['Faixa Etária', 'Situação no Mercado de Trabalho']).size().reset_index(name='Contagem')\n",
    "\n",
    "# Criando o gráfico de barras empilhadas\n",
    "fig = px.bar(df_grouped, \n",
    "             x='Faixa Etária', \n",
    "             y='Contagem', \n",
    "             color='Situação no Mercado de Trabalho', \n",
    "             title='Situação Trabalhista por Faixa Etária',\n",
    "             labels={'Contagem': 'Quantidade', 'Faixa Etária': 'Faixa Etária'},\n",
    "             barmode='stack')\n",
    "\n",
    "fig.show()"
   ]
  },
  {
   "cell_type": "markdown",
   "metadata": {},
   "source": [
    "#### Vendo a relação entre 'Faixa Etária' e 'Escolaridade'"
   ]
  },
  {
   "cell_type": "code",
   "execution_count": 209,
   "metadata": {},
   "outputs": [
    {
     "data": {
      "application/vnd.plotly.v1+json": {
       "config": {
        "plotlyServerURL": "https://plot.ly"
       },
       "data": [
        {
         "alignmentgroup": "True",
         "hovertemplate": "Escolaridade=Ensino Médio completo ou cursando<br>Faixa Etária=%{x}<br>Quantidade=%{y}<extra></extra>",
         "legendgroup": "Ensino Médio completo ou cursando",
         "marker": {
          "color": "#636efa",
          "pattern": {
           "shape": ""
          }
         },
         "name": "Ensino Médio completo ou cursando",
         "offsetgroup": "Ensino Médio completo ou cursando",
         "orientation": "v",
         "showlegend": true,
         "textposition": "auto",
         "type": "bar",
         "x": [
          "18-24 anos",
          "25-34 anos",
          "Menos de 18 anos"
         ],
         "xaxis": "x",
         "y": [
          1,
          1,
          4
         ],
         "yaxis": "y"
        },
        {
         "alignmentgroup": "True",
         "hovertemplate": "Escolaridade=Ensino Superior completo ou cursando<br>Faixa Etária=%{x}<br>Quantidade=%{y}<extra></extra>",
         "legendgroup": "Ensino Superior completo ou cursando",
         "marker": {
          "color": "#EF553B",
          "pattern": {
           "shape": ""
          }
         },
         "name": "Ensino Superior completo ou cursando",
         "offsetgroup": "Ensino Superior completo ou cursando",
         "orientation": "v",
         "showlegend": true,
         "textposition": "auto",
         "type": "bar",
         "x": [
          "18-24 anos",
          "25-34 anos",
          "35-44 anos",
          "45-54 anos",
          "55 anos ou mais"
         ],
         "xaxis": "x",
         "y": [
          1,
          8,
          4,
          1,
          1
         ],
         "yaxis": "y"
        },
        {
         "alignmentgroup": "True",
         "hovertemplate": "Escolaridade=Nenhum<br>Faixa Etária=%{x}<br>Quantidade=%{y}<extra></extra>",
         "legendgroup": "Nenhum",
         "marker": {
          "color": "#00cc96",
          "pattern": {
           "shape": ""
          }
         },
         "name": "Nenhum",
         "offsetgroup": "Nenhum",
         "orientation": "v",
         "showlegend": true,
         "textposition": "auto",
         "type": "bar",
         "x": [
          "55 anos ou mais",
          "Menos de 18 anos"
         ],
         "xaxis": "x",
         "y": [
          1,
          7
         ],
         "yaxis": "y"
        },
        {
         "alignmentgroup": "True",
         "hovertemplate": "Escolaridade=Ensino Fundamental completo ou cursando<br>Faixa Etária=%{x}<br>Quantidade=%{y}<extra></extra>",
         "legendgroup": "Ensino Fundamental completo ou cursando",
         "marker": {
          "color": "#ab63fa",
          "pattern": {
           "shape": ""
          }
         },
         "name": "Ensino Fundamental completo ou cursando",
         "offsetgroup": "Ensino Fundamental completo ou cursando",
         "orientation": "v",
         "showlegend": true,
         "textposition": "auto",
         "type": "bar",
         "x": [
          "Menos de 18 anos"
         ],
         "xaxis": "x",
         "y": [
          18
         ],
         "yaxis": "y"
        }
       ],
       "layout": {
        "barmode": "stack",
        "legend": {
         "title": {
          "text": "Escolaridade"
         },
         "tracegroupgap": 0
        },
        "template": {
         "data": {
          "bar": [
           {
            "error_x": {
             "color": "#2a3f5f"
            },
            "error_y": {
             "color": "#2a3f5f"
            },
            "marker": {
             "line": {
              "color": "#E5ECF6",
              "width": 0.5
             },
             "pattern": {
              "fillmode": "overlay",
              "size": 10,
              "solidity": 0.2
             }
            },
            "type": "bar"
           }
          ],
          "barpolar": [
           {
            "marker": {
             "line": {
              "color": "#E5ECF6",
              "width": 0.5
             },
             "pattern": {
              "fillmode": "overlay",
              "size": 10,
              "solidity": 0.2
             }
            },
            "type": "barpolar"
           }
          ],
          "carpet": [
           {
            "aaxis": {
             "endlinecolor": "#2a3f5f",
             "gridcolor": "white",
             "linecolor": "white",
             "minorgridcolor": "white",
             "startlinecolor": "#2a3f5f"
            },
            "baxis": {
             "endlinecolor": "#2a3f5f",
             "gridcolor": "white",
             "linecolor": "white",
             "minorgridcolor": "white",
             "startlinecolor": "#2a3f5f"
            },
            "type": "carpet"
           }
          ],
          "choropleth": [
           {
            "colorbar": {
             "outlinewidth": 0,
             "ticks": ""
            },
            "type": "choropleth"
           }
          ],
          "contour": [
           {
            "colorbar": {
             "outlinewidth": 0,
             "ticks": ""
            },
            "colorscale": [
             [
              0,
              "#0d0887"
             ],
             [
              0.1111111111111111,
              "#46039f"
             ],
             [
              0.2222222222222222,
              "#7201a8"
             ],
             [
              0.3333333333333333,
              "#9c179e"
             ],
             [
              0.4444444444444444,
              "#bd3786"
             ],
             [
              0.5555555555555556,
              "#d8576b"
             ],
             [
              0.6666666666666666,
              "#ed7953"
             ],
             [
              0.7777777777777778,
              "#fb9f3a"
             ],
             [
              0.8888888888888888,
              "#fdca26"
             ],
             [
              1,
              "#f0f921"
             ]
            ],
            "type": "contour"
           }
          ],
          "contourcarpet": [
           {
            "colorbar": {
             "outlinewidth": 0,
             "ticks": ""
            },
            "type": "contourcarpet"
           }
          ],
          "heatmap": [
           {
            "colorbar": {
             "outlinewidth": 0,
             "ticks": ""
            },
            "colorscale": [
             [
              0,
              "#0d0887"
             ],
             [
              0.1111111111111111,
              "#46039f"
             ],
             [
              0.2222222222222222,
              "#7201a8"
             ],
             [
              0.3333333333333333,
              "#9c179e"
             ],
             [
              0.4444444444444444,
              "#bd3786"
             ],
             [
              0.5555555555555556,
              "#d8576b"
             ],
             [
              0.6666666666666666,
              "#ed7953"
             ],
             [
              0.7777777777777778,
              "#fb9f3a"
             ],
             [
              0.8888888888888888,
              "#fdca26"
             ],
             [
              1,
              "#f0f921"
             ]
            ],
            "type": "heatmap"
           }
          ],
          "heatmapgl": [
           {
            "colorbar": {
             "outlinewidth": 0,
             "ticks": ""
            },
            "colorscale": [
             [
              0,
              "#0d0887"
             ],
             [
              0.1111111111111111,
              "#46039f"
             ],
             [
              0.2222222222222222,
              "#7201a8"
             ],
             [
              0.3333333333333333,
              "#9c179e"
             ],
             [
              0.4444444444444444,
              "#bd3786"
             ],
             [
              0.5555555555555556,
              "#d8576b"
             ],
             [
              0.6666666666666666,
              "#ed7953"
             ],
             [
              0.7777777777777778,
              "#fb9f3a"
             ],
             [
              0.8888888888888888,
              "#fdca26"
             ],
             [
              1,
              "#f0f921"
             ]
            ],
            "type": "heatmapgl"
           }
          ],
          "histogram": [
           {
            "marker": {
             "pattern": {
              "fillmode": "overlay",
              "size": 10,
              "solidity": 0.2
             }
            },
            "type": "histogram"
           }
          ],
          "histogram2d": [
           {
            "colorbar": {
             "outlinewidth": 0,
             "ticks": ""
            },
            "colorscale": [
             [
              0,
              "#0d0887"
             ],
             [
              0.1111111111111111,
              "#46039f"
             ],
             [
              0.2222222222222222,
              "#7201a8"
             ],
             [
              0.3333333333333333,
              "#9c179e"
             ],
             [
              0.4444444444444444,
              "#bd3786"
             ],
             [
              0.5555555555555556,
              "#d8576b"
             ],
             [
              0.6666666666666666,
              "#ed7953"
             ],
             [
              0.7777777777777778,
              "#fb9f3a"
             ],
             [
              0.8888888888888888,
              "#fdca26"
             ],
             [
              1,
              "#f0f921"
             ]
            ],
            "type": "histogram2d"
           }
          ],
          "histogram2dcontour": [
           {
            "colorbar": {
             "outlinewidth": 0,
             "ticks": ""
            },
            "colorscale": [
             [
              0,
              "#0d0887"
             ],
             [
              0.1111111111111111,
              "#46039f"
             ],
             [
              0.2222222222222222,
              "#7201a8"
             ],
             [
              0.3333333333333333,
              "#9c179e"
             ],
             [
              0.4444444444444444,
              "#bd3786"
             ],
             [
              0.5555555555555556,
              "#d8576b"
             ],
             [
              0.6666666666666666,
              "#ed7953"
             ],
             [
              0.7777777777777778,
              "#fb9f3a"
             ],
             [
              0.8888888888888888,
              "#fdca26"
             ],
             [
              1,
              "#f0f921"
             ]
            ],
            "type": "histogram2dcontour"
           }
          ],
          "mesh3d": [
           {
            "colorbar": {
             "outlinewidth": 0,
             "ticks": ""
            },
            "type": "mesh3d"
           }
          ],
          "parcoords": [
           {
            "line": {
             "colorbar": {
              "outlinewidth": 0,
              "ticks": ""
             }
            },
            "type": "parcoords"
           }
          ],
          "pie": [
           {
            "automargin": true,
            "type": "pie"
           }
          ],
          "scatter": [
           {
            "fillpattern": {
             "fillmode": "overlay",
             "size": 10,
             "solidity": 0.2
            },
            "type": "scatter"
           }
          ],
          "scatter3d": [
           {
            "line": {
             "colorbar": {
              "outlinewidth": 0,
              "ticks": ""
             }
            },
            "marker": {
             "colorbar": {
              "outlinewidth": 0,
              "ticks": ""
             }
            },
            "type": "scatter3d"
           }
          ],
          "scattercarpet": [
           {
            "marker": {
             "colorbar": {
              "outlinewidth": 0,
              "ticks": ""
             }
            },
            "type": "scattercarpet"
           }
          ],
          "scattergeo": [
           {
            "marker": {
             "colorbar": {
              "outlinewidth": 0,
              "ticks": ""
             }
            },
            "type": "scattergeo"
           }
          ],
          "scattergl": [
           {
            "marker": {
             "colorbar": {
              "outlinewidth": 0,
              "ticks": ""
             }
            },
            "type": "scattergl"
           }
          ],
          "scattermapbox": [
           {
            "marker": {
             "colorbar": {
              "outlinewidth": 0,
              "ticks": ""
             }
            },
            "type": "scattermapbox"
           }
          ],
          "scatterpolar": [
           {
            "marker": {
             "colorbar": {
              "outlinewidth": 0,
              "ticks": ""
             }
            },
            "type": "scatterpolar"
           }
          ],
          "scatterpolargl": [
           {
            "marker": {
             "colorbar": {
              "outlinewidth": 0,
              "ticks": ""
             }
            },
            "type": "scatterpolargl"
           }
          ],
          "scatterternary": [
           {
            "marker": {
             "colorbar": {
              "outlinewidth": 0,
              "ticks": ""
             }
            },
            "type": "scatterternary"
           }
          ],
          "surface": [
           {
            "colorbar": {
             "outlinewidth": 0,
             "ticks": ""
            },
            "colorscale": [
             [
              0,
              "#0d0887"
             ],
             [
              0.1111111111111111,
              "#46039f"
             ],
             [
              0.2222222222222222,
              "#7201a8"
             ],
             [
              0.3333333333333333,
              "#9c179e"
             ],
             [
              0.4444444444444444,
              "#bd3786"
             ],
             [
              0.5555555555555556,
              "#d8576b"
             ],
             [
              0.6666666666666666,
              "#ed7953"
             ],
             [
              0.7777777777777778,
              "#fb9f3a"
             ],
             [
              0.8888888888888888,
              "#fdca26"
             ],
             [
              1,
              "#f0f921"
             ]
            ],
            "type": "surface"
           }
          ],
          "table": [
           {
            "cells": {
             "fill": {
              "color": "#EBF0F8"
             },
             "line": {
              "color": "white"
             }
            },
            "header": {
             "fill": {
              "color": "#C8D4E3"
             },
             "line": {
              "color": "white"
             }
            },
            "type": "table"
           }
          ]
         },
         "layout": {
          "annotationdefaults": {
           "arrowcolor": "#2a3f5f",
           "arrowhead": 0,
           "arrowwidth": 1
          },
          "autotypenumbers": "strict",
          "coloraxis": {
           "colorbar": {
            "outlinewidth": 0,
            "ticks": ""
           }
          },
          "colorscale": {
           "diverging": [
            [
             0,
             "#8e0152"
            ],
            [
             0.1,
             "#c51b7d"
            ],
            [
             0.2,
             "#de77ae"
            ],
            [
             0.3,
             "#f1b6da"
            ],
            [
             0.4,
             "#fde0ef"
            ],
            [
             0.5,
             "#f7f7f7"
            ],
            [
             0.6,
             "#e6f5d0"
            ],
            [
             0.7,
             "#b8e186"
            ],
            [
             0.8,
             "#7fbc41"
            ],
            [
             0.9,
             "#4d9221"
            ],
            [
             1,
             "#276419"
            ]
           ],
           "sequential": [
            [
             0,
             "#0d0887"
            ],
            [
             0.1111111111111111,
             "#46039f"
            ],
            [
             0.2222222222222222,
             "#7201a8"
            ],
            [
             0.3333333333333333,
             "#9c179e"
            ],
            [
             0.4444444444444444,
             "#bd3786"
            ],
            [
             0.5555555555555556,
             "#d8576b"
            ],
            [
             0.6666666666666666,
             "#ed7953"
            ],
            [
             0.7777777777777778,
             "#fb9f3a"
            ],
            [
             0.8888888888888888,
             "#fdca26"
            ],
            [
             1,
             "#f0f921"
            ]
           ],
           "sequentialminus": [
            [
             0,
             "#0d0887"
            ],
            [
             0.1111111111111111,
             "#46039f"
            ],
            [
             0.2222222222222222,
             "#7201a8"
            ],
            [
             0.3333333333333333,
             "#9c179e"
            ],
            [
             0.4444444444444444,
             "#bd3786"
            ],
            [
             0.5555555555555556,
             "#d8576b"
            ],
            [
             0.6666666666666666,
             "#ed7953"
            ],
            [
             0.7777777777777778,
             "#fb9f3a"
            ],
            [
             0.8888888888888888,
             "#fdca26"
            ],
            [
             1,
             "#f0f921"
            ]
           ]
          },
          "colorway": [
           "#636efa",
           "#EF553B",
           "#00cc96",
           "#ab63fa",
           "#FFA15A",
           "#19d3f3",
           "#FF6692",
           "#B6E880",
           "#FF97FF",
           "#FECB52"
          ],
          "font": {
           "color": "#2a3f5f"
          },
          "geo": {
           "bgcolor": "white",
           "lakecolor": "white",
           "landcolor": "#E5ECF6",
           "showlakes": true,
           "showland": true,
           "subunitcolor": "white"
          },
          "hoverlabel": {
           "align": "left"
          },
          "hovermode": "closest",
          "mapbox": {
           "style": "light"
          },
          "paper_bgcolor": "white",
          "plot_bgcolor": "#E5ECF6",
          "polar": {
           "angularaxis": {
            "gridcolor": "white",
            "linecolor": "white",
            "ticks": ""
           },
           "bgcolor": "#E5ECF6",
           "radialaxis": {
            "gridcolor": "white",
            "linecolor": "white",
            "ticks": ""
           }
          },
          "scene": {
           "xaxis": {
            "backgroundcolor": "#E5ECF6",
            "gridcolor": "white",
            "gridwidth": 2,
            "linecolor": "white",
            "showbackground": true,
            "ticks": "",
            "zerolinecolor": "white"
           },
           "yaxis": {
            "backgroundcolor": "#E5ECF6",
            "gridcolor": "white",
            "gridwidth": 2,
            "linecolor": "white",
            "showbackground": true,
            "ticks": "",
            "zerolinecolor": "white"
           },
           "zaxis": {
            "backgroundcolor": "#E5ECF6",
            "gridcolor": "white",
            "gridwidth": 2,
            "linecolor": "white",
            "showbackground": true,
            "ticks": "",
            "zerolinecolor": "white"
           }
          },
          "shapedefaults": {
           "line": {
            "color": "#2a3f5f"
           }
          },
          "ternary": {
           "aaxis": {
            "gridcolor": "white",
            "linecolor": "white",
            "ticks": ""
           },
           "baxis": {
            "gridcolor": "white",
            "linecolor": "white",
            "ticks": ""
           },
           "bgcolor": "#E5ECF6",
           "caxis": {
            "gridcolor": "white",
            "linecolor": "white",
            "ticks": ""
           }
          },
          "title": {
           "x": 0.05
          },
          "xaxis": {
           "automargin": true,
           "gridcolor": "white",
           "linecolor": "white",
           "ticks": "",
           "title": {
            "standoff": 15
           },
           "zerolinecolor": "white",
           "zerolinewidth": 2
          },
          "yaxis": {
           "automargin": true,
           "gridcolor": "white",
           "linecolor": "white",
           "ticks": "",
           "title": {
            "standoff": 15
           },
           "zerolinecolor": "white",
           "zerolinewidth": 2
          }
         }
        },
        "title": {
         "text": "Escolaridade por Faixa Etária"
        },
        "xaxis": {
         "anchor": "y",
         "domain": [
          0,
          1
         ],
         "title": {
          "text": "Faixa Etária"
         }
        },
        "yaxis": {
         "anchor": "x",
         "domain": [
          0,
          1
         ],
         "title": {
          "text": "Quantidade"
         }
        }
       }
      }
     },
     "metadata": {},
     "output_type": "display_data"
    }
   ],
   "source": [
    "# Exemplo de DataFrame com colunas 'Faixa Etária' e 'Escolaridade'\n",
    "df_grouped = df_incluses.groupby(['Faixa Etária', 'Escolaridade']).size().reset_index(name='Contagem')\n",
    "\n",
    "# Criando o gráfico de barras empilhadas\n",
    "fig = px.bar(df_grouped, \n",
    "             x='Faixa Etária', \n",
    "             y='Contagem', \n",
    "             color='Escolaridade', \n",
    "             title='Escolaridade por Faixa Etária',\n",
    "             labels={'Contagem': 'Quantidade', 'Faixa Etária': 'Faixa Etária'},\n",
    "             barmode='stack')\n",
    "\n",
    "fig.show()"
   ]
  },
  {
   "cell_type": "markdown",
   "metadata": {},
   "source": [
    "#### Vendo a relação entre 'Identidade de Gênero' e 'Escolaridade'"
   ]
  },
  {
   "cell_type": "code",
   "execution_count": 210,
   "metadata": {},
   "outputs": [
    {
     "data": {
      "application/vnd.plotly.v1+json": {
       "config": {
        "plotlyServerURL": "https://plot.ly"
       },
       "data": [
        {
         "alignmentgroup": "True",
         "hovertemplate": "Escolaridade=Ensino Fundamental completo ou cursando<br>Identidade de Gênero=%{x}<br>Quantidade=%{y}<extra></extra>",
         "legendgroup": "Ensino Fundamental completo ou cursando",
         "marker": {
          "color": "#636efa",
          "pattern": {
           "shape": ""
          }
         },
         "name": "Ensino Fundamental completo ou cursando",
         "offsetgroup": "Ensino Fundamental completo ou cursando",
         "orientation": "v",
         "showlegend": true,
         "textposition": "auto",
         "type": "bar",
         "x": [
          "Homem cisgênero",
          "Mulher cisgênero",
          "Não-binário",
          "Outra",
          "Prefiro não informar"
         ],
         "xaxis": "x",
         "y": [
          2,
          11,
          1,
          2,
          2
         ],
         "yaxis": "y"
        },
        {
         "alignmentgroup": "True",
         "hovertemplate": "Escolaridade=Ensino Médio completo ou cursando<br>Identidade de Gênero=%{x}<br>Quantidade=%{y}<extra></extra>",
         "legendgroup": "Ensino Médio completo ou cursando",
         "marker": {
          "color": "#EF553B",
          "pattern": {
           "shape": ""
          }
         },
         "name": "Ensino Médio completo ou cursando",
         "offsetgroup": "Ensino Médio completo ou cursando",
         "orientation": "v",
         "showlegend": true,
         "textposition": "auto",
         "type": "bar",
         "x": [
          "Homem cisgênero",
          "Mulher cisgênero",
          "Prefiro não informar"
         ],
         "xaxis": "x",
         "y": [
          2,
          3,
          1
         ],
         "yaxis": "y"
        },
        {
         "alignmentgroup": "True",
         "hovertemplate": "Escolaridade=Ensino Superior completo ou cursando<br>Identidade de Gênero=%{x}<br>Quantidade=%{y}<extra></extra>",
         "legendgroup": "Ensino Superior completo ou cursando",
         "marker": {
          "color": "#00cc96",
          "pattern": {
           "shape": ""
          }
         },
         "name": "Ensino Superior completo ou cursando",
         "offsetgroup": "Ensino Superior completo ou cursando",
         "orientation": "v",
         "showlegend": true,
         "textposition": "auto",
         "type": "bar",
         "x": [
          "Homem cisgênero",
          "Mulher cisgênero",
          "Não-binário",
          "Outra",
          "transgênero"
         ],
         "xaxis": "x",
         "y": [
          8,
          3,
          1,
          1,
          2
         ],
         "yaxis": "y"
        },
        {
         "alignmentgroup": "True",
         "hovertemplate": "Escolaridade=Nenhum<br>Identidade de Gênero=%{x}<br>Quantidade=%{y}<extra></extra>",
         "legendgroup": "Nenhum",
         "marker": {
          "color": "#ab63fa",
          "pattern": {
           "shape": ""
          }
         },
         "name": "Nenhum",
         "offsetgroup": "Nenhum",
         "orientation": "v",
         "showlegend": true,
         "textposition": "auto",
         "type": "bar",
         "x": [
          "Homem cisgênero",
          "Mulher cisgênero",
          "Não-binário",
          "Outra",
          "transgênero"
         ],
         "xaxis": "x",
         "y": [
          1,
          3,
          1,
          1,
          2
         ],
         "yaxis": "y"
        }
       ],
       "layout": {
        "barmode": "stack",
        "legend": {
         "title": {
          "text": "Escolaridade"
         },
         "tracegroupgap": 0
        },
        "template": {
         "data": {
          "bar": [
           {
            "error_x": {
             "color": "#2a3f5f"
            },
            "error_y": {
             "color": "#2a3f5f"
            },
            "marker": {
             "line": {
              "color": "#E5ECF6",
              "width": 0.5
             },
             "pattern": {
              "fillmode": "overlay",
              "size": 10,
              "solidity": 0.2
             }
            },
            "type": "bar"
           }
          ],
          "barpolar": [
           {
            "marker": {
             "line": {
              "color": "#E5ECF6",
              "width": 0.5
             },
             "pattern": {
              "fillmode": "overlay",
              "size": 10,
              "solidity": 0.2
             }
            },
            "type": "barpolar"
           }
          ],
          "carpet": [
           {
            "aaxis": {
             "endlinecolor": "#2a3f5f",
             "gridcolor": "white",
             "linecolor": "white",
             "minorgridcolor": "white",
             "startlinecolor": "#2a3f5f"
            },
            "baxis": {
             "endlinecolor": "#2a3f5f",
             "gridcolor": "white",
             "linecolor": "white",
             "minorgridcolor": "white",
             "startlinecolor": "#2a3f5f"
            },
            "type": "carpet"
           }
          ],
          "choropleth": [
           {
            "colorbar": {
             "outlinewidth": 0,
             "ticks": ""
            },
            "type": "choropleth"
           }
          ],
          "contour": [
           {
            "colorbar": {
             "outlinewidth": 0,
             "ticks": ""
            },
            "colorscale": [
             [
              0,
              "#0d0887"
             ],
             [
              0.1111111111111111,
              "#46039f"
             ],
             [
              0.2222222222222222,
              "#7201a8"
             ],
             [
              0.3333333333333333,
              "#9c179e"
             ],
             [
              0.4444444444444444,
              "#bd3786"
             ],
             [
              0.5555555555555556,
              "#d8576b"
             ],
             [
              0.6666666666666666,
              "#ed7953"
             ],
             [
              0.7777777777777778,
              "#fb9f3a"
             ],
             [
              0.8888888888888888,
              "#fdca26"
             ],
             [
              1,
              "#f0f921"
             ]
            ],
            "type": "contour"
           }
          ],
          "contourcarpet": [
           {
            "colorbar": {
             "outlinewidth": 0,
             "ticks": ""
            },
            "type": "contourcarpet"
           }
          ],
          "heatmap": [
           {
            "colorbar": {
             "outlinewidth": 0,
             "ticks": ""
            },
            "colorscale": [
             [
              0,
              "#0d0887"
             ],
             [
              0.1111111111111111,
              "#46039f"
             ],
             [
              0.2222222222222222,
              "#7201a8"
             ],
             [
              0.3333333333333333,
              "#9c179e"
             ],
             [
              0.4444444444444444,
              "#bd3786"
             ],
             [
              0.5555555555555556,
              "#d8576b"
             ],
             [
              0.6666666666666666,
              "#ed7953"
             ],
             [
              0.7777777777777778,
              "#fb9f3a"
             ],
             [
              0.8888888888888888,
              "#fdca26"
             ],
             [
              1,
              "#f0f921"
             ]
            ],
            "type": "heatmap"
           }
          ],
          "heatmapgl": [
           {
            "colorbar": {
             "outlinewidth": 0,
             "ticks": ""
            },
            "colorscale": [
             [
              0,
              "#0d0887"
             ],
             [
              0.1111111111111111,
              "#46039f"
             ],
             [
              0.2222222222222222,
              "#7201a8"
             ],
             [
              0.3333333333333333,
              "#9c179e"
             ],
             [
              0.4444444444444444,
              "#bd3786"
             ],
             [
              0.5555555555555556,
              "#d8576b"
             ],
             [
              0.6666666666666666,
              "#ed7953"
             ],
             [
              0.7777777777777778,
              "#fb9f3a"
             ],
             [
              0.8888888888888888,
              "#fdca26"
             ],
             [
              1,
              "#f0f921"
             ]
            ],
            "type": "heatmapgl"
           }
          ],
          "histogram": [
           {
            "marker": {
             "pattern": {
              "fillmode": "overlay",
              "size": 10,
              "solidity": 0.2
             }
            },
            "type": "histogram"
           }
          ],
          "histogram2d": [
           {
            "colorbar": {
             "outlinewidth": 0,
             "ticks": ""
            },
            "colorscale": [
             [
              0,
              "#0d0887"
             ],
             [
              0.1111111111111111,
              "#46039f"
             ],
             [
              0.2222222222222222,
              "#7201a8"
             ],
             [
              0.3333333333333333,
              "#9c179e"
             ],
             [
              0.4444444444444444,
              "#bd3786"
             ],
             [
              0.5555555555555556,
              "#d8576b"
             ],
             [
              0.6666666666666666,
              "#ed7953"
             ],
             [
              0.7777777777777778,
              "#fb9f3a"
             ],
             [
              0.8888888888888888,
              "#fdca26"
             ],
             [
              1,
              "#f0f921"
             ]
            ],
            "type": "histogram2d"
           }
          ],
          "histogram2dcontour": [
           {
            "colorbar": {
             "outlinewidth": 0,
             "ticks": ""
            },
            "colorscale": [
             [
              0,
              "#0d0887"
             ],
             [
              0.1111111111111111,
              "#46039f"
             ],
             [
              0.2222222222222222,
              "#7201a8"
             ],
             [
              0.3333333333333333,
              "#9c179e"
             ],
             [
              0.4444444444444444,
              "#bd3786"
             ],
             [
              0.5555555555555556,
              "#d8576b"
             ],
             [
              0.6666666666666666,
              "#ed7953"
             ],
             [
              0.7777777777777778,
              "#fb9f3a"
             ],
             [
              0.8888888888888888,
              "#fdca26"
             ],
             [
              1,
              "#f0f921"
             ]
            ],
            "type": "histogram2dcontour"
           }
          ],
          "mesh3d": [
           {
            "colorbar": {
             "outlinewidth": 0,
             "ticks": ""
            },
            "type": "mesh3d"
           }
          ],
          "parcoords": [
           {
            "line": {
             "colorbar": {
              "outlinewidth": 0,
              "ticks": ""
             }
            },
            "type": "parcoords"
           }
          ],
          "pie": [
           {
            "automargin": true,
            "type": "pie"
           }
          ],
          "scatter": [
           {
            "fillpattern": {
             "fillmode": "overlay",
             "size": 10,
             "solidity": 0.2
            },
            "type": "scatter"
           }
          ],
          "scatter3d": [
           {
            "line": {
             "colorbar": {
              "outlinewidth": 0,
              "ticks": ""
             }
            },
            "marker": {
             "colorbar": {
              "outlinewidth": 0,
              "ticks": ""
             }
            },
            "type": "scatter3d"
           }
          ],
          "scattercarpet": [
           {
            "marker": {
             "colorbar": {
              "outlinewidth": 0,
              "ticks": ""
             }
            },
            "type": "scattercarpet"
           }
          ],
          "scattergeo": [
           {
            "marker": {
             "colorbar": {
              "outlinewidth": 0,
              "ticks": ""
             }
            },
            "type": "scattergeo"
           }
          ],
          "scattergl": [
           {
            "marker": {
             "colorbar": {
              "outlinewidth": 0,
              "ticks": ""
             }
            },
            "type": "scattergl"
           }
          ],
          "scattermapbox": [
           {
            "marker": {
             "colorbar": {
              "outlinewidth": 0,
              "ticks": ""
             }
            },
            "type": "scattermapbox"
           }
          ],
          "scatterpolar": [
           {
            "marker": {
             "colorbar": {
              "outlinewidth": 0,
              "ticks": ""
             }
            },
            "type": "scatterpolar"
           }
          ],
          "scatterpolargl": [
           {
            "marker": {
             "colorbar": {
              "outlinewidth": 0,
              "ticks": ""
             }
            },
            "type": "scatterpolargl"
           }
          ],
          "scatterternary": [
           {
            "marker": {
             "colorbar": {
              "outlinewidth": 0,
              "ticks": ""
             }
            },
            "type": "scatterternary"
           }
          ],
          "surface": [
           {
            "colorbar": {
             "outlinewidth": 0,
             "ticks": ""
            },
            "colorscale": [
             [
              0,
              "#0d0887"
             ],
             [
              0.1111111111111111,
              "#46039f"
             ],
             [
              0.2222222222222222,
              "#7201a8"
             ],
             [
              0.3333333333333333,
              "#9c179e"
             ],
             [
              0.4444444444444444,
              "#bd3786"
             ],
             [
              0.5555555555555556,
              "#d8576b"
             ],
             [
              0.6666666666666666,
              "#ed7953"
             ],
             [
              0.7777777777777778,
              "#fb9f3a"
             ],
             [
              0.8888888888888888,
              "#fdca26"
             ],
             [
              1,
              "#f0f921"
             ]
            ],
            "type": "surface"
           }
          ],
          "table": [
           {
            "cells": {
             "fill": {
              "color": "#EBF0F8"
             },
             "line": {
              "color": "white"
             }
            },
            "header": {
             "fill": {
              "color": "#C8D4E3"
             },
             "line": {
              "color": "white"
             }
            },
            "type": "table"
           }
          ]
         },
         "layout": {
          "annotationdefaults": {
           "arrowcolor": "#2a3f5f",
           "arrowhead": 0,
           "arrowwidth": 1
          },
          "autotypenumbers": "strict",
          "coloraxis": {
           "colorbar": {
            "outlinewidth": 0,
            "ticks": ""
           }
          },
          "colorscale": {
           "diverging": [
            [
             0,
             "#8e0152"
            ],
            [
             0.1,
             "#c51b7d"
            ],
            [
             0.2,
             "#de77ae"
            ],
            [
             0.3,
             "#f1b6da"
            ],
            [
             0.4,
             "#fde0ef"
            ],
            [
             0.5,
             "#f7f7f7"
            ],
            [
             0.6,
             "#e6f5d0"
            ],
            [
             0.7,
             "#b8e186"
            ],
            [
             0.8,
             "#7fbc41"
            ],
            [
             0.9,
             "#4d9221"
            ],
            [
             1,
             "#276419"
            ]
           ],
           "sequential": [
            [
             0,
             "#0d0887"
            ],
            [
             0.1111111111111111,
             "#46039f"
            ],
            [
             0.2222222222222222,
             "#7201a8"
            ],
            [
             0.3333333333333333,
             "#9c179e"
            ],
            [
             0.4444444444444444,
             "#bd3786"
            ],
            [
             0.5555555555555556,
             "#d8576b"
            ],
            [
             0.6666666666666666,
             "#ed7953"
            ],
            [
             0.7777777777777778,
             "#fb9f3a"
            ],
            [
             0.8888888888888888,
             "#fdca26"
            ],
            [
             1,
             "#f0f921"
            ]
           ],
           "sequentialminus": [
            [
             0,
             "#0d0887"
            ],
            [
             0.1111111111111111,
             "#46039f"
            ],
            [
             0.2222222222222222,
             "#7201a8"
            ],
            [
             0.3333333333333333,
             "#9c179e"
            ],
            [
             0.4444444444444444,
             "#bd3786"
            ],
            [
             0.5555555555555556,
             "#d8576b"
            ],
            [
             0.6666666666666666,
             "#ed7953"
            ],
            [
             0.7777777777777778,
             "#fb9f3a"
            ],
            [
             0.8888888888888888,
             "#fdca26"
            ],
            [
             1,
             "#f0f921"
            ]
           ]
          },
          "colorway": [
           "#636efa",
           "#EF553B",
           "#00cc96",
           "#ab63fa",
           "#FFA15A",
           "#19d3f3",
           "#FF6692",
           "#B6E880",
           "#FF97FF",
           "#FECB52"
          ],
          "font": {
           "color": "#2a3f5f"
          },
          "geo": {
           "bgcolor": "white",
           "lakecolor": "white",
           "landcolor": "#E5ECF6",
           "showlakes": true,
           "showland": true,
           "subunitcolor": "white"
          },
          "hoverlabel": {
           "align": "left"
          },
          "hovermode": "closest",
          "mapbox": {
           "style": "light"
          },
          "paper_bgcolor": "white",
          "plot_bgcolor": "#E5ECF6",
          "polar": {
           "angularaxis": {
            "gridcolor": "white",
            "linecolor": "white",
            "ticks": ""
           },
           "bgcolor": "#E5ECF6",
           "radialaxis": {
            "gridcolor": "white",
            "linecolor": "white",
            "ticks": ""
           }
          },
          "scene": {
           "xaxis": {
            "backgroundcolor": "#E5ECF6",
            "gridcolor": "white",
            "gridwidth": 2,
            "linecolor": "white",
            "showbackground": true,
            "ticks": "",
            "zerolinecolor": "white"
           },
           "yaxis": {
            "backgroundcolor": "#E5ECF6",
            "gridcolor": "white",
            "gridwidth": 2,
            "linecolor": "white",
            "showbackground": true,
            "ticks": "",
            "zerolinecolor": "white"
           },
           "zaxis": {
            "backgroundcolor": "#E5ECF6",
            "gridcolor": "white",
            "gridwidth": 2,
            "linecolor": "white",
            "showbackground": true,
            "ticks": "",
            "zerolinecolor": "white"
           }
          },
          "shapedefaults": {
           "line": {
            "color": "#2a3f5f"
           }
          },
          "ternary": {
           "aaxis": {
            "gridcolor": "white",
            "linecolor": "white",
            "ticks": ""
           },
           "baxis": {
            "gridcolor": "white",
            "linecolor": "white",
            "ticks": ""
           },
           "bgcolor": "#E5ECF6",
           "caxis": {
            "gridcolor": "white",
            "linecolor": "white",
            "ticks": ""
           }
          },
          "title": {
           "x": 0.05
          },
          "xaxis": {
           "automargin": true,
           "gridcolor": "white",
           "linecolor": "white",
           "ticks": "",
           "title": {
            "standoff": 15
           },
           "zerolinecolor": "white",
           "zerolinewidth": 2
          },
          "yaxis": {
           "automargin": true,
           "gridcolor": "white",
           "linecolor": "white",
           "ticks": "",
           "title": {
            "standoff": 15
           },
           "zerolinecolor": "white",
           "zerolinewidth": 2
          }
         }
        },
        "title": {
         "text": "Escolaridade por Identidade de Gênero"
        },
        "xaxis": {
         "anchor": "y",
         "domain": [
          0,
          1
         ],
         "title": {
          "text": "Identidade de Gênero"
         }
        },
        "yaxis": {
         "anchor": "x",
         "domain": [
          0,
          1
         ],
         "title": {
          "text": "Quantidade"
         }
        }
       }
      }
     },
     "metadata": {},
     "output_type": "display_data"
    }
   ],
   "source": [
    "# Exemplo de DataFrame com colunas 'Identidade de Gênero' e 'Escolaridade'\n",
    "df_grouped = df_incluses.groupby(['Identidade de Gênero', 'Escolaridade']).size().reset_index(name='Contagem')\n",
    "\n",
    "# Criando o gráfico de barras empilhadas\n",
    "fig = px.bar(df_grouped, \n",
    "             x='Identidade de Gênero', \n",
    "             y='Contagem', \n",
    "             color='Escolaridade', \n",
    "             title='Escolaridade por Identidade de Gênero',\n",
    "             labels={'Contagem': 'Quantidade', 'Identidade de Gênero': 'Identidade de Gênero'},\n",
    "             barmode='stack')\n",
    "\n",
    "fig.show()"
   ]
  },
  {
   "cell_type": "markdown",
   "metadata": {},
   "source": [
    "#### Vendo a relação entre 'Usa Redes Sociais?' e 'Escolaridade'"
   ]
  },
  {
   "cell_type": "code",
   "execution_count": 211,
   "metadata": {},
   "outputs": [
    {
     "data": {
      "application/vnd.plotly.v1+json": {
       "config": {
        "plotlyServerURL": "https://plot.ly"
       },
       "data": [
        {
         "alignmentgroup": "True",
         "hovertemplate": "Escolaridade=Nenhum<br>Usa Redes Sociais?=%{x}<br>Quantidade=%{y}<extra></extra>",
         "legendgroup": "Nenhum",
         "marker": {
          "color": "#636efa",
          "pattern": {
           "shape": ""
          }
         },
         "name": "Nenhum",
         "offsetgroup": "Nenhum",
         "orientation": "v",
         "showlegend": true,
         "textposition": "auto",
         "type": "bar",
         "x": [
          "Não",
          "Sim"
         ],
         "xaxis": "x",
         "y": [
          3,
          5
         ],
         "yaxis": "y"
        },
        {
         "alignmentgroup": "True",
         "hovertemplate": "Escolaridade=Ensino Fundamental completo ou cursando<br>Usa Redes Sociais?=%{x}<br>Quantidade=%{y}<extra></extra>",
         "legendgroup": "Ensino Fundamental completo ou cursando",
         "marker": {
          "color": "#EF553B",
          "pattern": {
           "shape": ""
          }
         },
         "name": "Ensino Fundamental completo ou cursando",
         "offsetgroup": "Ensino Fundamental completo ou cursando",
         "orientation": "v",
         "showlegend": true,
         "textposition": "auto",
         "type": "bar",
         "x": [
          "Sim"
         ],
         "xaxis": "x",
         "y": [
          18
         ],
         "yaxis": "y"
        },
        {
         "alignmentgroup": "True",
         "hovertemplate": "Escolaridade=Ensino Médio completo ou cursando<br>Usa Redes Sociais?=%{x}<br>Quantidade=%{y}<extra></extra>",
         "legendgroup": "Ensino Médio completo ou cursando",
         "marker": {
          "color": "#00cc96",
          "pattern": {
           "shape": ""
          }
         },
         "name": "Ensino Médio completo ou cursando",
         "offsetgroup": "Ensino Médio completo ou cursando",
         "orientation": "v",
         "showlegend": true,
         "textposition": "auto",
         "type": "bar",
         "x": [
          "Sim"
         ],
         "xaxis": "x",
         "y": [
          6
         ],
         "yaxis": "y"
        },
        {
         "alignmentgroup": "True",
         "hovertemplate": "Escolaridade=Ensino Superior completo ou cursando<br>Usa Redes Sociais?=%{x}<br>Quantidade=%{y}<extra></extra>",
         "legendgroup": "Ensino Superior completo ou cursando",
         "marker": {
          "color": "#ab63fa",
          "pattern": {
           "shape": ""
          }
         },
         "name": "Ensino Superior completo ou cursando",
         "offsetgroup": "Ensino Superior completo ou cursando",
         "orientation": "v",
         "showlegend": true,
         "textposition": "auto",
         "type": "bar",
         "x": [
          "Sim"
         ],
         "xaxis": "x",
         "y": [
          15
         ],
         "yaxis": "y"
        }
       ],
       "layout": {
        "barmode": "stack",
        "legend": {
         "title": {
          "text": "Escolaridade"
         },
         "tracegroupgap": 0
        },
        "template": {
         "data": {
          "bar": [
           {
            "error_x": {
             "color": "#2a3f5f"
            },
            "error_y": {
             "color": "#2a3f5f"
            },
            "marker": {
             "line": {
              "color": "#E5ECF6",
              "width": 0.5
             },
             "pattern": {
              "fillmode": "overlay",
              "size": 10,
              "solidity": 0.2
             }
            },
            "type": "bar"
           }
          ],
          "barpolar": [
           {
            "marker": {
             "line": {
              "color": "#E5ECF6",
              "width": 0.5
             },
             "pattern": {
              "fillmode": "overlay",
              "size": 10,
              "solidity": 0.2
             }
            },
            "type": "barpolar"
           }
          ],
          "carpet": [
           {
            "aaxis": {
             "endlinecolor": "#2a3f5f",
             "gridcolor": "white",
             "linecolor": "white",
             "minorgridcolor": "white",
             "startlinecolor": "#2a3f5f"
            },
            "baxis": {
             "endlinecolor": "#2a3f5f",
             "gridcolor": "white",
             "linecolor": "white",
             "minorgridcolor": "white",
             "startlinecolor": "#2a3f5f"
            },
            "type": "carpet"
           }
          ],
          "choropleth": [
           {
            "colorbar": {
             "outlinewidth": 0,
             "ticks": ""
            },
            "type": "choropleth"
           }
          ],
          "contour": [
           {
            "colorbar": {
             "outlinewidth": 0,
             "ticks": ""
            },
            "colorscale": [
             [
              0,
              "#0d0887"
             ],
             [
              0.1111111111111111,
              "#46039f"
             ],
             [
              0.2222222222222222,
              "#7201a8"
             ],
             [
              0.3333333333333333,
              "#9c179e"
             ],
             [
              0.4444444444444444,
              "#bd3786"
             ],
             [
              0.5555555555555556,
              "#d8576b"
             ],
             [
              0.6666666666666666,
              "#ed7953"
             ],
             [
              0.7777777777777778,
              "#fb9f3a"
             ],
             [
              0.8888888888888888,
              "#fdca26"
             ],
             [
              1,
              "#f0f921"
             ]
            ],
            "type": "contour"
           }
          ],
          "contourcarpet": [
           {
            "colorbar": {
             "outlinewidth": 0,
             "ticks": ""
            },
            "type": "contourcarpet"
           }
          ],
          "heatmap": [
           {
            "colorbar": {
             "outlinewidth": 0,
             "ticks": ""
            },
            "colorscale": [
             [
              0,
              "#0d0887"
             ],
             [
              0.1111111111111111,
              "#46039f"
             ],
             [
              0.2222222222222222,
              "#7201a8"
             ],
             [
              0.3333333333333333,
              "#9c179e"
             ],
             [
              0.4444444444444444,
              "#bd3786"
             ],
             [
              0.5555555555555556,
              "#d8576b"
             ],
             [
              0.6666666666666666,
              "#ed7953"
             ],
             [
              0.7777777777777778,
              "#fb9f3a"
             ],
             [
              0.8888888888888888,
              "#fdca26"
             ],
             [
              1,
              "#f0f921"
             ]
            ],
            "type": "heatmap"
           }
          ],
          "heatmapgl": [
           {
            "colorbar": {
             "outlinewidth": 0,
             "ticks": ""
            },
            "colorscale": [
             [
              0,
              "#0d0887"
             ],
             [
              0.1111111111111111,
              "#46039f"
             ],
             [
              0.2222222222222222,
              "#7201a8"
             ],
             [
              0.3333333333333333,
              "#9c179e"
             ],
             [
              0.4444444444444444,
              "#bd3786"
             ],
             [
              0.5555555555555556,
              "#d8576b"
             ],
             [
              0.6666666666666666,
              "#ed7953"
             ],
             [
              0.7777777777777778,
              "#fb9f3a"
             ],
             [
              0.8888888888888888,
              "#fdca26"
             ],
             [
              1,
              "#f0f921"
             ]
            ],
            "type": "heatmapgl"
           }
          ],
          "histogram": [
           {
            "marker": {
             "pattern": {
              "fillmode": "overlay",
              "size": 10,
              "solidity": 0.2
             }
            },
            "type": "histogram"
           }
          ],
          "histogram2d": [
           {
            "colorbar": {
             "outlinewidth": 0,
             "ticks": ""
            },
            "colorscale": [
             [
              0,
              "#0d0887"
             ],
             [
              0.1111111111111111,
              "#46039f"
             ],
             [
              0.2222222222222222,
              "#7201a8"
             ],
             [
              0.3333333333333333,
              "#9c179e"
             ],
             [
              0.4444444444444444,
              "#bd3786"
             ],
             [
              0.5555555555555556,
              "#d8576b"
             ],
             [
              0.6666666666666666,
              "#ed7953"
             ],
             [
              0.7777777777777778,
              "#fb9f3a"
             ],
             [
              0.8888888888888888,
              "#fdca26"
             ],
             [
              1,
              "#f0f921"
             ]
            ],
            "type": "histogram2d"
           }
          ],
          "histogram2dcontour": [
           {
            "colorbar": {
             "outlinewidth": 0,
             "ticks": ""
            },
            "colorscale": [
             [
              0,
              "#0d0887"
             ],
             [
              0.1111111111111111,
              "#46039f"
             ],
             [
              0.2222222222222222,
              "#7201a8"
             ],
             [
              0.3333333333333333,
              "#9c179e"
             ],
             [
              0.4444444444444444,
              "#bd3786"
             ],
             [
              0.5555555555555556,
              "#d8576b"
             ],
             [
              0.6666666666666666,
              "#ed7953"
             ],
             [
              0.7777777777777778,
              "#fb9f3a"
             ],
             [
              0.8888888888888888,
              "#fdca26"
             ],
             [
              1,
              "#f0f921"
             ]
            ],
            "type": "histogram2dcontour"
           }
          ],
          "mesh3d": [
           {
            "colorbar": {
             "outlinewidth": 0,
             "ticks": ""
            },
            "type": "mesh3d"
           }
          ],
          "parcoords": [
           {
            "line": {
             "colorbar": {
              "outlinewidth": 0,
              "ticks": ""
             }
            },
            "type": "parcoords"
           }
          ],
          "pie": [
           {
            "automargin": true,
            "type": "pie"
           }
          ],
          "scatter": [
           {
            "fillpattern": {
             "fillmode": "overlay",
             "size": 10,
             "solidity": 0.2
            },
            "type": "scatter"
           }
          ],
          "scatter3d": [
           {
            "line": {
             "colorbar": {
              "outlinewidth": 0,
              "ticks": ""
             }
            },
            "marker": {
             "colorbar": {
              "outlinewidth": 0,
              "ticks": ""
             }
            },
            "type": "scatter3d"
           }
          ],
          "scattercarpet": [
           {
            "marker": {
             "colorbar": {
              "outlinewidth": 0,
              "ticks": ""
             }
            },
            "type": "scattercarpet"
           }
          ],
          "scattergeo": [
           {
            "marker": {
             "colorbar": {
              "outlinewidth": 0,
              "ticks": ""
             }
            },
            "type": "scattergeo"
           }
          ],
          "scattergl": [
           {
            "marker": {
             "colorbar": {
              "outlinewidth": 0,
              "ticks": ""
             }
            },
            "type": "scattergl"
           }
          ],
          "scattermapbox": [
           {
            "marker": {
             "colorbar": {
              "outlinewidth": 0,
              "ticks": ""
             }
            },
            "type": "scattermapbox"
           }
          ],
          "scatterpolar": [
           {
            "marker": {
             "colorbar": {
              "outlinewidth": 0,
              "ticks": ""
             }
            },
            "type": "scatterpolar"
           }
          ],
          "scatterpolargl": [
           {
            "marker": {
             "colorbar": {
              "outlinewidth": 0,
              "ticks": ""
             }
            },
            "type": "scatterpolargl"
           }
          ],
          "scatterternary": [
           {
            "marker": {
             "colorbar": {
              "outlinewidth": 0,
              "ticks": ""
             }
            },
            "type": "scatterternary"
           }
          ],
          "surface": [
           {
            "colorbar": {
             "outlinewidth": 0,
             "ticks": ""
            },
            "colorscale": [
             [
              0,
              "#0d0887"
             ],
             [
              0.1111111111111111,
              "#46039f"
             ],
             [
              0.2222222222222222,
              "#7201a8"
             ],
             [
              0.3333333333333333,
              "#9c179e"
             ],
             [
              0.4444444444444444,
              "#bd3786"
             ],
             [
              0.5555555555555556,
              "#d8576b"
             ],
             [
              0.6666666666666666,
              "#ed7953"
             ],
             [
              0.7777777777777778,
              "#fb9f3a"
             ],
             [
              0.8888888888888888,
              "#fdca26"
             ],
             [
              1,
              "#f0f921"
             ]
            ],
            "type": "surface"
           }
          ],
          "table": [
           {
            "cells": {
             "fill": {
              "color": "#EBF0F8"
             },
             "line": {
              "color": "white"
             }
            },
            "header": {
             "fill": {
              "color": "#C8D4E3"
             },
             "line": {
              "color": "white"
             }
            },
            "type": "table"
           }
          ]
         },
         "layout": {
          "annotationdefaults": {
           "arrowcolor": "#2a3f5f",
           "arrowhead": 0,
           "arrowwidth": 1
          },
          "autotypenumbers": "strict",
          "coloraxis": {
           "colorbar": {
            "outlinewidth": 0,
            "ticks": ""
           }
          },
          "colorscale": {
           "diverging": [
            [
             0,
             "#8e0152"
            ],
            [
             0.1,
             "#c51b7d"
            ],
            [
             0.2,
             "#de77ae"
            ],
            [
             0.3,
             "#f1b6da"
            ],
            [
             0.4,
             "#fde0ef"
            ],
            [
             0.5,
             "#f7f7f7"
            ],
            [
             0.6,
             "#e6f5d0"
            ],
            [
             0.7,
             "#b8e186"
            ],
            [
             0.8,
             "#7fbc41"
            ],
            [
             0.9,
             "#4d9221"
            ],
            [
             1,
             "#276419"
            ]
           ],
           "sequential": [
            [
             0,
             "#0d0887"
            ],
            [
             0.1111111111111111,
             "#46039f"
            ],
            [
             0.2222222222222222,
             "#7201a8"
            ],
            [
             0.3333333333333333,
             "#9c179e"
            ],
            [
             0.4444444444444444,
             "#bd3786"
            ],
            [
             0.5555555555555556,
             "#d8576b"
            ],
            [
             0.6666666666666666,
             "#ed7953"
            ],
            [
             0.7777777777777778,
             "#fb9f3a"
            ],
            [
             0.8888888888888888,
             "#fdca26"
            ],
            [
             1,
             "#f0f921"
            ]
           ],
           "sequentialminus": [
            [
             0,
             "#0d0887"
            ],
            [
             0.1111111111111111,
             "#46039f"
            ],
            [
             0.2222222222222222,
             "#7201a8"
            ],
            [
             0.3333333333333333,
             "#9c179e"
            ],
            [
             0.4444444444444444,
             "#bd3786"
            ],
            [
             0.5555555555555556,
             "#d8576b"
            ],
            [
             0.6666666666666666,
             "#ed7953"
            ],
            [
             0.7777777777777778,
             "#fb9f3a"
            ],
            [
             0.8888888888888888,
             "#fdca26"
            ],
            [
             1,
             "#f0f921"
            ]
           ]
          },
          "colorway": [
           "#636efa",
           "#EF553B",
           "#00cc96",
           "#ab63fa",
           "#FFA15A",
           "#19d3f3",
           "#FF6692",
           "#B6E880",
           "#FF97FF",
           "#FECB52"
          ],
          "font": {
           "color": "#2a3f5f"
          },
          "geo": {
           "bgcolor": "white",
           "lakecolor": "white",
           "landcolor": "#E5ECF6",
           "showlakes": true,
           "showland": true,
           "subunitcolor": "white"
          },
          "hoverlabel": {
           "align": "left"
          },
          "hovermode": "closest",
          "mapbox": {
           "style": "light"
          },
          "paper_bgcolor": "white",
          "plot_bgcolor": "#E5ECF6",
          "polar": {
           "angularaxis": {
            "gridcolor": "white",
            "linecolor": "white",
            "ticks": ""
           },
           "bgcolor": "#E5ECF6",
           "radialaxis": {
            "gridcolor": "white",
            "linecolor": "white",
            "ticks": ""
           }
          },
          "scene": {
           "xaxis": {
            "backgroundcolor": "#E5ECF6",
            "gridcolor": "white",
            "gridwidth": 2,
            "linecolor": "white",
            "showbackground": true,
            "ticks": "",
            "zerolinecolor": "white"
           },
           "yaxis": {
            "backgroundcolor": "#E5ECF6",
            "gridcolor": "white",
            "gridwidth": 2,
            "linecolor": "white",
            "showbackground": true,
            "ticks": "",
            "zerolinecolor": "white"
           },
           "zaxis": {
            "backgroundcolor": "#E5ECF6",
            "gridcolor": "white",
            "gridwidth": 2,
            "linecolor": "white",
            "showbackground": true,
            "ticks": "",
            "zerolinecolor": "white"
           }
          },
          "shapedefaults": {
           "line": {
            "color": "#2a3f5f"
           }
          },
          "ternary": {
           "aaxis": {
            "gridcolor": "white",
            "linecolor": "white",
            "ticks": ""
           },
           "baxis": {
            "gridcolor": "white",
            "linecolor": "white",
            "ticks": ""
           },
           "bgcolor": "#E5ECF6",
           "caxis": {
            "gridcolor": "white",
            "linecolor": "white",
            "ticks": ""
           }
          },
          "title": {
           "x": 0.05
          },
          "xaxis": {
           "automargin": true,
           "gridcolor": "white",
           "linecolor": "white",
           "ticks": "",
           "title": {
            "standoff": 15
           },
           "zerolinecolor": "white",
           "zerolinewidth": 2
          },
          "yaxis": {
           "automargin": true,
           "gridcolor": "white",
           "linecolor": "white",
           "ticks": "",
           "title": {
            "standoff": 15
           },
           "zerolinecolor": "white",
           "zerolinewidth": 2
          }
         }
        },
        "title": {
         "text": "Escolaridade por Usa Redes Sociais?"
        },
        "xaxis": {
         "anchor": "y",
         "domain": [
          0,
          1
         ],
         "title": {
          "text": "Usa Redes Sociais?"
         }
        },
        "yaxis": {
         "anchor": "x",
         "domain": [
          0,
          1
         ],
         "title": {
          "text": "Quantidade"
         }
        }
       }
      }
     },
     "metadata": {},
     "output_type": "display_data"
    }
   ],
   "source": [
    "# Exemplo de DataFrame com colunas 'Usa Redes Sociais?' e 'Escolaridade'\n",
    "df_grouped = df_incluses.groupby(['Usa Redes Sociais?', 'Escolaridade']).size().reset_index(name='Contagem')\n",
    "\n",
    "# Criando o gráfico de barras empilhadas\n",
    "fig = px.bar(df_grouped, \n",
    "             x='Usa Redes Sociais?', \n",
    "             y='Contagem', \n",
    "             color='Escolaridade', \n",
    "             title='Escolaridade por Usa Redes Sociais?',\n",
    "             labels={'Contagem': 'Quantidade', 'Usa Redes Sociais?': 'Usa Redes Sociais?'},\n",
    "             barmode='stack')\n",
    "\n",
    "fig.show()"
   ]
  },
  {
   "cell_type": "markdown",
   "metadata": {},
   "source": [
    "## PCA"
   ]
  },
  {
   "cell_type": "code",
   "execution_count": 212,
   "metadata": {},
   "outputs": [
    {
     "name": "stdout",
     "output_type": "stream",
     "text": [
      "DataFrame transformado:\n",
      "   Participante da Comunidade LGBTQIA+_Sim  Faixa Etária_18-24 anos  \\\n",
      "0                                      1.0                      0.0   \n",
      "1                                      1.0                      0.0   \n",
      "2                                      1.0                      0.0   \n",
      "3                                      1.0                      0.0   \n",
      "4                                      1.0                      0.0   \n",
      "\n",
      "   Faixa Etária_25-34 anos  Faixa Etária_35-44 anos  Faixa Etária_45-54 anos  \\\n",
      "0                      0.0                      0.0                      0.0   \n",
      "1                      0.0                      0.0                      0.0   \n",
      "2                      0.0                      0.0                      0.0   \n",
      "3                      0.0                      0.0                      0.0   \n",
      "4                      0.0                      0.0                      0.0   \n",
      "\n",
      "   Faixa Etária_55 anos ou mais  Faixa Etária_Menos de 18 anos  \\\n",
      "0                           0.0                            1.0   \n",
      "1                           0.0                            1.0   \n",
      "2                           0.0                            1.0   \n",
      "3                           0.0                            1.0   \n",
      "4                           0.0                            1.0   \n",
      "\n",
      "   Identidade de Gênero_Homem cisgênero  \\\n",
      "0                                   0.0   \n",
      "1                                   0.0   \n",
      "2                                   0.0   \n",
      "3                                   0.0   \n",
      "4                                   0.0   \n",
      "\n",
      "   Identidade de Gênero_Mulher cisgênero  Identidade de Gênero_Não-binário  \\\n",
      "0                                    1.0                               0.0   \n",
      "1                                    1.0                               0.0   \n",
      "2                                    1.0                               0.0   \n",
      "3                                    1.0                               0.0   \n",
      "4                                    0.0                               0.0   \n",
      "\n",
      "   ...  Interesse em Empreender_Talvez  \\\n",
      "0  ...                             0.0   \n",
      "1  ...                             0.0   \n",
      "2  ...                             1.0   \n",
      "3  ...                             0.0   \n",
      "4  ...                             0.0   \n",
      "\n",
      "   Situação no Mercado de Trabalho_Desempregado (a)  \\\n",
      "0                                               0.0   \n",
      "1                                               0.0   \n",
      "2                                               0.0   \n",
      "3                                               0.0   \n",
      "4                                               1.0   \n",
      "\n",
      "   Situação no Mercado de Trabalho_Empregado (a)  Usa Redes Sociais?_Não  \\\n",
      "0                                            1.0                     0.0   \n",
      "1                                            1.0                     0.0   \n",
      "2                                            1.0                     0.0   \n",
      "3                                            1.0                     0.0   \n",
      "4                                            0.0                     0.0   \n",
      "\n",
      "   Usa Redes Sociais?_Sim  \\\n",
      "0                     1.0   \n",
      "1                     1.0   \n",
      "2                     1.0   \n",
      "3                     1.0   \n",
      "4                     1.0   \n",
      "\n",
      "   Finalidade do Uso do App Incluses_Divulgar conteúdos profissionais   \\\n",
      "0                                                0.0                     \n",
      "1                                                0.0                     \n",
      "2                                                0.0                     \n",
      "3                                                0.0                     \n",
      "4                                                0.0                     \n",
      "\n",
      "   Finalidade do Uso do App Incluses_Encontrar oportunidades de emprego  \\\n",
      "0                                                0.0                      \n",
      "1                                                0.0                      \n",
      "2                                                0.0                      \n",
      "3                                                0.0                      \n",
      "4                                                0.0                      \n",
      "\n",
      "   Finalidade do Uso do App Incluses_Fazer cursos de qualificação  \\\n",
      "0                                                0.0                \n",
      "1                                                0.0                \n",
      "2                                                1.0                \n",
      "3                                                0.0                \n",
      "4                                                1.0                \n",
      "\n",
      "   Finalidade do Uso do App Incluses_Não usaria o app  \\\n",
      "0                                                0.0    \n",
      "1                                                1.0    \n",
      "2                                                0.0    \n",
      "3                                                1.0    \n",
      "4                                                0.0    \n",
      "\n",
      "   Finalidade do Uso do App Incluses_Todos acima  \n",
      "0                                            1.0  \n",
      "1                                            0.0  \n",
      "2                                            0.0  \n",
      "3                                            0.0  \n",
      "4                                            0.0  \n",
      "\n",
      "[5 rows x 49 columns]\n",
      "Variância explicada por cada componente: [1.29680725e-01 1.05709779e-01 8.17595275e-02 6.65089984e-02\n",
      " 6.24380667e-02 5.39452631e-02 4.73133740e-02 4.52008587e-02\n",
      " 4.28642973e-02 4.09871330e-02 3.59289939e-02 3.32136236e-02\n",
      " 2.85841496e-02 2.83185240e-02 2.36571608e-02 2.23152662e-02\n",
      " 2.12206001e-02 1.77240157e-02 1.72334196e-02 1.60391296e-02\n",
      " 1.28148644e-02 1.14899953e-02 1.04947482e-02 9.24090160e-03\n",
      " 7.94372746e-03 5.94165807e-03 5.11741439e-03 4.16130141e-03\n",
      " 3.34491053e-03 2.81829725e-03 2.11721718e-03 1.76178897e-03\n",
      " 1.32302847e-03 6.41673339e-04 1.45567100e-04 2.55750136e-32\n",
      " 1.70813848e-33 1.33150396e-33 8.87010150e-34 5.05192845e-34\n",
      " 4.91157895e-34 4.91157895e-34 4.91157895e-34 4.91157895e-34\n",
      " 4.91157895e-34 4.91157895e-34 2.01269396e-34]\n",
      "Variância explicada acumulada: 1.0000000000000002\n",
      "Primeiras linhas dos componentes principais:\n"
     ]
    },
    {
     "data": {
      "text/html": [
       "<div>\n",
       "<style scoped>\n",
       "    .dataframe tbody tr th:only-of-type {\n",
       "        vertical-align: middle;\n",
       "    }\n",
       "\n",
       "    .dataframe tbody tr th {\n",
       "        vertical-align: top;\n",
       "    }\n",
       "\n",
       "    .dataframe thead th {\n",
       "        text-align: right;\n",
       "    }\n",
       "</style>\n",
       "<table border=\"1\" class=\"dataframe\">\n",
       "  <thead>\n",
       "    <tr style=\"text-align: right;\">\n",
       "      <th></th>\n",
       "      <th>PC1</th>\n",
       "      <th>PC2</th>\n",
       "      <th>PC3</th>\n",
       "      <th>PC4</th>\n",
       "      <th>PC5</th>\n",
       "      <th>PC6</th>\n",
       "      <th>PC7</th>\n",
       "      <th>PC8</th>\n",
       "      <th>PC9</th>\n",
       "      <th>PC10</th>\n",
       "      <th>...</th>\n",
       "      <th>PC38</th>\n",
       "      <th>PC39</th>\n",
       "      <th>PC40</th>\n",
       "      <th>PC41</th>\n",
       "      <th>PC42</th>\n",
       "      <th>PC43</th>\n",
       "      <th>PC44</th>\n",
       "      <th>PC45</th>\n",
       "      <th>PC46</th>\n",
       "      <th>PC47</th>\n",
       "    </tr>\n",
       "  </thead>\n",
       "  <tbody>\n",
       "    <tr>\n",
       "      <th>0</th>\n",
       "      <td>-1.249682</td>\n",
       "      <td>0.618973</td>\n",
       "      <td>-0.977719</td>\n",
       "      <td>-2.273182</td>\n",
       "      <td>1.731823</td>\n",
       "      <td>0.008288</td>\n",
       "      <td>-1.474685</td>\n",
       "      <td>1.106804</td>\n",
       "      <td>1.140479</td>\n",
       "      <td>-0.533962</td>\n",
       "      <td>...</td>\n",
       "      <td>-1.809374e-17</td>\n",
       "      <td>-1.585114e-16</td>\n",
       "      <td>-5.028366e-17</td>\n",
       "      <td>9.703276e-17</td>\n",
       "      <td>8.640925e-17</td>\n",
       "      <td>-7.489755e-17</td>\n",
       "      <td>-6.039578e-17</td>\n",
       "      <td>-7.608217e-17</td>\n",
       "      <td>-3.573795e-16</td>\n",
       "      <td>-5.381733e-17</td>\n",
       "    </tr>\n",
       "    <tr>\n",
       "      <th>1</th>\n",
       "      <td>0.089735</td>\n",
       "      <td>0.346544</td>\n",
       "      <td>-1.502458</td>\n",
       "      <td>-3.021450</td>\n",
       "      <td>1.893349</td>\n",
       "      <td>-0.022709</td>\n",
       "      <td>1.219297</td>\n",
       "      <td>-0.812943</td>\n",
       "      <td>0.666146</td>\n",
       "      <td>-2.278032</td>\n",
       "      <td>...</td>\n",
       "      <td>-3.352509e-16</td>\n",
       "      <td>-1.325193e-16</td>\n",
       "      <td>4.459270e-17</td>\n",
       "      <td>1.045444e-16</td>\n",
       "      <td>2.466839e-17</td>\n",
       "      <td>2.298752e-16</td>\n",
       "      <td>-6.180903e-17</td>\n",
       "      <td>2.413810e-17</td>\n",
       "      <td>1.012045e-16</td>\n",
       "      <td>-7.144334e-17</td>\n",
       "    </tr>\n",
       "    <tr>\n",
       "      <th>2</th>\n",
       "      <td>1.205373</td>\n",
       "      <td>-2.081094</td>\n",
       "      <td>-1.771649</td>\n",
       "      <td>-0.145633</td>\n",
       "      <td>-1.396256</td>\n",
       "      <td>1.371015</td>\n",
       "      <td>1.475046</td>\n",
       "      <td>-0.142879</td>\n",
       "      <td>1.993950</td>\n",
       "      <td>-0.189874</td>\n",
       "      <td>...</td>\n",
       "      <td>-2.812247e-17</td>\n",
       "      <td>1.830943e-16</td>\n",
       "      <td>-5.240308e-17</td>\n",
       "      <td>3.914921e-17</td>\n",
       "      <td>-2.679123e-16</td>\n",
       "      <td>-4.582119e-17</td>\n",
       "      <td>7.487980e-17</td>\n",
       "      <td>-6.094573e-17</td>\n",
       "      <td>1.218097e-16</td>\n",
       "      <td>1.397296e-17</td>\n",
       "    </tr>\n",
       "    <tr>\n",
       "      <th>3</th>\n",
       "      <td>0.924412</td>\n",
       "      <td>0.091559</td>\n",
       "      <td>-2.238793</td>\n",
       "      <td>-1.924151</td>\n",
       "      <td>2.165747</td>\n",
       "      <td>1.342384</td>\n",
       "      <td>0.742931</td>\n",
       "      <td>0.332273</td>\n",
       "      <td>1.400554</td>\n",
       "      <td>-2.476817</td>\n",
       "      <td>...</td>\n",
       "      <td>-1.561417e-16</td>\n",
       "      <td>1.562655e-16</td>\n",
       "      <td>4.591481e-16</td>\n",
       "      <td>-2.381335e-17</td>\n",
       "      <td>-2.907971e-16</td>\n",
       "      <td>-3.390243e-16</td>\n",
       "      <td>1.235329e-16</td>\n",
       "      <td>1.022543e-16</td>\n",
       "      <td>-9.451632e-17</td>\n",
       "      <td>6.226997e-17</td>\n",
       "    </tr>\n",
       "    <tr>\n",
       "      <th>4</th>\n",
       "      <td>2.800744</td>\n",
       "      <td>-0.183195</td>\n",
       "      <td>1.094403</td>\n",
       "      <td>-1.700029</td>\n",
       "      <td>-2.673535</td>\n",
       "      <td>2.427399</td>\n",
       "      <td>1.108800</td>\n",
       "      <td>2.598628</td>\n",
       "      <td>-0.902065</td>\n",
       "      <td>-0.345322</td>\n",
       "      <td>...</td>\n",
       "      <td>-1.591801e-16</td>\n",
       "      <td>-9.727104e-17</td>\n",
       "      <td>-2.910447e-16</td>\n",
       "      <td>-1.347800e-16</td>\n",
       "      <td>-1.833356e-16</td>\n",
       "      <td>-9.212710e-17</td>\n",
       "      <td>-5.656080e-17</td>\n",
       "      <td>3.431820e-17</td>\n",
       "      <td>-2.155300e-16</td>\n",
       "      <td>1.191335e-16</td>\n",
       "    </tr>\n",
       "  </tbody>\n",
       "</table>\n",
       "<p>5 rows × 47 columns</p>\n",
       "</div>"
      ],
      "text/plain": [
       "        PC1       PC2       PC3       PC4       PC5       PC6       PC7  \\\n",
       "0 -1.249682  0.618973 -0.977719 -2.273182  1.731823  0.008288 -1.474685   \n",
       "1  0.089735  0.346544 -1.502458 -3.021450  1.893349 -0.022709  1.219297   \n",
       "2  1.205373 -2.081094 -1.771649 -0.145633 -1.396256  1.371015  1.475046   \n",
       "3  0.924412  0.091559 -2.238793 -1.924151  2.165747  1.342384  0.742931   \n",
       "4  2.800744 -0.183195  1.094403 -1.700029 -2.673535  2.427399  1.108800   \n",
       "\n",
       "        PC8       PC9      PC10  ...          PC38          PC39  \\\n",
       "0  1.106804  1.140479 -0.533962  ... -1.809374e-17 -1.585114e-16   \n",
       "1 -0.812943  0.666146 -2.278032  ... -3.352509e-16 -1.325193e-16   \n",
       "2 -0.142879  1.993950 -0.189874  ... -2.812247e-17  1.830943e-16   \n",
       "3  0.332273  1.400554 -2.476817  ... -1.561417e-16  1.562655e-16   \n",
       "4  2.598628 -0.902065 -0.345322  ... -1.591801e-16 -9.727104e-17   \n",
       "\n",
       "           PC40          PC41          PC42          PC43          PC44  \\\n",
       "0 -5.028366e-17  9.703276e-17  8.640925e-17 -7.489755e-17 -6.039578e-17   \n",
       "1  4.459270e-17  1.045444e-16  2.466839e-17  2.298752e-16 -6.180903e-17   \n",
       "2 -5.240308e-17  3.914921e-17 -2.679123e-16 -4.582119e-17  7.487980e-17   \n",
       "3  4.591481e-16 -2.381335e-17 -2.907971e-16 -3.390243e-16  1.235329e-16   \n",
       "4 -2.910447e-16 -1.347800e-16 -1.833356e-16 -9.212710e-17 -5.656080e-17   \n",
       "\n",
       "           PC45          PC46          PC47  \n",
       "0 -7.608217e-17 -3.573795e-16 -5.381733e-17  \n",
       "1  2.413810e-17  1.012045e-16 -7.144334e-17  \n",
       "2 -6.094573e-17  1.218097e-16  1.397296e-17  \n",
       "3  1.022543e-16 -9.451632e-17  6.226997e-17  \n",
       "4  3.431820e-17 -2.155300e-16  1.191335e-16  \n",
       "\n",
       "[5 rows x 47 columns]"
      ]
     },
     "metadata": {},
     "output_type": "display_data"
    },
    {
     "name": "stdout",
     "output_type": "stream",
     "text": [
      "Cargas das variáveis nos componentes principais:\n"
     ]
    },
    {
     "data": {
      "text/html": [
       "<div>\n",
       "<style scoped>\n",
       "    .dataframe tbody tr th:only-of-type {\n",
       "        vertical-align: middle;\n",
       "    }\n",
       "\n",
       "    .dataframe tbody tr th {\n",
       "        vertical-align: top;\n",
       "    }\n",
       "\n",
       "    .dataframe thead th {\n",
       "        text-align: right;\n",
       "    }\n",
       "</style>\n",
       "<table border=\"1\" class=\"dataframe\">\n",
       "  <thead>\n",
       "    <tr style=\"text-align: right;\">\n",
       "      <th></th>\n",
       "      <th>Participante da Comunidade LGBTQIA+_Sim</th>\n",
       "      <th>Faixa Etária_18-24 anos</th>\n",
       "      <th>Faixa Etária_25-34 anos</th>\n",
       "      <th>Faixa Etária_35-44 anos</th>\n",
       "      <th>Faixa Etária_45-54 anos</th>\n",
       "      <th>Faixa Etária_55 anos ou mais</th>\n",
       "      <th>Faixa Etária_Menos de 18 anos</th>\n",
       "      <th>Identidade de Gênero_Homem cisgênero</th>\n",
       "      <th>Identidade de Gênero_Mulher cisgênero</th>\n",
       "      <th>Identidade de Gênero_Não-binário</th>\n",
       "      <th>...</th>\n",
       "      <th>Interesse em Empreender_Talvez</th>\n",
       "      <th>Situação no Mercado de Trabalho_Desempregado (a)</th>\n",
       "      <th>Situação no Mercado de Trabalho_Empregado (a)</th>\n",
       "      <th>Usa Redes Sociais?_Não</th>\n",
       "      <th>Usa Redes Sociais?_Sim</th>\n",
       "      <th>Finalidade do Uso do App Incluses_Divulgar conteúdos profissionais</th>\n",
       "      <th>Finalidade do Uso do App Incluses_Encontrar oportunidades de emprego</th>\n",
       "      <th>Finalidade do Uso do App Incluses_Fazer cursos de qualificação</th>\n",
       "      <th>Finalidade do Uso do App Incluses_Não usaria o app</th>\n",
       "      <th>Finalidade do Uso do App Incluses_Todos acima</th>\n",
       "    </tr>\n",
       "  </thead>\n",
       "  <tbody>\n",
       "    <tr>\n",
       "      <th>PC1</th>\n",
       "      <td>5.551115e-17</td>\n",
       "      <td>-7.904960e-02</td>\n",
       "      <td>-2.292964e-01</td>\n",
       "      <td>-1.512683e-01</td>\n",
       "      <td>-5.890011e-02</td>\n",
       "      <td>4.852885e-02</td>\n",
       "      <td>3.025880e-01</td>\n",
       "      <td>-1.590526e-01</td>\n",
       "      <td>7.452952e-02</td>\n",
       "      <td>7.166392e-02</td>\n",
       "      <td>...</td>\n",
       "      <td>-7.197357e-02</td>\n",
       "      <td>3.308656e-01</td>\n",
       "      <td>-3.308656e-01</td>\n",
       "      <td>1.945952e-01</td>\n",
       "      <td>-1.945952e-01</td>\n",
       "      <td>-2.540828e-02</td>\n",
       "      <td>-5.502746e-02</td>\n",
       "      <td>1.344338e-01</td>\n",
       "      <td>5.905786e-02</td>\n",
       "      <td>-1.145852e-01</td>\n",
       "    </tr>\n",
       "    <tr>\n",
       "      <th>PC2</th>\n",
       "      <td>-4.163336e-17</td>\n",
       "      <td>-1.825991e-02</td>\n",
       "      <td>7.175396e-02</td>\n",
       "      <td>7.312277e-02</td>\n",
       "      <td>-3.878077e-02</td>\n",
       "      <td>3.097183e-01</td>\n",
       "      <td>-2.095630e-01</td>\n",
       "      <td>4.937830e-02</td>\n",
       "      <td>-1.200837e-01</td>\n",
       "      <td>2.370262e-01</td>\n",
       "      <td>...</td>\n",
       "      <td>-4.568084e-02</td>\n",
       "      <td>-5.547847e-02</td>\n",
       "      <td>5.547847e-02</td>\n",
       "      <td>2.965500e-01</td>\n",
       "      <td>-2.965500e-01</td>\n",
       "      <td>-5.885344e-02</td>\n",
       "      <td>-3.041039e-02</td>\n",
       "      <td>-1.341627e-01</td>\n",
       "      <td>2.077258e-01</td>\n",
       "      <td>3.767199e-02</td>\n",
       "    </tr>\n",
       "    <tr>\n",
       "      <th>PC3</th>\n",
       "      <td>5.551115e-17</td>\n",
       "      <td>-9.674901e-03</td>\n",
       "      <td>1.692486e-02</td>\n",
       "      <td>-3.512452e-02</td>\n",
       "      <td>2.501631e-01</td>\n",
       "      <td>-3.397180e-02</td>\n",
       "      <td>-4.967592e-02</td>\n",
       "      <td>-5.127945e-03</td>\n",
       "      <td>-2.690017e-01</td>\n",
       "      <td>2.833041e-02</td>\n",
       "      <td>...</td>\n",
       "      <td>-1.765794e-01</td>\n",
       "      <td>7.462500e-02</td>\n",
       "      <td>-7.462500e-02</td>\n",
       "      <td>5.217832e-02</td>\n",
       "      <td>-5.217832e-02</td>\n",
       "      <td>1.689730e-01</td>\n",
       "      <td>9.995028e-02</td>\n",
       "      <td>-9.704663e-02</td>\n",
       "      <td>9.673727e-04</td>\n",
       "      <td>-7.346125e-02</td>\n",
       "    </tr>\n",
       "    <tr>\n",
       "      <th>PC4</th>\n",
       "      <td>1.665335e-16</td>\n",
       "      <td>1.546758e-01</td>\n",
       "      <td>8.217545e-03</td>\n",
       "      <td>-9.857222e-02</td>\n",
       "      <td>1.266358e-01</td>\n",
       "      <td>8.998695e-02</td>\n",
       "      <td>-8.925193e-02</td>\n",
       "      <td>8.632770e-02</td>\n",
       "      <td>-2.152610e-02</td>\n",
       "      <td>-4.763958e-02</td>\n",
       "      <td>...</td>\n",
       "      <td>-3.428725e-02</td>\n",
       "      <td>3.194758e-03</td>\n",
       "      <td>-3.194758e-03</td>\n",
       "      <td>1.243360e-01</td>\n",
       "      <td>-1.243360e-01</td>\n",
       "      <td>5.983974e-02</td>\n",
       "      <td>-1.212911e-01</td>\n",
       "      <td>-7.240844e-02</td>\n",
       "      <td>-3.054805e-03</td>\n",
       "      <td>1.373619e-01</td>\n",
       "    </tr>\n",
       "    <tr>\n",
       "      <th>PC5</th>\n",
       "      <td>-1.110223e-16</td>\n",
       "      <td>-1.112187e-01</td>\n",
       "      <td>6.381732e-04</td>\n",
       "      <td>-2.289724e-01</td>\n",
       "      <td>1.752514e-01</td>\n",
       "      <td>1.070155e-01</td>\n",
       "      <td>8.063983e-02</td>\n",
       "      <td>-1.901603e-01</td>\n",
       "      <td>2.315998e-01</td>\n",
       "      <td>1.413497e-01</td>\n",
       "      <td>...</td>\n",
       "      <td>-2.407980e-01</td>\n",
       "      <td>-9.458419e-02</td>\n",
       "      <td>9.458419e-02</td>\n",
       "      <td>-1.937240e-02</td>\n",
       "      <td>1.937240e-02</td>\n",
       "      <td>2.599730e-01</td>\n",
       "      <td>1.572238e-01</td>\n",
       "      <td>-2.213309e-01</td>\n",
       "      <td>4.084884e-03</td>\n",
       "      <td>-4.807718e-02</td>\n",
       "    </tr>\n",
       "    <tr>\n",
       "      <th>PC6</th>\n",
       "      <td>1.801944e-16</td>\n",
       "      <td>-1.782869e-01</td>\n",
       "      <td>-1.285509e-01</td>\n",
       "      <td>5.876859e-02</td>\n",
       "      <td>1.393188e-01</td>\n",
       "      <td>1.464201e-01</td>\n",
       "      <td>4.219265e-02</td>\n",
       "      <td>7.268216e-02</td>\n",
       "      <td>-4.750896e-02</td>\n",
       "      <td>-1.502015e-01</td>\n",
       "      <td>...</td>\n",
       "      <td>-1.738102e-01</td>\n",
       "      <td>-8.639658e-02</td>\n",
       "      <td>8.639658e-02</td>\n",
       "      <td>-1.091472e-01</td>\n",
       "      <td>1.091472e-01</td>\n",
       "      <td>7.445918e-02</td>\n",
       "      <td>-2.254841e-01</td>\n",
       "      <td>2.917608e-01</td>\n",
       "      <td>-5.434711e-03</td>\n",
       "      <td>-1.373328e-01</td>\n",
       "    </tr>\n",
       "    <tr>\n",
       "      <th>PC7</th>\n",
       "      <td>1.665335e-16</td>\n",
       "      <td>2.960516e-01</td>\n",
       "      <td>-8.858875e-02</td>\n",
       "      <td>-2.608830e-02</td>\n",
       "      <td>-6.253175e-02</td>\n",
       "      <td>8.534985e-02</td>\n",
       "      <td>-5.312410e-02</td>\n",
       "      <td>3.868247e-02</td>\n",
       "      <td>-1.425186e-01</td>\n",
       "      <td>1.631263e-01</td>\n",
       "      <td>...</td>\n",
       "      <td>-1.838143e-01</td>\n",
       "      <td>-3.343225e-02</td>\n",
       "      <td>3.343225e-02</td>\n",
       "      <td>-1.419698e-01</td>\n",
       "      <td>1.419698e-01</td>\n",
       "      <td>-1.093129e-01</td>\n",
       "      <td>9.557561e-02</td>\n",
       "      <td>-2.061992e-02</td>\n",
       "      <td>1.893896e-01</td>\n",
       "      <td>-1.328874e-01</td>\n",
       "    </tr>\n",
       "    <tr>\n",
       "      <th>PC8</th>\n",
       "      <td>-0.000000e+00</td>\n",
       "      <td>-7.188793e-02</td>\n",
       "      <td>2.281952e-01</td>\n",
       "      <td>-1.633969e-01</td>\n",
       "      <td>-9.922276e-02</td>\n",
       "      <td>-6.674342e-02</td>\n",
       "      <td>-3.895586e-03</td>\n",
       "      <td>-3.210463e-01</td>\n",
       "      <td>2.123130e-01</td>\n",
       "      <td>-4.217559e-02</td>\n",
       "      <td>...</td>\n",
       "      <td>-2.482738e-01</td>\n",
       "      <td>-4.060323e-02</td>\n",
       "      <td>4.060323e-02</td>\n",
       "      <td>-1.963801e-02</td>\n",
       "      <td>1.963801e-02</td>\n",
       "      <td>-6.572920e-02</td>\n",
       "      <td>-1.474418e-02</td>\n",
       "      <td>-1.533887e-01</td>\n",
       "      <td>-1.363309e-01</td>\n",
       "      <td>2.896511e-01</td>\n",
       "    </tr>\n",
       "    <tr>\n",
       "      <th>PC9</th>\n",
       "      <td>-5.551115e-17</td>\n",
       "      <td>2.392801e-01</td>\n",
       "      <td>-1.196192e-01</td>\n",
       "      <td>-1.089272e-01</td>\n",
       "      <td>1.273785e-02</td>\n",
       "      <td>1.585788e-01</td>\n",
       "      <td>-9.633478e-03</td>\n",
       "      <td>-9.650975e-02</td>\n",
       "      <td>-5.841643e-02</td>\n",
       "      <td>-6.375045e-02</td>\n",
       "      <td>...</td>\n",
       "      <td>-1.037576e-01</td>\n",
       "      <td>-1.666958e-01</td>\n",
       "      <td>1.666958e-01</td>\n",
       "      <td>-1.141098e-02</td>\n",
       "      <td>1.141098e-02</td>\n",
       "      <td>3.550587e-03</td>\n",
       "      <td>-3.059911e-01</td>\n",
       "      <td>-9.528562e-02</td>\n",
       "      <td>1.191008e-01</td>\n",
       "      <td>2.489398e-01</td>\n",
       "    </tr>\n",
       "    <tr>\n",
       "      <th>PC10</th>\n",
       "      <td>1.387779e-17</td>\n",
       "      <td>-9.920116e-02</td>\n",
       "      <td>-6.199420e-02</td>\n",
       "      <td>-3.789284e-02</td>\n",
       "      <td>-9.304683e-02</td>\n",
       "      <td>2.897428e-01</td>\n",
       "      <td>2.043438e-02</td>\n",
       "      <td>2.240051e-01</td>\n",
       "      <td>-1.802697e-01</td>\n",
       "      <td>1.230798e-01</td>\n",
       "      <td>...</td>\n",
       "      <td>5.109697e-02</td>\n",
       "      <td>1.818850e-01</td>\n",
       "      <td>-1.818850e-01</td>\n",
       "      <td>-1.480233e-01</td>\n",
       "      <td>1.480233e-01</td>\n",
       "      <td>5.393318e-02</td>\n",
       "      <td>1.082401e-01</td>\n",
       "      <td>9.954097e-04</td>\n",
       "      <td>-3.478360e-01</td>\n",
       "      <td>1.303330e-01</td>\n",
       "    </tr>\n",
       "    <tr>\n",
       "      <th>PC11</th>\n",
       "      <td>-2.046974e-16</td>\n",
       "      <td>8.067855e-02</td>\n",
       "      <td>-3.343834e-01</td>\n",
       "      <td>3.122361e-01</td>\n",
       "      <td>1.534671e-01</td>\n",
       "      <td>-8.072229e-02</td>\n",
       "      <td>4.588922e-02</td>\n",
       "      <td>4.618502e-02</td>\n",
       "      <td>-9.292348e-02</td>\n",
       "      <td>-1.393002e-01</td>\n",
       "      <td>...</td>\n",
       "      <td>2.328685e-02</td>\n",
       "      <td>-2.561973e-02</td>\n",
       "      <td>2.561973e-02</td>\n",
       "      <td>8.580141e-02</td>\n",
       "      <td>-8.580141e-02</td>\n",
       "      <td>3.506114e-01</td>\n",
       "      <td>-2.453764e-01</td>\n",
       "      <td>-2.024747e-01</td>\n",
       "      <td>1.028973e-01</td>\n",
       "      <td>1.366860e-01</td>\n",
       "    </tr>\n",
       "    <tr>\n",
       "      <th>PC12</th>\n",
       "      <td>5.551115e-17</td>\n",
       "      <td>-1.083379e-01</td>\n",
       "      <td>4.933729e-02</td>\n",
       "      <td>1.490206e-01</td>\n",
       "      <td>1.524051e-01</td>\n",
       "      <td>1.762870e-02</td>\n",
       "      <td>-1.330534e-01</td>\n",
       "      <td>-2.864124e-01</td>\n",
       "      <td>-8.933724e-02</td>\n",
       "      <td>3.554416e-01</td>\n",
       "      <td>...</td>\n",
       "      <td>2.851183e-01</td>\n",
       "      <td>1.173512e-03</td>\n",
       "      <td>-1.173512e-03</td>\n",
       "      <td>-4.270799e-02</td>\n",
       "      <td>4.270799e-02</td>\n",
       "      <td>-1.927429e-02</td>\n",
       "      <td>-1.700668e-01</td>\n",
       "      <td>1.449227e-01</td>\n",
       "      <td>-2.446239e-01</td>\n",
       "      <td>1.772347e-01</td>\n",
       "    </tr>\n",
       "    <tr>\n",
       "      <th>PC13</th>\n",
       "      <td>-3.469447e-18</td>\n",
       "      <td>-1.233248e-01</td>\n",
       "      <td>1.132866e-01</td>\n",
       "      <td>-6.865871e-02</td>\n",
       "      <td>-2.378835e-01</td>\n",
       "      <td>5.424633e-02</td>\n",
       "      <td>4.701445e-02</td>\n",
       "      <td>8.098410e-02</td>\n",
       "      <td>-1.110462e-01</td>\n",
       "      <td>-7.539172e-03</td>\n",
       "      <td>...</td>\n",
       "      <td>-1.994607e-01</td>\n",
       "      <td>4.745360e-02</td>\n",
       "      <td>-4.745360e-02</td>\n",
       "      <td>-4.549347e-02</td>\n",
       "      <td>4.549347e-02</td>\n",
       "      <td>-2.157291e-01</td>\n",
       "      <td>4.435332e-02</td>\n",
       "      <td>-1.039542e-01</td>\n",
       "      <td>-7.705665e-02</td>\n",
       "      <td>2.307075e-01</td>\n",
       "    </tr>\n",
       "    <tr>\n",
       "      <th>PC14</th>\n",
       "      <td>5.551115e-17</td>\n",
       "      <td>1.839904e-01</td>\n",
       "      <td>-7.567656e-02</td>\n",
       "      <td>-1.162248e-01</td>\n",
       "      <td>-1.534152e-01</td>\n",
       "      <td>-1.296612e-02</td>\n",
       "      <td>1.024984e-01</td>\n",
       "      <td>-1.697877e-02</td>\n",
       "      <td>-1.002638e-01</td>\n",
       "      <td>-9.024525e-02</td>\n",
       "      <td>...</td>\n",
       "      <td>-5.297310e-03</td>\n",
       "      <td>7.392233e-02</td>\n",
       "      <td>-7.392233e-02</td>\n",
       "      <td>4.181670e-02</td>\n",
       "      <td>-4.181670e-02</td>\n",
       "      <td>-9.518108e-02</td>\n",
       "      <td>1.904546e-01</td>\n",
       "      <td>3.324949e-02</td>\n",
       "      <td>4.677079e-03</td>\n",
       "      <td>-1.373343e-01</td>\n",
       "    </tr>\n",
       "    <tr>\n",
       "      <th>PC15</th>\n",
       "      <td>-1.942890e-16</td>\n",
       "      <td>-5.980604e-03</td>\n",
       "      <td>2.844929e-01</td>\n",
       "      <td>-2.449522e-01</td>\n",
       "      <td>3.108107e-02</td>\n",
       "      <td>-1.014651e-01</td>\n",
       "      <td>-5.428038e-02</td>\n",
       "      <td>1.693920e-01</td>\n",
       "      <td>-1.348127e-01</td>\n",
       "      <td>9.825002e-02</td>\n",
       "      <td>...</td>\n",
       "      <td>-5.941945e-02</td>\n",
       "      <td>-1.746149e-02</td>\n",
       "      <td>1.746149e-02</td>\n",
       "      <td>-6.597173e-02</td>\n",
       "      <td>6.597173e-02</td>\n",
       "      <td>3.382203e-01</td>\n",
       "      <td>-1.772630e-01</td>\n",
       "      <td>2.258725e-01</td>\n",
       "      <td>3.658087e-03</td>\n",
       "      <td>-2.544597e-01</td>\n",
       "    </tr>\n",
       "    <tr>\n",
       "      <th>PC16</th>\n",
       "      <td>-2.775558e-17</td>\n",
       "      <td>-2.551025e-01</td>\n",
       "      <td>8.190675e-02</td>\n",
       "      <td>4.741558e-02</td>\n",
       "      <td>-1.615630e-01</td>\n",
       "      <td>-8.341385e-02</td>\n",
       "      <td>9.500681e-02</td>\n",
       "      <td>-1.812000e-02</td>\n",
       "      <td>3.199237e-02</td>\n",
       "      <td>1.269788e-02</td>\n",
       "      <td>...</td>\n",
       "      <td>1.266598e-01</td>\n",
       "      <td>-1.830863e-01</td>\n",
       "      <td>1.830863e-01</td>\n",
       "      <td>2.211716e-01</td>\n",
       "      <td>-2.211716e-01</td>\n",
       "      <td>-1.391456e-01</td>\n",
       "      <td>1.379235e-01</td>\n",
       "      <td>-8.240007e-02</td>\n",
       "      <td>1.273829e-02</td>\n",
       "      <td>3.294751e-02</td>\n",
       "    </tr>\n",
       "    <tr>\n",
       "      <th>PC17</th>\n",
       "      <td>6.938894e-17</td>\n",
       "      <td>8.545584e-02</td>\n",
       "      <td>1.685071e-01</td>\n",
       "      <td>-3.015425e-01</td>\n",
       "      <td>2.399252e-01</td>\n",
       "      <td>-9.729325e-04</td>\n",
       "      <td>-6.960455e-02</td>\n",
       "      <td>-1.539552e-01</td>\n",
       "      <td>2.841973e-03</td>\n",
       "      <td>-1.019928e-01</td>\n",
       "      <td>...</td>\n",
       "      <td>2.497169e-02</td>\n",
       "      <td>-3.301026e-03</td>\n",
       "      <td>3.301026e-03</td>\n",
       "      <td>8.579066e-02</td>\n",
       "      <td>-8.579066e-02</td>\n",
       "      <td>1.148486e-01</td>\n",
       "      <td>9.908493e-02</td>\n",
       "      <td>1.511186e-01</td>\n",
       "      <td>-3.253862e-01</td>\n",
       "      <td>-5.452753e-02</td>\n",
       "    </tr>\n",
       "    <tr>\n",
       "      <th>PC18</th>\n",
       "      <td>2.775558e-17</td>\n",
       "      <td>3.159623e-02</td>\n",
       "      <td>5.805816e-02</td>\n",
       "      <td>-1.528971e-01</td>\n",
       "      <td>5.671582e-02</td>\n",
       "      <td>2.543543e-01</td>\n",
       "      <td>-9.479831e-02</td>\n",
       "      <td>-8.002909e-02</td>\n",
       "      <td>9.104357e-02</td>\n",
       "      <td>-2.432321e-01</td>\n",
       "      <td>...</td>\n",
       "      <td>3.108194e-01</td>\n",
       "      <td>3.855244e-03</td>\n",
       "      <td>-3.855244e-03</td>\n",
       "      <td>9.767125e-02</td>\n",
       "      <td>-9.767125e-02</td>\n",
       "      <td>-1.259980e-01</td>\n",
       "      <td>5.149396e-02</td>\n",
       "      <td>-3.299065e-03</td>\n",
       "      <td>1.223973e-01</td>\n",
       "      <td>-5.885548e-02</td>\n",
       "    </tr>\n",
       "    <tr>\n",
       "      <th>PC19</th>\n",
       "      <td>-5.551115e-17</td>\n",
       "      <td>3.757303e-01</td>\n",
       "      <td>-9.627509e-02</td>\n",
       "      <td>-2.274205e-02</td>\n",
       "      <td>-1.293165e-02</td>\n",
       "      <td>2.407699e-02</td>\n",
       "      <td>-7.119002e-02</td>\n",
       "      <td>-2.586901e-01</td>\n",
       "      <td>7.030347e-02</td>\n",
       "      <td>1.358386e-01</td>\n",
       "      <td>...</td>\n",
       "      <td>1.195104e-01</td>\n",
       "      <td>-1.952954e-02</td>\n",
       "      <td>1.952954e-02</td>\n",
       "      <td>2.418984e-02</td>\n",
       "      <td>-2.418984e-02</td>\n",
       "      <td>-1.232665e-02</td>\n",
       "      <td>1.355293e-01</td>\n",
       "      <td>7.817164e-02</td>\n",
       "      <td>5.755493e-02</td>\n",
       "      <td>-2.171092e-01</td>\n",
       "    </tr>\n",
       "    <tr>\n",
       "      <th>PC20</th>\n",
       "      <td>2.220446e-16</td>\n",
       "      <td>-2.646781e-01</td>\n",
       "      <td>-4.602066e-02</td>\n",
       "      <td>1.952234e-01</td>\n",
       "      <td>1.852036e-01</td>\n",
       "      <td>1.237250e-01</td>\n",
       "      <td>-7.126317e-02</td>\n",
       "      <td>-9.589786e-03</td>\n",
       "      <td>1.144134e-01</td>\n",
       "      <td>-1.097991e-01</td>\n",
       "      <td>...</td>\n",
       "      <td>4.134537e-02</td>\n",
       "      <td>3.740432e-03</td>\n",
       "      <td>-3.740432e-03</td>\n",
       "      <td>-8.838974e-02</td>\n",
       "      <td>8.838974e-02</td>\n",
       "      <td>1.154764e-01</td>\n",
       "      <td>3.502544e-01</td>\n",
       "      <td>-1.539724e-01</td>\n",
       "      <td>4.879423e-02</td>\n",
       "      <td>-2.231256e-01</td>\n",
       "    </tr>\n",
       "    <tr>\n",
       "      <th>PC21</th>\n",
       "      <td>5.551115e-17</td>\n",
       "      <td>1.664802e-01</td>\n",
       "      <td>1.228120e-01</td>\n",
       "      <td>-1.295220e-01</td>\n",
       "      <td>-2.083852e-02</td>\n",
       "      <td>-1.161777e-01</td>\n",
       "      <td>-3.975982e-02</td>\n",
       "      <td>1.406157e-01</td>\n",
       "      <td>3.027011e-02</td>\n",
       "      <td>2.219878e-01</td>\n",
       "      <td>...</td>\n",
       "      <td>4.428353e-02</td>\n",
       "      <td>-6.183846e-02</td>\n",
       "      <td>6.183846e-02</td>\n",
       "      <td>-4.220957e-02</td>\n",
       "      <td>4.220957e-02</td>\n",
       "      <td>-2.267856e-02</td>\n",
       "      <td>-5.894538e-02</td>\n",
       "      <td>-1.804715e-01</td>\n",
       "      <td>1.527294e-01</td>\n",
       "      <td>1.250664e-01</td>\n",
       "    </tr>\n",
       "    <tr>\n",
       "      <th>PC22</th>\n",
       "      <td>1.318390e-16</td>\n",
       "      <td>2.238362e-02</td>\n",
       "      <td>-1.336908e-01</td>\n",
       "      <td>8.956371e-02</td>\n",
       "      <td>-1.730782e-01</td>\n",
       "      <td>-8.589252e-02</td>\n",
       "      <td>1.345510e-01</td>\n",
       "      <td>1.401646e-01</td>\n",
       "      <td>-3.181852e-01</td>\n",
       "      <td>2.298503e-02</td>\n",
       "      <td>...</td>\n",
       "      <td>3.241804e-02</td>\n",
       "      <td>-1.649653e-01</td>\n",
       "      <td>1.649653e-01</td>\n",
       "      <td>-2.776438e-02</td>\n",
       "      <td>2.776438e-02</td>\n",
       "      <td>-1.094409e-01</td>\n",
       "      <td>1.191257e-01</td>\n",
       "      <td>9.846148e-03</td>\n",
       "      <td>-2.022457e-01</td>\n",
       "      <td>9.490644e-02</td>\n",
       "    </tr>\n",
       "    <tr>\n",
       "      <th>PC23</th>\n",
       "      <td>-3.469447e-17</td>\n",
       "      <td>5.110811e-02</td>\n",
       "      <td>2.665748e-02</td>\n",
       "      <td>2.045081e-01</td>\n",
       "      <td>1.075797e-01</td>\n",
       "      <td>1.338544e-02</td>\n",
       "      <td>-1.976846e-01</td>\n",
       "      <td>-1.902437e-01</td>\n",
       "      <td>1.841264e-01</td>\n",
       "      <td>-1.693459e-01</td>\n",
       "      <td>...</td>\n",
       "      <td>-1.655158e-01</td>\n",
       "      <td>-2.685474e-02</td>\n",
       "      <td>2.685474e-02</td>\n",
       "      <td>-1.863686e-02</td>\n",
       "      <td>1.863686e-02</td>\n",
       "      <td>-2.783681e-01</td>\n",
       "      <td>7.809397e-02</td>\n",
       "      <td>9.636879e-02</td>\n",
       "      <td>-7.831273e-02</td>\n",
       "      <td>4.381065e-02</td>\n",
       "    </tr>\n",
       "    <tr>\n",
       "      <th>PC24</th>\n",
       "      <td>-2.775558e-17</td>\n",
       "      <td>-1.240256e-02</td>\n",
       "      <td>-1.342797e-01</td>\n",
       "      <td>-2.492941e-01</td>\n",
       "      <td>5.085361e-01</td>\n",
       "      <td>-1.500072e-01</td>\n",
       "      <td>1.682659e-01</td>\n",
       "      <td>-3.902501e-03</td>\n",
       "      <td>-1.339579e-01</td>\n",
       "      <td>2.143574e-01</td>\n",
       "      <td>...</td>\n",
       "      <td>1.225587e-01</td>\n",
       "      <td>-9.208243e-02</td>\n",
       "      <td>9.208243e-02</td>\n",
       "      <td>-4.494825e-02</td>\n",
       "      <td>4.494825e-02</td>\n",
       "      <td>-1.959497e-01</td>\n",
       "      <td>1.391085e-01</td>\n",
       "      <td>-1.445189e-01</td>\n",
       "      <td>8.906348e-03</td>\n",
       "      <td>1.239622e-01</td>\n",
       "    </tr>\n",
       "    <tr>\n",
       "      <th>PC25</th>\n",
       "      <td>0.000000e+00</td>\n",
       "      <td>-2.551384e-01</td>\n",
       "      <td>1.190409e-01</td>\n",
       "      <td>1.180020e-01</td>\n",
       "      <td>-3.699491e-02</td>\n",
       "      <td>-8.292203e-02</td>\n",
       "      <td>-1.273671e-02</td>\n",
       "      <td>-1.630453e-01</td>\n",
       "      <td>-2.690493e-01</td>\n",
       "      <td>2.157245e-01</td>\n",
       "      <td>...</td>\n",
       "      <td>-1.134277e-01</td>\n",
       "      <td>9.037503e-02</td>\n",
       "      <td>-9.037503e-02</td>\n",
       "      <td>-6.879978e-02</td>\n",
       "      <td>6.879978e-02</td>\n",
       "      <td>-1.814171e-01</td>\n",
       "      <td>5.682612e-02</td>\n",
       "      <td>-8.975446e-03</td>\n",
       "      <td>3.430275e-01</td>\n",
       "      <td>-1.843955e-01</td>\n",
       "    </tr>\n",
       "    <tr>\n",
       "      <th>PC26</th>\n",
       "      <td>-1.595946e-16</td>\n",
       "      <td>1.393623e-01</td>\n",
       "      <td>-2.700269e-01</td>\n",
       "      <td>1.977289e-01</td>\n",
       "      <td>-1.716105e-01</td>\n",
       "      <td>-5.907839e-03</td>\n",
       "      <td>1.005956e-01</td>\n",
       "      <td>-1.449852e-01</td>\n",
       "      <td>9.723443e-02</td>\n",
       "      <td>3.186652e-02</td>\n",
       "      <td>...</td>\n",
       "      <td>-4.305995e-02</td>\n",
       "      <td>-1.602963e-01</td>\n",
       "      <td>1.602963e-01</td>\n",
       "      <td>-6.462388e-02</td>\n",
       "      <td>6.462388e-02</td>\n",
       "      <td>2.174144e-01</td>\n",
       "      <td>3.116501e-01</td>\n",
       "      <td>-1.437758e-01</td>\n",
       "      <td>-1.670932e-01</td>\n",
       "      <td>-1.028978e-01</td>\n",
       "    </tr>\n",
       "    <tr>\n",
       "      <th>PC27</th>\n",
       "      <td>5.551115e-17</td>\n",
       "      <td>-1.787328e-02</td>\n",
       "      <td>-2.109520e-01</td>\n",
       "      <td>2.204295e-01</td>\n",
       "      <td>3.097914e-01</td>\n",
       "      <td>-6.826523e-02</td>\n",
       "      <td>-1.197715e-02</td>\n",
       "      <td>4.013450e-02</td>\n",
       "      <td>1.390495e-01</td>\n",
       "      <td>-4.095964e-03</td>\n",
       "      <td>...</td>\n",
       "      <td>-1.471599e-01</td>\n",
       "      <td>2.135176e-01</td>\n",
       "      <td>-2.135176e-01</td>\n",
       "      <td>2.712094e-02</td>\n",
       "      <td>-2.712094e-02</td>\n",
       "      <td>-2.352456e-01</td>\n",
       "      <td>-5.658538e-02</td>\n",
       "      <td>8.323099e-02</td>\n",
       "      <td>-1.301864e-01</td>\n",
       "      <td>1.775926e-01</td>\n",
       "    </tr>\n",
       "    <tr>\n",
       "      <th>PC28</th>\n",
       "      <td>-3.053113e-16</td>\n",
       "      <td>1.950264e-01</td>\n",
       "      <td>6.948206e-02</td>\n",
       "      <td>3.457598e-02</td>\n",
       "      <td>-2.235516e-02</td>\n",
       "      <td>-1.315230e-01</td>\n",
       "      <td>-9.582019e-02</td>\n",
       "      <td>2.005839e-01</td>\n",
       "      <td>-1.359770e-01</td>\n",
       "      <td>-9.843045e-02</td>\n",
       "      <td>...</td>\n",
       "      <td>-1.252126e-01</td>\n",
       "      <td>5.567128e-02</td>\n",
       "      <td>-5.567128e-02</td>\n",
       "      <td>3.548365e-01</td>\n",
       "      <td>-3.548365e-01</td>\n",
       "      <td>5.804139e-02</td>\n",
       "      <td>2.059995e-01</td>\n",
       "      <td>1.923913e-02</td>\n",
       "      <td>-2.678645e-01</td>\n",
       "      <td>-2.324809e-02</td>\n",
       "    </tr>\n",
       "    <tr>\n",
       "      <th>PC29</th>\n",
       "      <td>3.191891e-16</td>\n",
       "      <td>-1.819784e-02</td>\n",
       "      <td>-5.877974e-02</td>\n",
       "      <td>-1.798041e-01</td>\n",
       "      <td>1.951925e-01</td>\n",
       "      <td>1.082286e-02</td>\n",
       "      <td>9.590805e-02</td>\n",
       "      <td>2.163556e-01</td>\n",
       "      <td>-5.191849e-02</td>\n",
       "      <td>-7.504020e-02</td>\n",
       "      <td>...</td>\n",
       "      <td>8.029104e-02</td>\n",
       "      <td>9.288828e-02</td>\n",
       "      <td>-9.288828e-02</td>\n",
       "      <td>-3.469767e-02</td>\n",
       "      <td>3.469767e-02</td>\n",
       "      <td>-1.209291e-01</td>\n",
       "      <td>1.941286e-01</td>\n",
       "      <td>-2.432259e-01</td>\n",
       "      <td>1.411086e-01</td>\n",
       "      <td>4.378404e-02</td>\n",
       "    </tr>\n",
       "    <tr>\n",
       "      <th>PC30</th>\n",
       "      <td>-1.387779e-16</td>\n",
       "      <td>1.220196e-01</td>\n",
       "      <td>-1.284017e-01</td>\n",
       "      <td>-1.766680e-02</td>\n",
       "      <td>6.410603e-02</td>\n",
       "      <td>3.600484e-02</td>\n",
       "      <td>2.942671e-02</td>\n",
       "      <td>9.600837e-02</td>\n",
       "      <td>7.864336e-02</td>\n",
       "      <td>1.370159e-01</td>\n",
       "      <td>...</td>\n",
       "      <td>-7.211954e-02</td>\n",
       "      <td>-2.239320e-01</td>\n",
       "      <td>2.239320e-01</td>\n",
       "      <td>-6.249644e-03</td>\n",
       "      <td>6.249644e-03</td>\n",
       "      <td>-2.904886e-01</td>\n",
       "      <td>2.013649e-02</td>\n",
       "      <td>3.772426e-01</td>\n",
       "      <td>-9.988651e-02</td>\n",
       "      <td>-1.598525e-01</td>\n",
       "    </tr>\n",
       "    <tr>\n",
       "      <th>PC31</th>\n",
       "      <td>-1.127570e-16</td>\n",
       "      <td>-1.529379e-01</td>\n",
       "      <td>5.734288e-02</td>\n",
       "      <td>3.433084e-02</td>\n",
       "      <td>9.573192e-02</td>\n",
       "      <td>-1.289028e-01</td>\n",
       "      <td>2.248797e-02</td>\n",
       "      <td>7.415094e-02</td>\n",
       "      <td>7.643874e-02</td>\n",
       "      <td>-2.382956e-01</td>\n",
       "      <td>...</td>\n",
       "      <td>-8.705361e-03</td>\n",
       "      <td>-9.372278e-02</td>\n",
       "      <td>9.372278e-02</td>\n",
       "      <td>1.056339e-01</td>\n",
       "      <td>-1.056339e-01</td>\n",
       "      <td>-1.196170e-01</td>\n",
       "      <td>-8.851516e-02</td>\n",
       "      <td>9.422265e-02</td>\n",
       "      <td>2.394600e-01</td>\n",
       "      <td>-1.276652e-01</td>\n",
       "    </tr>\n",
       "    <tr>\n",
       "      <th>PC32</th>\n",
       "      <td>-1.006140e-16</td>\n",
       "      <td>2.785869e-01</td>\n",
       "      <td>-3.477544e-02</td>\n",
       "      <td>5.803340e-02</td>\n",
       "      <td>-1.116835e-01</td>\n",
       "      <td>-1.115240e-01</td>\n",
       "      <td>-4.137966e-02</td>\n",
       "      <td>-1.490116e-01</td>\n",
       "      <td>1.498947e-01</td>\n",
       "      <td>2.163839e-01</td>\n",
       "      <td>...</td>\n",
       "      <td>3.619437e-02</td>\n",
       "      <td>2.335202e-01</td>\n",
       "      <td>-2.335202e-01</td>\n",
       "      <td>-2.366265e-02</td>\n",
       "      <td>2.366265e-02</td>\n",
       "      <td>2.412846e-02</td>\n",
       "      <td>-6.707591e-02</td>\n",
       "      <td>-2.601574e-02</td>\n",
       "      <td>1.123810e-01</td>\n",
       "      <td>-1.328441e-02</td>\n",
       "    </tr>\n",
       "    <tr>\n",
       "      <th>PC33</th>\n",
       "      <td>1.387779e-16</td>\n",
       "      <td>-1.862006e-01</td>\n",
       "      <td>-1.686873e-01</td>\n",
       "      <td>8.470862e-03</td>\n",
       "      <td>4.267699e-02</td>\n",
       "      <td>5.566527e-02</td>\n",
       "      <td>1.732106e-01</td>\n",
       "      <td>-7.161486e-02</td>\n",
       "      <td>-2.832001e-02</td>\n",
       "      <td>3.937284e-01</td>\n",
       "      <td>...</td>\n",
       "      <td>-1.083884e-01</td>\n",
       "      <td>-1.163110e-01</td>\n",
       "      <td>1.163110e-01</td>\n",
       "      <td>2.344631e-01</td>\n",
       "      <td>-2.344631e-01</td>\n",
       "      <td>3.658723e-02</td>\n",
       "      <td>-4.257754e-02</td>\n",
       "      <td>1.059928e-01</td>\n",
       "      <td>-4.634645e-02</td>\n",
       "      <td>-5.476167e-02</td>\n",
       "    </tr>\n",
       "    <tr>\n",
       "      <th>PC34</th>\n",
       "      <td>-9.194034e-17</td>\n",
       "      <td>-6.510074e-02</td>\n",
       "      <td>-2.370059e-01</td>\n",
       "      <td>-3.073246e-01</td>\n",
       "      <td>-1.678882e-01</td>\n",
       "      <td>1.135851e-02</td>\n",
       "      <td>4.404039e-01</td>\n",
       "      <td>-6.549631e-02</td>\n",
       "      <td>4.943167e-02</td>\n",
       "      <td>-1.473203e-01</td>\n",
       "      <td>...</td>\n",
       "      <td>7.216521e-02</td>\n",
       "      <td>-2.785474e-02</td>\n",
       "      <td>2.785474e-02</td>\n",
       "      <td>-7.609641e-03</td>\n",
       "      <td>7.609641e-03</td>\n",
       "      <td>-1.925733e-02</td>\n",
       "      <td>-1.280559e-01</td>\n",
       "      <td>5.072684e-02</td>\n",
       "      <td>3.210436e-02</td>\n",
       "      <td>3.993070e-02</td>\n",
       "    </tr>\n",
       "    <tr>\n",
       "      <th>PC35</th>\n",
       "      <td>4.354156e-16</td>\n",
       "      <td>1.744368e-01</td>\n",
       "      <td>-7.380415e-02</td>\n",
       "      <td>-8.063703e-02</td>\n",
       "      <td>1.869873e-01</td>\n",
       "      <td>5.558737e-02</td>\n",
       "      <td>-4.499383e-02</td>\n",
       "      <td>7.692186e-02</td>\n",
       "      <td>-1.083824e-01</td>\n",
       "      <td>-1.104109e-01</td>\n",
       "      <td>...</td>\n",
       "      <td>-1.072568e-01</td>\n",
       "      <td>-4.543117e-03</td>\n",
       "      <td>4.543117e-03</td>\n",
       "      <td>-3.317645e-02</td>\n",
       "      <td>3.317645e-02</td>\n",
       "      <td>-2.307812e-01</td>\n",
       "      <td>5.182891e-02</td>\n",
       "      <td>4.092109e-02</td>\n",
       "      <td>5.934443e-02</td>\n",
       "      <td>-3.338564e-03</td>\n",
       "    </tr>\n",
       "    <tr>\n",
       "      <th>PC36</th>\n",
       "      <td>8.607340e-01</td>\n",
       "      <td>-3.321977e-02</td>\n",
       "      <td>-6.475726e-02</td>\n",
       "      <td>-4.592399e-02</td>\n",
       "      <td>-2.374949e-02</td>\n",
       "      <td>-4.199418e-02</td>\n",
       "      <td>-8.000380e-02</td>\n",
       "      <td>4.106867e-02</td>\n",
       "      <td>4.539378e-02</td>\n",
       "      <td>2.244329e-02</td>\n",
       "      <td>...</td>\n",
       "      <td>9.316597e-02</td>\n",
       "      <td>-5.551115e-17</td>\n",
       "      <td>5.551115e-17</td>\n",
       "      <td>4.336809e-17</td>\n",
       "      <td>-4.336809e-17</td>\n",
       "      <td>-5.625810e-02</td>\n",
       "      <td>-8.649189e-02</td>\n",
       "      <td>-1.052493e-01</td>\n",
       "      <td>-7.680078e-02</td>\n",
       "      <td>-1.090533e-01</td>\n",
       "    </tr>\n",
       "    <tr>\n",
       "      <th>PC37</th>\n",
       "      <td>3.432851e-02</td>\n",
       "      <td>5.137332e-03</td>\n",
       "      <td>1.001450e-02</td>\n",
       "      <td>7.101999e-03</td>\n",
       "      <td>3.672783e-03</td>\n",
       "      <td>5.462077e-01</td>\n",
       "      <td>1.237233e-02</td>\n",
       "      <td>-1.262895e-01</td>\n",
       "      <td>-1.395895e-01</td>\n",
       "      <td>-6.901492e-02</td>\n",
       "      <td>...</td>\n",
       "      <td>-2.437777e-02</td>\n",
       "      <td>1.110223e-16</td>\n",
       "      <td>-1.110223e-16</td>\n",
       "      <td>1.110223e-16</td>\n",
       "      <td>-1.110223e-16</td>\n",
       "      <td>3.363688e-02</td>\n",
       "      <td>5.171375e-02</td>\n",
       "      <td>6.292884e-02</td>\n",
       "      <td>4.591941e-02</td>\n",
       "      <td>6.520330e-02</td>\n",
       "    </tr>\n",
       "    <tr>\n",
       "      <th>PC38</th>\n",
       "      <td>2.324698e-01</td>\n",
       "      <td>1.844328e-01</td>\n",
       "      <td>3.595257e-01</td>\n",
       "      <td>2.549653e-01</td>\n",
       "      <td>1.318547e-01</td>\n",
       "      <td>1.960731e-01</td>\n",
       "      <td>4.441729e-01</td>\n",
       "      <td>-7.790819e-02</td>\n",
       "      <td>-8.611302e-02</td>\n",
       "      <td>-4.257542e-02</td>\n",
       "      <td>...</td>\n",
       "      <td>4.900251e-02</td>\n",
       "      <td>-1.387779e-16</td>\n",
       "      <td>1.665335e-16</td>\n",
       "      <td>1.942890e-16</td>\n",
       "      <td>-1.942890e-16</td>\n",
       "      <td>4.050680e-04</td>\n",
       "      <td>6.227565e-04</td>\n",
       "      <td>7.578129e-04</td>\n",
       "      <td>5.529789e-04</td>\n",
       "      <td>7.852028e-04</td>\n",
       "    </tr>\n",
       "    <tr>\n",
       "      <th>PC39</th>\n",
       "      <td>-1.351645e-02</td>\n",
       "      <td>4.694474e-02</td>\n",
       "      <td>9.151214e-02</td>\n",
       "      <td>6.489778e-02</td>\n",
       "      <td>3.356175e-02</td>\n",
       "      <td>3.040284e-01</td>\n",
       "      <td>1.130579e-01</td>\n",
       "      <td>3.148145e-01</td>\n",
       "      <td>3.479689e-01</td>\n",
       "      <td>1.720404e-01</td>\n",
       "      <td>...</td>\n",
       "      <td>3.636450e-02</td>\n",
       "      <td>8.326673e-17</td>\n",
       "      <td>-8.326673e-17</td>\n",
       "      <td>8.326673e-17</td>\n",
       "      <td>-8.326673e-17</td>\n",
       "      <td>-7.650997e-02</td>\n",
       "      <td>-1.176274e-01</td>\n",
       "      <td>-1.431370e-01</td>\n",
       "      <td>-1.044476e-01</td>\n",
       "      <td>-1.483105e-01</td>\n",
       "    </tr>\n",
       "    <tr>\n",
       "      <th>PC40</th>\n",
       "      <td>-8.221700e-02</td>\n",
       "      <td>1.954697e-02</td>\n",
       "      <td>3.810405e-02</td>\n",
       "      <td>2.702230e-02</td>\n",
       "      <td>1.397452e-02</td>\n",
       "      <td>-7.057426e-02</td>\n",
       "      <td>4.707533e-02</td>\n",
       "      <td>-7.942842e-02</td>\n",
       "      <td>-8.779336e-02</td>\n",
       "      <td>-4.340620e-02</td>\n",
       "      <td>...</td>\n",
       "      <td>3.317922e-01</td>\n",
       "      <td>8.326673e-17</td>\n",
       "      <td>2.914335e-16</td>\n",
       "      <td>-6.938894e-17</td>\n",
       "      <td>1.110223e-16</td>\n",
       "      <td>5.280773e-02</td>\n",
       "      <td>8.118724e-02</td>\n",
       "      <td>9.879421e-02</td>\n",
       "      <td>7.209050e-02</td>\n",
       "      <td>1.023650e-01</td>\n",
       "    </tr>\n",
       "    <tr>\n",
       "      <th>PC41</th>\n",
       "      <td>4.913844e-02</td>\n",
       "      <td>1.061837e-01</td>\n",
       "      <td>2.069901e-01</td>\n",
       "      <td>1.467915e-01</td>\n",
       "      <td>7.591289e-02</td>\n",
       "      <td>6.138261e-02</td>\n",
       "      <td>2.557242e-01</td>\n",
       "      <td>-2.032968e-03</td>\n",
       "      <td>-2.247069e-03</td>\n",
       "      <td>-1.110980e-03</td>\n",
       "      <td>...</td>\n",
       "      <td>-1.784078e-02</td>\n",
       "      <td>-8.326673e-17</td>\n",
       "      <td>8.326673e-17</td>\n",
       "      <td>1.387779e-16</td>\n",
       "      <td>-1.387779e-16</td>\n",
       "      <td>1.851483e-01</td>\n",
       "      <td>2.846493e-01</td>\n",
       "      <td>3.463808e-01</td>\n",
       "      <td>2.527553e-01</td>\n",
       "      <td>3.589001e-01</td>\n",
       "    </tr>\n",
       "    <tr>\n",
       "      <th>PC42</th>\n",
       "      <td>2.797896e-01</td>\n",
       "      <td>-1.081618e-01</td>\n",
       "      <td>-2.108462e-01</td>\n",
       "      <td>-1.495261e-01</td>\n",
       "      <td>-7.732707e-02</td>\n",
       "      <td>9.883362e-02</td>\n",
       "      <td>-2.604881e-01</td>\n",
       "      <td>-7.962984e-02</td>\n",
       "      <td>-8.801600e-02</td>\n",
       "      <td>-4.351627e-02</td>\n",
       "      <td>...</td>\n",
       "      <td>-2.604972e-01</td>\n",
       "      <td>-1.665335e-16</td>\n",
       "      <td>-1.110223e-16</td>\n",
       "      <td>-5.551115e-17</td>\n",
       "      <td>5.551115e-17</td>\n",
       "      <td>9.763487e-02</td>\n",
       "      <td>1.501050e-01</td>\n",
       "      <td>1.826581e-01</td>\n",
       "      <td>1.332863e-01</td>\n",
       "      <td>1.892600e-01</td>\n",
       "    </tr>\n",
       "    <tr>\n",
       "      <th>PC43</th>\n",
       "      <td>5.310305e-02</td>\n",
       "      <td>-4.490908e-02</td>\n",
       "      <td>-8.754392e-02</td>\n",
       "      <td>-6.208364e-02</td>\n",
       "      <td>-3.210642e-02</td>\n",
       "      <td>9.998223e-02</td>\n",
       "      <td>-1.081554e-01</td>\n",
       "      <td>-2.450678e-01</td>\n",
       "      <td>-2.708769e-01</td>\n",
       "      <td>-1.339251e-01</td>\n",
       "      <td>...</td>\n",
       "      <td>3.180264e-01</td>\n",
       "      <td>2.081668e-17</td>\n",
       "      <td>2.012279e-16</td>\n",
       "      <td>-2.775558e-17</td>\n",
       "      <td>-2.775558e-17</td>\n",
       "      <td>-4.839253e-02</td>\n",
       "      <td>-7.439927e-02</td>\n",
       "      <td>-9.053414e-02</td>\n",
       "      <td>-6.606310e-02</td>\n",
       "      <td>-9.380635e-02</td>\n",
       "    </tr>\n",
       "    <tr>\n",
       "      <th>PC44</th>\n",
       "      <td>-1.245030e-02</td>\n",
       "      <td>3.408940e-02</td>\n",
       "      <td>6.645248e-02</td>\n",
       "      <td>4.712620e-02</td>\n",
       "      <td>2.437121e-02</td>\n",
       "      <td>1.543974e-01</td>\n",
       "      <td>8.209816e-02</td>\n",
       "      <td>1.092401e-01</td>\n",
       "      <td>1.207447e-01</td>\n",
       "      <td>5.969776e-02</td>\n",
       "      <td>...</td>\n",
       "      <td>-1.254605e-02</td>\n",
       "      <td>-1.110223e-16</td>\n",
       "      <td>0.000000e+00</td>\n",
       "      <td>-2.220446e-16</td>\n",
       "      <td>-1.526557e-16</td>\n",
       "      <td>-4.643213e-02</td>\n",
       "      <td>-7.138533e-02</td>\n",
       "      <td>-8.686657e-02</td>\n",
       "      <td>-6.338686e-02</td>\n",
       "      <td>-9.000622e-02</td>\n",
       "    </tr>\n",
       "    <tr>\n",
       "      <th>PC45</th>\n",
       "      <td>-6.176738e-03</td>\n",
       "      <td>-8.988344e-02</td>\n",
       "      <td>-1.752151e-01</td>\n",
       "      <td>-1.242575e-01</td>\n",
       "      <td>-6.425950e-02</td>\n",
       "      <td>5.185610e-02</td>\n",
       "      <td>-2.164680e-01</td>\n",
       "      <td>2.565008e-01</td>\n",
       "      <td>2.835139e-01</td>\n",
       "      <td>1.401730e-01</td>\n",
       "      <td>...</td>\n",
       "      <td>2.778793e-01</td>\n",
       "      <td>5.134781e-16</td>\n",
       "      <td>3.747003e-16</td>\n",
       "      <td>-3.478121e-16</td>\n",
       "      <td>-2.072995e-16</td>\n",
       "      <td>1.278345e-01</td>\n",
       "      <td>1.965344e-01</td>\n",
       "      <td>2.391565e-01</td>\n",
       "      <td>1.745134e-01</td>\n",
       "      <td>2.478004e-01</td>\n",
       "    </tr>\n",
       "    <tr>\n",
       "      <th>PC46</th>\n",
       "      <td>2.824256e-16</td>\n",
       "      <td>7.643363e-17</td>\n",
       "      <td>1.946794e-16</td>\n",
       "      <td>1.803843e-16</td>\n",
       "      <td>1.101902e-16</td>\n",
       "      <td>1.862365e-16</td>\n",
       "      <td>2.899638e-16</td>\n",
       "      <td>-6.075702e-16</td>\n",
       "      <td>-6.729972e-16</td>\n",
       "      <td>-4.124675e-16</td>\n",
       "      <td>...</td>\n",
       "      <td>-1.882121e-15</td>\n",
       "      <td>1.725104e-01</td>\n",
       "      <td>1.725104e-01</td>\n",
       "      <td>-1.164770e-01</td>\n",
       "      <td>-1.164770e-01</td>\n",
       "      <td>-2.846559e-17</td>\n",
       "      <td>1.085275e-16</td>\n",
       "      <td>-2.195461e-17</td>\n",
       "      <td>8.275494e-17</td>\n",
       "      <td>5.248646e-17</td>\n",
       "    </tr>\n",
       "    <tr>\n",
       "      <th>PC47</th>\n",
       "      <td>3.365473e-01</td>\n",
       "      <td>4.481537e-02</td>\n",
       "      <td>8.736124e-02</td>\n",
       "      <td>6.195409e-02</td>\n",
       "      <td>3.203942e-02</td>\n",
       "      <td>-1.890206e-01</td>\n",
       "      <td>1.079297e-01</td>\n",
       "      <td>6.881645e-02</td>\n",
       "      <td>7.606379e-02</td>\n",
       "      <td>3.760695e-02</td>\n",
       "      <td>...</td>\n",
       "      <td>-1.349679e-02</td>\n",
       "      <td>2.775558e-17</td>\n",
       "      <td>-2.775558e-17</td>\n",
       "      <td>2.498002e-16</td>\n",
       "      <td>-2.498002e-16</td>\n",
       "      <td>5.006166e-02</td>\n",
       "      <td>7.696541e-02</td>\n",
       "      <td>9.365679e-02</td>\n",
       "      <td>6.834171e-02</td>\n",
       "      <td>9.704186e-02</td>\n",
       "    </tr>\n",
       "  </tbody>\n",
       "</table>\n",
       "<p>47 rows × 49 columns</p>\n",
       "</div>"
      ],
      "text/plain": [
       "      Participante da Comunidade LGBTQIA+_Sim  Faixa Etária_18-24 anos  \\\n",
       "PC1                              5.551115e-17            -7.904960e-02   \n",
       "PC2                             -4.163336e-17            -1.825991e-02   \n",
       "PC3                              5.551115e-17            -9.674901e-03   \n",
       "PC4                              1.665335e-16             1.546758e-01   \n",
       "PC5                             -1.110223e-16            -1.112187e-01   \n",
       "PC6                              1.801944e-16            -1.782869e-01   \n",
       "PC7                              1.665335e-16             2.960516e-01   \n",
       "PC8                             -0.000000e+00            -7.188793e-02   \n",
       "PC9                             -5.551115e-17             2.392801e-01   \n",
       "PC10                             1.387779e-17            -9.920116e-02   \n",
       "PC11                            -2.046974e-16             8.067855e-02   \n",
       "PC12                             5.551115e-17            -1.083379e-01   \n",
       "PC13                            -3.469447e-18            -1.233248e-01   \n",
       "PC14                             5.551115e-17             1.839904e-01   \n",
       "PC15                            -1.942890e-16            -5.980604e-03   \n",
       "PC16                            -2.775558e-17            -2.551025e-01   \n",
       "PC17                             6.938894e-17             8.545584e-02   \n",
       "PC18                             2.775558e-17             3.159623e-02   \n",
       "PC19                            -5.551115e-17             3.757303e-01   \n",
       "PC20                             2.220446e-16            -2.646781e-01   \n",
       "PC21                             5.551115e-17             1.664802e-01   \n",
       "PC22                             1.318390e-16             2.238362e-02   \n",
       "PC23                            -3.469447e-17             5.110811e-02   \n",
       "PC24                            -2.775558e-17            -1.240256e-02   \n",
       "PC25                             0.000000e+00            -2.551384e-01   \n",
       "PC26                            -1.595946e-16             1.393623e-01   \n",
       "PC27                             5.551115e-17            -1.787328e-02   \n",
       "PC28                            -3.053113e-16             1.950264e-01   \n",
       "PC29                             3.191891e-16            -1.819784e-02   \n",
       "PC30                            -1.387779e-16             1.220196e-01   \n",
       "PC31                            -1.127570e-16            -1.529379e-01   \n",
       "PC32                            -1.006140e-16             2.785869e-01   \n",
       "PC33                             1.387779e-16            -1.862006e-01   \n",
       "PC34                            -9.194034e-17            -6.510074e-02   \n",
       "PC35                             4.354156e-16             1.744368e-01   \n",
       "PC36                             8.607340e-01            -3.321977e-02   \n",
       "PC37                             3.432851e-02             5.137332e-03   \n",
       "PC38                             2.324698e-01             1.844328e-01   \n",
       "PC39                            -1.351645e-02             4.694474e-02   \n",
       "PC40                            -8.221700e-02             1.954697e-02   \n",
       "PC41                             4.913844e-02             1.061837e-01   \n",
       "PC42                             2.797896e-01            -1.081618e-01   \n",
       "PC43                             5.310305e-02            -4.490908e-02   \n",
       "PC44                            -1.245030e-02             3.408940e-02   \n",
       "PC45                            -6.176738e-03            -8.988344e-02   \n",
       "PC46                             2.824256e-16             7.643363e-17   \n",
       "PC47                             3.365473e-01             4.481537e-02   \n",
       "\n",
       "      Faixa Etária_25-34 anos  Faixa Etária_35-44 anos  \\\n",
       "PC1             -2.292964e-01            -1.512683e-01   \n",
       "PC2              7.175396e-02             7.312277e-02   \n",
       "PC3              1.692486e-02            -3.512452e-02   \n",
       "PC4              8.217545e-03            -9.857222e-02   \n",
       "PC5              6.381732e-04            -2.289724e-01   \n",
       "PC6             -1.285509e-01             5.876859e-02   \n",
       "PC7             -8.858875e-02            -2.608830e-02   \n",
       "PC8              2.281952e-01            -1.633969e-01   \n",
       "PC9             -1.196192e-01            -1.089272e-01   \n",
       "PC10            -6.199420e-02            -3.789284e-02   \n",
       "PC11            -3.343834e-01             3.122361e-01   \n",
       "PC12             4.933729e-02             1.490206e-01   \n",
       "PC13             1.132866e-01            -6.865871e-02   \n",
       "PC14            -7.567656e-02            -1.162248e-01   \n",
       "PC15             2.844929e-01            -2.449522e-01   \n",
       "PC16             8.190675e-02             4.741558e-02   \n",
       "PC17             1.685071e-01            -3.015425e-01   \n",
       "PC18             5.805816e-02            -1.528971e-01   \n",
       "PC19            -9.627509e-02            -2.274205e-02   \n",
       "PC20            -4.602066e-02             1.952234e-01   \n",
       "PC21             1.228120e-01            -1.295220e-01   \n",
       "PC22            -1.336908e-01             8.956371e-02   \n",
       "PC23             2.665748e-02             2.045081e-01   \n",
       "PC24            -1.342797e-01            -2.492941e-01   \n",
       "PC25             1.190409e-01             1.180020e-01   \n",
       "PC26            -2.700269e-01             1.977289e-01   \n",
       "PC27            -2.109520e-01             2.204295e-01   \n",
       "PC28             6.948206e-02             3.457598e-02   \n",
       "PC29            -5.877974e-02            -1.798041e-01   \n",
       "PC30            -1.284017e-01            -1.766680e-02   \n",
       "PC31             5.734288e-02             3.433084e-02   \n",
       "PC32            -3.477544e-02             5.803340e-02   \n",
       "PC33            -1.686873e-01             8.470862e-03   \n",
       "PC34            -2.370059e-01            -3.073246e-01   \n",
       "PC35            -7.380415e-02            -8.063703e-02   \n",
       "PC36            -6.475726e-02            -4.592399e-02   \n",
       "PC37             1.001450e-02             7.101999e-03   \n",
       "PC38             3.595257e-01             2.549653e-01   \n",
       "PC39             9.151214e-02             6.489778e-02   \n",
       "PC40             3.810405e-02             2.702230e-02   \n",
       "PC41             2.069901e-01             1.467915e-01   \n",
       "PC42            -2.108462e-01            -1.495261e-01   \n",
       "PC43            -8.754392e-02            -6.208364e-02   \n",
       "PC44             6.645248e-02             4.712620e-02   \n",
       "PC45            -1.752151e-01            -1.242575e-01   \n",
       "PC46             1.946794e-16             1.803843e-16   \n",
       "PC47             8.736124e-02             6.195409e-02   \n",
       "\n",
       "      Faixa Etária_45-54 anos  Faixa Etária_55 anos ou mais  \\\n",
       "PC1             -5.890011e-02                  4.852885e-02   \n",
       "PC2             -3.878077e-02                  3.097183e-01   \n",
       "PC3              2.501631e-01                 -3.397180e-02   \n",
       "PC4              1.266358e-01                  8.998695e-02   \n",
       "PC5              1.752514e-01                  1.070155e-01   \n",
       "PC6              1.393188e-01                  1.464201e-01   \n",
       "PC7             -6.253175e-02                  8.534985e-02   \n",
       "PC8             -9.922276e-02                 -6.674342e-02   \n",
       "PC9              1.273785e-02                  1.585788e-01   \n",
       "PC10            -9.304683e-02                  2.897428e-01   \n",
       "PC11             1.534671e-01                 -8.072229e-02   \n",
       "PC12             1.524051e-01                  1.762870e-02   \n",
       "PC13            -2.378835e-01                  5.424633e-02   \n",
       "PC14            -1.534152e-01                 -1.296612e-02   \n",
       "PC15             3.108107e-02                 -1.014651e-01   \n",
       "PC16            -1.615630e-01                 -8.341385e-02   \n",
       "PC17             2.399252e-01                 -9.729325e-04   \n",
       "PC18             5.671582e-02                  2.543543e-01   \n",
       "PC19            -1.293165e-02                  2.407699e-02   \n",
       "PC20             1.852036e-01                  1.237250e-01   \n",
       "PC21            -2.083852e-02                 -1.161777e-01   \n",
       "PC22            -1.730782e-01                 -8.589252e-02   \n",
       "PC23             1.075797e-01                  1.338544e-02   \n",
       "PC24             5.085361e-01                 -1.500072e-01   \n",
       "PC25            -3.699491e-02                 -8.292203e-02   \n",
       "PC26            -1.716105e-01                 -5.907839e-03   \n",
       "PC27             3.097914e-01                 -6.826523e-02   \n",
       "PC28            -2.235516e-02                 -1.315230e-01   \n",
       "PC29             1.951925e-01                  1.082286e-02   \n",
       "PC30             6.410603e-02                  3.600484e-02   \n",
       "PC31             9.573192e-02                 -1.289028e-01   \n",
       "PC32            -1.116835e-01                 -1.115240e-01   \n",
       "PC33             4.267699e-02                  5.566527e-02   \n",
       "PC34            -1.678882e-01                  1.135851e-02   \n",
       "PC35             1.869873e-01                  5.558737e-02   \n",
       "PC36            -2.374949e-02                 -4.199418e-02   \n",
       "PC37             3.672783e-03                  5.462077e-01   \n",
       "PC38             1.318547e-01                  1.960731e-01   \n",
       "PC39             3.356175e-02                  3.040284e-01   \n",
       "PC40             1.397452e-02                 -7.057426e-02   \n",
       "PC41             7.591289e-02                  6.138261e-02   \n",
       "PC42            -7.732707e-02                  9.883362e-02   \n",
       "PC43            -3.210642e-02                  9.998223e-02   \n",
       "PC44             2.437121e-02                  1.543974e-01   \n",
       "PC45            -6.425950e-02                  5.185610e-02   \n",
       "PC46             1.101902e-16                  1.862365e-16   \n",
       "PC47             3.203942e-02                 -1.890206e-01   \n",
       "\n",
       "      Faixa Etária_Menos de 18 anos  Identidade de Gênero_Homem cisgênero  \\\n",
       "PC1                    3.025880e-01                         -1.590526e-01   \n",
       "PC2                   -2.095630e-01                          4.937830e-02   \n",
       "PC3                   -4.967592e-02                         -5.127945e-03   \n",
       "PC4                   -8.925193e-02                          8.632770e-02   \n",
       "PC5                    8.063983e-02                         -1.901603e-01   \n",
       "PC6                    4.219265e-02                          7.268216e-02   \n",
       "PC7                   -5.312410e-02                          3.868247e-02   \n",
       "PC8                   -3.895586e-03                         -3.210463e-01   \n",
       "PC9                   -9.633478e-03                         -9.650975e-02   \n",
       "PC10                   2.043438e-02                          2.240051e-01   \n",
       "PC11                   4.588922e-02                          4.618502e-02   \n",
       "PC12                  -1.330534e-01                         -2.864124e-01   \n",
       "PC13                   4.701445e-02                          8.098410e-02   \n",
       "PC14                   1.024984e-01                         -1.697877e-02   \n",
       "PC15                  -5.428038e-02                          1.693920e-01   \n",
       "PC16                   9.500681e-02                         -1.812000e-02   \n",
       "PC17                  -6.960455e-02                         -1.539552e-01   \n",
       "PC18                  -9.479831e-02                         -8.002909e-02   \n",
       "PC19                  -7.119002e-02                         -2.586901e-01   \n",
       "PC20                  -7.126317e-02                         -9.589786e-03   \n",
       "PC21                  -3.975982e-02                          1.406157e-01   \n",
       "PC22                   1.345510e-01                          1.401646e-01   \n",
       "PC23                  -1.976846e-01                         -1.902437e-01   \n",
       "PC24                   1.682659e-01                         -3.902501e-03   \n",
       "PC25                  -1.273671e-02                         -1.630453e-01   \n",
       "PC26                   1.005956e-01                         -1.449852e-01   \n",
       "PC27                  -1.197715e-02                          4.013450e-02   \n",
       "PC28                  -9.582019e-02                          2.005839e-01   \n",
       "PC29                   9.590805e-02                          2.163556e-01   \n",
       "PC30                   2.942671e-02                          9.600837e-02   \n",
       "PC31                   2.248797e-02                          7.415094e-02   \n",
       "PC32                  -4.137966e-02                         -1.490116e-01   \n",
       "PC33                   1.732106e-01                         -7.161486e-02   \n",
       "PC34                   4.404039e-01                         -6.549631e-02   \n",
       "PC35                  -4.499383e-02                          7.692186e-02   \n",
       "PC36                  -8.000380e-02                          4.106867e-02   \n",
       "PC37                   1.237233e-02                         -1.262895e-01   \n",
       "PC38                   4.441729e-01                         -7.790819e-02   \n",
       "PC39                   1.130579e-01                          3.148145e-01   \n",
       "PC40                   4.707533e-02                         -7.942842e-02   \n",
       "PC41                   2.557242e-01                         -2.032968e-03   \n",
       "PC42                  -2.604881e-01                         -7.962984e-02   \n",
       "PC43                  -1.081554e-01                         -2.450678e-01   \n",
       "PC44                   8.209816e-02                          1.092401e-01   \n",
       "PC45                  -2.164680e-01                          2.565008e-01   \n",
       "PC46                   2.899638e-16                         -6.075702e-16   \n",
       "PC47                   1.079297e-01                          6.881645e-02   \n",
       "\n",
       "      Identidade de Gênero_Mulher cisgênero  Identidade de Gênero_Não-binário  \\\n",
       "PC1                            7.452952e-02                      7.166392e-02   \n",
       "PC2                           -1.200837e-01                      2.370262e-01   \n",
       "PC3                           -2.690017e-01                      2.833041e-02   \n",
       "PC4                           -2.152610e-02                     -4.763958e-02   \n",
       "PC5                            2.315998e-01                      1.413497e-01   \n",
       "PC6                           -4.750896e-02                     -1.502015e-01   \n",
       "PC7                           -1.425186e-01                      1.631263e-01   \n",
       "PC8                            2.123130e-01                     -4.217559e-02   \n",
       "PC9                           -5.841643e-02                     -6.375045e-02   \n",
       "PC10                          -1.802697e-01                      1.230798e-01   \n",
       "PC11                          -9.292348e-02                     -1.393002e-01   \n",
       "PC12                          -8.933724e-02                      3.554416e-01   \n",
       "PC13                          -1.110462e-01                     -7.539172e-03   \n",
       "PC14                          -1.002638e-01                     -9.024525e-02   \n",
       "PC15                          -1.348127e-01                      9.825002e-02   \n",
       "PC16                           3.199237e-02                      1.269788e-02   \n",
       "PC17                           2.841973e-03                     -1.019928e-01   \n",
       "PC18                           9.104357e-02                     -2.432321e-01   \n",
       "PC19                           7.030347e-02                      1.358386e-01   \n",
       "PC20                           1.144134e-01                     -1.097991e-01   \n",
       "PC21                           3.027011e-02                      2.219878e-01   \n",
       "PC22                          -3.181852e-01                      2.298503e-02   \n",
       "PC23                           1.841264e-01                     -1.693459e-01   \n",
       "PC24                          -1.339579e-01                      2.143574e-01   \n",
       "PC25                          -2.690493e-01                      2.157245e-01   \n",
       "PC26                           9.723443e-02                      3.186652e-02   \n",
       "PC27                           1.390495e-01                     -4.095964e-03   \n",
       "PC28                          -1.359770e-01                     -9.843045e-02   \n",
       "PC29                          -5.191849e-02                     -7.504020e-02   \n",
       "PC30                           7.864336e-02                      1.370159e-01   \n",
       "PC31                           7.643874e-02                     -2.382956e-01   \n",
       "PC32                           1.498947e-01                      2.163839e-01   \n",
       "PC33                          -2.832001e-02                      3.937284e-01   \n",
       "PC34                           4.943167e-02                     -1.473203e-01   \n",
       "PC35                          -1.083824e-01                     -1.104109e-01   \n",
       "PC36                           4.539378e-02                      2.244329e-02   \n",
       "PC37                          -1.395895e-01                     -6.901492e-02   \n",
       "PC38                          -8.611302e-02                     -4.257542e-02   \n",
       "PC39                           3.479689e-01                      1.720404e-01   \n",
       "PC40                          -8.779336e-02                     -4.340620e-02   \n",
       "PC41                          -2.247069e-03                     -1.110980e-03   \n",
       "PC42                          -8.801600e-02                     -4.351627e-02   \n",
       "PC43                          -2.708769e-01                     -1.339251e-01   \n",
       "PC44                           1.207447e-01                      5.969776e-02   \n",
       "PC45                           2.835139e-01                      1.401730e-01   \n",
       "PC46                          -6.729972e-16                     -4.124675e-16   \n",
       "PC47                           7.606379e-02                      3.760695e-02   \n",
       "\n",
       "      ...  Interesse em Empreender_Talvez  \\\n",
       "PC1   ...                   -7.197357e-02   \n",
       "PC2   ...                   -4.568084e-02   \n",
       "PC3   ...                   -1.765794e-01   \n",
       "PC4   ...                   -3.428725e-02   \n",
       "PC5   ...                   -2.407980e-01   \n",
       "PC6   ...                   -1.738102e-01   \n",
       "PC7   ...                   -1.838143e-01   \n",
       "PC8   ...                   -2.482738e-01   \n",
       "PC9   ...                   -1.037576e-01   \n",
       "PC10  ...                    5.109697e-02   \n",
       "PC11  ...                    2.328685e-02   \n",
       "PC12  ...                    2.851183e-01   \n",
       "PC13  ...                   -1.994607e-01   \n",
       "PC14  ...                   -5.297310e-03   \n",
       "PC15  ...                   -5.941945e-02   \n",
       "PC16  ...                    1.266598e-01   \n",
       "PC17  ...                    2.497169e-02   \n",
       "PC18  ...                    3.108194e-01   \n",
       "PC19  ...                    1.195104e-01   \n",
       "PC20  ...                    4.134537e-02   \n",
       "PC21  ...                    4.428353e-02   \n",
       "PC22  ...                    3.241804e-02   \n",
       "PC23  ...                   -1.655158e-01   \n",
       "PC24  ...                    1.225587e-01   \n",
       "PC25  ...                   -1.134277e-01   \n",
       "PC26  ...                   -4.305995e-02   \n",
       "PC27  ...                   -1.471599e-01   \n",
       "PC28  ...                   -1.252126e-01   \n",
       "PC29  ...                    8.029104e-02   \n",
       "PC30  ...                   -7.211954e-02   \n",
       "PC31  ...                   -8.705361e-03   \n",
       "PC32  ...                    3.619437e-02   \n",
       "PC33  ...                   -1.083884e-01   \n",
       "PC34  ...                    7.216521e-02   \n",
       "PC35  ...                   -1.072568e-01   \n",
       "PC36  ...                    9.316597e-02   \n",
       "PC37  ...                   -2.437777e-02   \n",
       "PC38  ...                    4.900251e-02   \n",
       "PC39  ...                    3.636450e-02   \n",
       "PC40  ...                    3.317922e-01   \n",
       "PC41  ...                   -1.784078e-02   \n",
       "PC42  ...                   -2.604972e-01   \n",
       "PC43  ...                    3.180264e-01   \n",
       "PC44  ...                   -1.254605e-02   \n",
       "PC45  ...                    2.778793e-01   \n",
       "PC46  ...                   -1.882121e-15   \n",
       "PC47  ...                   -1.349679e-02   \n",
       "\n",
       "      Situação no Mercado de Trabalho_Desempregado (a)  \\\n",
       "PC1                                       3.308656e-01   \n",
       "PC2                                      -5.547847e-02   \n",
       "PC3                                       7.462500e-02   \n",
       "PC4                                       3.194758e-03   \n",
       "PC5                                      -9.458419e-02   \n",
       "PC6                                      -8.639658e-02   \n",
       "PC7                                      -3.343225e-02   \n",
       "PC8                                      -4.060323e-02   \n",
       "PC9                                      -1.666958e-01   \n",
       "PC10                                      1.818850e-01   \n",
       "PC11                                     -2.561973e-02   \n",
       "PC12                                      1.173512e-03   \n",
       "PC13                                      4.745360e-02   \n",
       "PC14                                      7.392233e-02   \n",
       "PC15                                     -1.746149e-02   \n",
       "PC16                                     -1.830863e-01   \n",
       "PC17                                     -3.301026e-03   \n",
       "PC18                                      3.855244e-03   \n",
       "PC19                                     -1.952954e-02   \n",
       "PC20                                      3.740432e-03   \n",
       "PC21                                     -6.183846e-02   \n",
       "PC22                                     -1.649653e-01   \n",
       "PC23                                     -2.685474e-02   \n",
       "PC24                                     -9.208243e-02   \n",
       "PC25                                      9.037503e-02   \n",
       "PC26                                     -1.602963e-01   \n",
       "PC27                                      2.135176e-01   \n",
       "PC28                                      5.567128e-02   \n",
       "PC29                                      9.288828e-02   \n",
       "PC30                                     -2.239320e-01   \n",
       "PC31                                     -9.372278e-02   \n",
       "PC32                                      2.335202e-01   \n",
       "PC33                                     -1.163110e-01   \n",
       "PC34                                     -2.785474e-02   \n",
       "PC35                                     -4.543117e-03   \n",
       "PC36                                     -5.551115e-17   \n",
       "PC37                                      1.110223e-16   \n",
       "PC38                                     -1.387779e-16   \n",
       "PC39                                      8.326673e-17   \n",
       "PC40                                      8.326673e-17   \n",
       "PC41                                     -8.326673e-17   \n",
       "PC42                                     -1.665335e-16   \n",
       "PC43                                      2.081668e-17   \n",
       "PC44                                     -1.110223e-16   \n",
       "PC45                                      5.134781e-16   \n",
       "PC46                                      1.725104e-01   \n",
       "PC47                                      2.775558e-17   \n",
       "\n",
       "      Situação no Mercado de Trabalho_Empregado (a)  Usa Redes Sociais?_Não  \\\n",
       "PC1                                   -3.308656e-01            1.945952e-01   \n",
       "PC2                                    5.547847e-02            2.965500e-01   \n",
       "PC3                                   -7.462500e-02            5.217832e-02   \n",
       "PC4                                   -3.194758e-03            1.243360e-01   \n",
       "PC5                                    9.458419e-02           -1.937240e-02   \n",
       "PC6                                    8.639658e-02           -1.091472e-01   \n",
       "PC7                                    3.343225e-02           -1.419698e-01   \n",
       "PC8                                    4.060323e-02           -1.963801e-02   \n",
       "PC9                                    1.666958e-01           -1.141098e-02   \n",
       "PC10                                  -1.818850e-01           -1.480233e-01   \n",
       "PC11                                   2.561973e-02            8.580141e-02   \n",
       "PC12                                  -1.173512e-03           -4.270799e-02   \n",
       "PC13                                  -4.745360e-02           -4.549347e-02   \n",
       "PC14                                  -7.392233e-02            4.181670e-02   \n",
       "PC15                                   1.746149e-02           -6.597173e-02   \n",
       "PC16                                   1.830863e-01            2.211716e-01   \n",
       "PC17                                   3.301026e-03            8.579066e-02   \n",
       "PC18                                  -3.855244e-03            9.767125e-02   \n",
       "PC19                                   1.952954e-02            2.418984e-02   \n",
       "PC20                                  -3.740432e-03           -8.838974e-02   \n",
       "PC21                                   6.183846e-02           -4.220957e-02   \n",
       "PC22                                   1.649653e-01           -2.776438e-02   \n",
       "PC23                                   2.685474e-02           -1.863686e-02   \n",
       "PC24                                   9.208243e-02           -4.494825e-02   \n",
       "PC25                                  -9.037503e-02           -6.879978e-02   \n",
       "PC26                                   1.602963e-01           -6.462388e-02   \n",
       "PC27                                  -2.135176e-01            2.712094e-02   \n",
       "PC28                                  -5.567128e-02            3.548365e-01   \n",
       "PC29                                  -9.288828e-02           -3.469767e-02   \n",
       "PC30                                   2.239320e-01           -6.249644e-03   \n",
       "PC31                                   9.372278e-02            1.056339e-01   \n",
       "PC32                                  -2.335202e-01           -2.366265e-02   \n",
       "PC33                                   1.163110e-01            2.344631e-01   \n",
       "PC34                                   2.785474e-02           -7.609641e-03   \n",
       "PC35                                   4.543117e-03           -3.317645e-02   \n",
       "PC36                                   5.551115e-17            4.336809e-17   \n",
       "PC37                                  -1.110223e-16            1.110223e-16   \n",
       "PC38                                   1.665335e-16            1.942890e-16   \n",
       "PC39                                  -8.326673e-17            8.326673e-17   \n",
       "PC40                                   2.914335e-16           -6.938894e-17   \n",
       "PC41                                   8.326673e-17            1.387779e-16   \n",
       "PC42                                  -1.110223e-16           -5.551115e-17   \n",
       "PC43                                   2.012279e-16           -2.775558e-17   \n",
       "PC44                                   0.000000e+00           -2.220446e-16   \n",
       "PC45                                   3.747003e-16           -3.478121e-16   \n",
       "PC46                                   1.725104e-01           -1.164770e-01   \n",
       "PC47                                  -2.775558e-17            2.498002e-16   \n",
       "\n",
       "      Usa Redes Sociais?_Sim  \\\n",
       "PC1            -1.945952e-01   \n",
       "PC2            -2.965500e-01   \n",
       "PC3            -5.217832e-02   \n",
       "PC4            -1.243360e-01   \n",
       "PC5             1.937240e-02   \n",
       "PC6             1.091472e-01   \n",
       "PC7             1.419698e-01   \n",
       "PC8             1.963801e-02   \n",
       "PC9             1.141098e-02   \n",
       "PC10            1.480233e-01   \n",
       "PC11           -8.580141e-02   \n",
       "PC12            4.270799e-02   \n",
       "PC13            4.549347e-02   \n",
       "PC14           -4.181670e-02   \n",
       "PC15            6.597173e-02   \n",
       "PC16           -2.211716e-01   \n",
       "PC17           -8.579066e-02   \n",
       "PC18           -9.767125e-02   \n",
       "PC19           -2.418984e-02   \n",
       "PC20            8.838974e-02   \n",
       "PC21            4.220957e-02   \n",
       "PC22            2.776438e-02   \n",
       "PC23            1.863686e-02   \n",
       "PC24            4.494825e-02   \n",
       "PC25            6.879978e-02   \n",
       "PC26            6.462388e-02   \n",
       "PC27           -2.712094e-02   \n",
       "PC28           -3.548365e-01   \n",
       "PC29            3.469767e-02   \n",
       "PC30            6.249644e-03   \n",
       "PC31           -1.056339e-01   \n",
       "PC32            2.366265e-02   \n",
       "PC33           -2.344631e-01   \n",
       "PC34            7.609641e-03   \n",
       "PC35            3.317645e-02   \n",
       "PC36           -4.336809e-17   \n",
       "PC37           -1.110223e-16   \n",
       "PC38           -1.942890e-16   \n",
       "PC39           -8.326673e-17   \n",
       "PC40            1.110223e-16   \n",
       "PC41           -1.387779e-16   \n",
       "PC42            5.551115e-17   \n",
       "PC43           -2.775558e-17   \n",
       "PC44           -1.526557e-16   \n",
       "PC45           -2.072995e-16   \n",
       "PC46           -1.164770e-01   \n",
       "PC47           -2.498002e-16   \n",
       "\n",
       "      Finalidade do Uso do App Incluses_Divulgar conteúdos profissionais   \\\n",
       "PC1                                       -2.540828e-02                     \n",
       "PC2                                       -5.885344e-02                     \n",
       "PC3                                        1.689730e-01                     \n",
       "PC4                                        5.983974e-02                     \n",
       "PC5                                        2.599730e-01                     \n",
       "PC6                                        7.445918e-02                     \n",
       "PC7                                       -1.093129e-01                     \n",
       "PC8                                       -6.572920e-02                     \n",
       "PC9                                        3.550587e-03                     \n",
       "PC10                                       5.393318e-02                     \n",
       "PC11                                       3.506114e-01                     \n",
       "PC12                                      -1.927429e-02                     \n",
       "PC13                                      -2.157291e-01                     \n",
       "PC14                                      -9.518108e-02                     \n",
       "PC15                                       3.382203e-01                     \n",
       "PC16                                      -1.391456e-01                     \n",
       "PC17                                       1.148486e-01                     \n",
       "PC18                                      -1.259980e-01                     \n",
       "PC19                                      -1.232665e-02                     \n",
       "PC20                                       1.154764e-01                     \n",
       "PC21                                      -2.267856e-02                     \n",
       "PC22                                      -1.094409e-01                     \n",
       "PC23                                      -2.783681e-01                     \n",
       "PC24                                      -1.959497e-01                     \n",
       "PC25                                      -1.814171e-01                     \n",
       "PC26                                       2.174144e-01                     \n",
       "PC27                                      -2.352456e-01                     \n",
       "PC28                                       5.804139e-02                     \n",
       "PC29                                      -1.209291e-01                     \n",
       "PC30                                      -2.904886e-01                     \n",
       "PC31                                      -1.196170e-01                     \n",
       "PC32                                       2.412846e-02                     \n",
       "PC33                                       3.658723e-02                     \n",
       "PC34                                      -1.925733e-02                     \n",
       "PC35                                      -2.307812e-01                     \n",
       "PC36                                      -5.625810e-02                     \n",
       "PC37                                       3.363688e-02                     \n",
       "PC38                                       4.050680e-04                     \n",
       "PC39                                      -7.650997e-02                     \n",
       "PC40                                       5.280773e-02                     \n",
       "PC41                                       1.851483e-01                     \n",
       "PC42                                       9.763487e-02                     \n",
       "PC43                                      -4.839253e-02                     \n",
       "PC44                                      -4.643213e-02                     \n",
       "PC45                                       1.278345e-01                     \n",
       "PC46                                      -2.846559e-17                     \n",
       "PC47                                       5.006166e-02                     \n",
       "\n",
       "      Finalidade do Uso do App Incluses_Encontrar oportunidades de emprego  \\\n",
       "PC1                                       -5.502746e-02                      \n",
       "PC2                                       -3.041039e-02                      \n",
       "PC3                                        9.995028e-02                      \n",
       "PC4                                       -1.212911e-01                      \n",
       "PC5                                        1.572238e-01                      \n",
       "PC6                                       -2.254841e-01                      \n",
       "PC7                                        9.557561e-02                      \n",
       "PC8                                       -1.474418e-02                      \n",
       "PC9                                       -3.059911e-01                      \n",
       "PC10                                       1.082401e-01                      \n",
       "PC11                                      -2.453764e-01                      \n",
       "PC12                                      -1.700668e-01                      \n",
       "PC13                                       4.435332e-02                      \n",
       "PC14                                       1.904546e-01                      \n",
       "PC15                                      -1.772630e-01                      \n",
       "PC16                                       1.379235e-01                      \n",
       "PC17                                       9.908493e-02                      \n",
       "PC18                                       5.149396e-02                      \n",
       "PC19                                       1.355293e-01                      \n",
       "PC20                                       3.502544e-01                      \n",
       "PC21                                      -5.894538e-02                      \n",
       "PC22                                       1.191257e-01                      \n",
       "PC23                                       7.809397e-02                      \n",
       "PC24                                       1.391085e-01                      \n",
       "PC25                                       5.682612e-02                      \n",
       "PC26                                       3.116501e-01                      \n",
       "PC27                                      -5.658538e-02                      \n",
       "PC28                                       2.059995e-01                      \n",
       "PC29                                       1.941286e-01                      \n",
       "PC30                                       2.013649e-02                      \n",
       "PC31                                      -8.851516e-02                      \n",
       "PC32                                      -6.707591e-02                      \n",
       "PC33                                      -4.257754e-02                      \n",
       "PC34                                      -1.280559e-01                      \n",
       "PC35                                       5.182891e-02                      \n",
       "PC36                                      -8.649189e-02                      \n",
       "PC37                                       5.171375e-02                      \n",
       "PC38                                       6.227565e-04                      \n",
       "PC39                                      -1.176274e-01                      \n",
       "PC40                                       8.118724e-02                      \n",
       "PC41                                       2.846493e-01                      \n",
       "PC42                                       1.501050e-01                      \n",
       "PC43                                      -7.439927e-02                      \n",
       "PC44                                      -7.138533e-02                      \n",
       "PC45                                       1.965344e-01                      \n",
       "PC46                                       1.085275e-16                      \n",
       "PC47                                       7.696541e-02                      \n",
       "\n",
       "      Finalidade do Uso do App Incluses_Fazer cursos de qualificação  \\\n",
       "PC1                                        1.344338e-01                \n",
       "PC2                                       -1.341627e-01                \n",
       "PC3                                       -9.704663e-02                \n",
       "PC4                                       -7.240844e-02                \n",
       "PC5                                       -2.213309e-01                \n",
       "PC6                                        2.917608e-01                \n",
       "PC7                                       -2.061992e-02                \n",
       "PC8                                       -1.533887e-01                \n",
       "PC9                                       -9.528562e-02                \n",
       "PC10                                       9.954097e-04                \n",
       "PC11                                      -2.024747e-01                \n",
       "PC12                                       1.449227e-01                \n",
       "PC13                                      -1.039542e-01                \n",
       "PC14                                       3.324949e-02                \n",
       "PC15                                       2.258725e-01                \n",
       "PC16                                      -8.240007e-02                \n",
       "PC17                                       1.511186e-01                \n",
       "PC18                                      -3.299065e-03                \n",
       "PC19                                       7.817164e-02                \n",
       "PC20                                      -1.539724e-01                \n",
       "PC21                                      -1.804715e-01                \n",
       "PC22                                       9.846148e-03                \n",
       "PC23                                       9.636879e-02                \n",
       "PC24                                      -1.445189e-01                \n",
       "PC25                                      -8.975446e-03                \n",
       "PC26                                      -1.437758e-01                \n",
       "PC27                                       8.323099e-02                \n",
       "PC28                                       1.923913e-02                \n",
       "PC29                                      -2.432259e-01                \n",
       "PC30                                       3.772426e-01                \n",
       "PC31                                       9.422265e-02                \n",
       "PC32                                      -2.601574e-02                \n",
       "PC33                                       1.059928e-01                \n",
       "PC34                                       5.072684e-02                \n",
       "PC35                                       4.092109e-02                \n",
       "PC36                                      -1.052493e-01                \n",
       "PC37                                       6.292884e-02                \n",
       "PC38                                       7.578129e-04                \n",
       "PC39                                      -1.431370e-01                \n",
       "PC40                                       9.879421e-02                \n",
       "PC41                                       3.463808e-01                \n",
       "PC42                                       1.826581e-01                \n",
       "PC43                                      -9.053414e-02                \n",
       "PC44                                      -8.686657e-02                \n",
       "PC45                                       2.391565e-01                \n",
       "PC46                                      -2.195461e-17                \n",
       "PC47                                       9.365679e-02                \n",
       "\n",
       "      Finalidade do Uso do App Incluses_Não usaria o app  \\\n",
       "PC1                                        5.905786e-02    \n",
       "PC2                                        2.077258e-01    \n",
       "PC3                                        9.673727e-04    \n",
       "PC4                                       -3.054805e-03    \n",
       "PC5                                        4.084884e-03    \n",
       "PC6                                       -5.434711e-03    \n",
       "PC7                                        1.893896e-01    \n",
       "PC8                                       -1.363309e-01    \n",
       "PC9                                        1.191008e-01    \n",
       "PC10                                      -3.478360e-01    \n",
       "PC11                                       1.028973e-01    \n",
       "PC12                                      -2.446239e-01    \n",
       "PC13                                      -7.705665e-02    \n",
       "PC14                                       4.677079e-03    \n",
       "PC15                                       3.658087e-03    \n",
       "PC16                                       1.273829e-02    \n",
       "PC17                                      -3.253862e-01    \n",
       "PC18                                       1.223973e-01    \n",
       "PC19                                       5.755493e-02    \n",
       "PC20                                       4.879423e-02    \n",
       "PC21                                       1.527294e-01    \n",
       "PC22                                      -2.022457e-01    \n",
       "PC23                                      -7.831273e-02    \n",
       "PC24                                       8.906348e-03    \n",
       "PC25                                       3.430275e-01    \n",
       "PC26                                      -1.670932e-01    \n",
       "PC27                                      -1.301864e-01    \n",
       "PC28                                      -2.678645e-01    \n",
       "PC29                                       1.411086e-01    \n",
       "PC30                                      -9.988651e-02    \n",
       "PC31                                       2.394600e-01    \n",
       "PC32                                       1.123810e-01    \n",
       "PC33                                      -4.634645e-02    \n",
       "PC34                                       3.210436e-02    \n",
       "PC35                                       5.934443e-02    \n",
       "PC36                                      -7.680078e-02    \n",
       "PC37                                       4.591941e-02    \n",
       "PC38                                       5.529789e-04    \n",
       "PC39                                      -1.044476e-01    \n",
       "PC40                                       7.209050e-02    \n",
       "PC41                                       2.527553e-01    \n",
       "PC42                                       1.332863e-01    \n",
       "PC43                                      -6.606310e-02    \n",
       "PC44                                      -6.338686e-02    \n",
       "PC45                                       1.745134e-01    \n",
       "PC46                                       8.275494e-17    \n",
       "PC47                                       6.834171e-02    \n",
       "\n",
       "      Finalidade do Uso do App Incluses_Todos acima  \n",
       "PC1                                   -1.145852e-01  \n",
       "PC2                                    3.767199e-02  \n",
       "PC3                                   -7.346125e-02  \n",
       "PC4                                    1.373619e-01  \n",
       "PC5                                   -4.807718e-02  \n",
       "PC6                                   -1.373328e-01  \n",
       "PC7                                   -1.328874e-01  \n",
       "PC8                                    2.896511e-01  \n",
       "PC9                                    2.489398e-01  \n",
       "PC10                                   1.303330e-01  \n",
       "PC11                                   1.366860e-01  \n",
       "PC12                                   1.772347e-01  \n",
       "PC13                                   2.307075e-01  \n",
       "PC14                                  -1.373343e-01  \n",
       "PC15                                  -2.544597e-01  \n",
       "PC16                                   3.294751e-02  \n",
       "PC17                                  -5.452753e-02  \n",
       "PC18                                  -5.885548e-02  \n",
       "PC19                                  -2.171092e-01  \n",
       "PC20                                  -2.231256e-01  \n",
       "PC21                                   1.250664e-01  \n",
       "PC22                                   9.490644e-02  \n",
       "PC23                                   4.381065e-02  \n",
       "PC24                                   1.239622e-01  \n",
       "PC25                                  -1.843955e-01  \n",
       "PC26                                  -1.028978e-01  \n",
       "PC27                                   1.775926e-01  \n",
       "PC28                                  -2.324809e-02  \n",
       "PC29                                   4.378404e-02  \n",
       "PC30                                  -1.598525e-01  \n",
       "PC31                                  -1.276652e-01  \n",
       "PC32                                  -1.328441e-02  \n",
       "PC33                                  -5.476167e-02  \n",
       "PC34                                   3.993070e-02  \n",
       "PC35                                  -3.338564e-03  \n",
       "PC36                                  -1.090533e-01  \n",
       "PC37                                   6.520330e-02  \n",
       "PC38                                   7.852028e-04  \n",
       "PC39                                  -1.483105e-01  \n",
       "PC40                                   1.023650e-01  \n",
       "PC41                                   3.589001e-01  \n",
       "PC42                                   1.892600e-01  \n",
       "PC43                                  -9.380635e-02  \n",
       "PC44                                  -9.000622e-02  \n",
       "PC45                                   2.478004e-01  \n",
       "PC46                                   5.248646e-17  \n",
       "PC47                                   9.704186e-02  \n",
       "\n",
       "[47 rows x 49 columns]"
      ]
     },
     "metadata": {},
     "output_type": "display_data"
    }
   ],
   "source": [
    "# Supondo que df_incluses_in_float já tenha sido definido e contém as colunas apropriadas\n",
    "# Exibindo as primeiras linhas do DataFrame transformado\n",
    "print(\"DataFrame transformado:\")\n",
    "print(df_incluses_in_float.head())\n",
    "\n",
    "# Separando as colunas numéricas para padronização\n",
    "# Assumindo que todas as colunas em df_incluses_in_float sejam numéricas\n",
    "# Se houver colunas não numéricas, especifique as colunas a serem padronizadas\n",
    "df_numericos = df_incluses_in_float.select_dtypes(include=[np.number])\n",
    "\n",
    "# Padronizando os dados\n",
    "scaler = StandardScaler()\n",
    "df_scaled = scaler.fit_transform(df_numericos)\n",
    "\n",
    "# Inicializando o PCA com o número máximo de componentes\n",
    "pca = PCA(n_components=min(df_scaled.shape[0], df_scaled.shape[1]))  # Use o menor entre o número de amostras e colunas\n",
    "\n",
    "# Aplicando o PCA nos dados padronizados\n",
    "df_pca = pca.fit_transform(df_scaled)\n",
    "\n",
    "# Exibindo a variância explicada por cada componente\n",
    "print(\"Variância explicada por cada componente:\", pca.explained_variance_ratio_)\n",
    "print(\"Variância explicada acumulada:\", sum(pca.explained_variance_ratio_))\n",
    "\n",
    "# Transformando os componentes em um DataFrame\n",
    "df_pca = pd.DataFrame(df_pca, columns=[f'PC{i+1}' for i in range(df_pca.shape[1])])\n",
    "\n",
    "# Exibindo as primeiras linhas dos componentes principais\n",
    "print(\"Primeiras linhas dos componentes principais:\")\n",
    "display(df_pca.head())\n",
    "\n",
    "# Obtendo as cargas de cada variável nos componentes principais\n",
    "cargas = pd.DataFrame(pca.components_, columns=df_numericos.columns, index=[f'PC{i+1}' for i in range(df_pca.shape[1])])\n",
    "print(\"Cargas das variáveis nos componentes principais:\")\n",
    "display(cargas)"
   ]
  },
  {
   "cell_type": "markdown",
   "metadata": {},
   "source": [
    "##### Gerando um Relatório de Perfil do DataFrame\n",
    "\n",
    "Nesta célula, estamos utilizando a biblioteca `ydata_profiling` para criar um relatório detalhado sobre o DataFrame `df_incluses`. O `ProfileReport` nos permite explorar as características dos dados de forma abrangente, fornecendo estatísticas descritivas e visualizações úteis.\n",
    "\n",
    "As configurações do relatório incluem:\n",
    "\n",
    "- **Ordenação**: O parâmetro `sort=None` define que as variáveis não serão ordenadas por padrão.\n",
    "- **Estilo HTML**: O relatório é configurado para ter largura total (`full_width`) para melhor visualização.\n",
    "- **Barra de Progresso**: A barra de progresso é desativada (`progress_bar=False`) para um processamento mais silencioso.\n",
    "- **Cálculo de Correlações**: As correlações são calculadas apenas para os métodos \"phi_k\" e \"cramers\", enquanto os métodos \"pearson\", \"spearman\" e \"kendall\" são desativados. Isso permite uma análise focada nas correlações mais relevantes para os dados em questão.\n",
    "- **Modo Exploratória**: O parâmetro `explorative=True` habilita análises exploratórias adicionais no relatório.\n",
    "- **Título**: O relatório é intitulado \"Profiling Report\".\n",
    "\n",
    "Por fim, o relatório gerado é salvo como um arquivo HTML chamado \"incluses.html\", permitindo fácil acesso e compartilhamento dos resultados da análise."
   ]
  },
  {
   "cell_type": "code",
   "execution_count": 213,
   "metadata": {},
   "outputs": [],
   "source": [
    "# Criando um relatório de perfil do DataFrame 'df_incluses'\n",
    "profile_report = ProfileReport(\n",
    "    df_incluses,  # O DataFrame a ser analisado\n",
    "    sort=None,  # Não ordenar as variáveis por padrão\n",
    "    html={  # Configurações para a saída HTML do relatório\n",
    "        \"style\": {\"full_width\": True}  # Habilita a largura total para melhor visualização\n",
    "    }, \n",
    "    progress_bar=False,  # Desativa a barra de progresso durante a geração do relatório\n",
    "    correlations={  # Configurações para calcular correlações entre variáveis\n",
    "        \"auto\": {\"calculate\": True},  # Calcula correlações automaticamente\n",
    "        \"pearson\": {\"calculate\": False},  # Desativa o cálculo da correlação de Pearson\n",
    "        \"spearman\": {\"calculate\": False},  # Desativa o cálculo da correlação de Spearman\n",
    "        \"kendall\": {\"calculate\": False},  # Desativa o cálculo da correlação de Kendall\n",
    "        \"phi_k\": {\"calculate\": True},  # Habilita o cálculo da correlação phi_k\n",
    "        \"cramers\": {\"calculate\": True},  # Habilita o cálculo da correlação de Cramér\n",
    "    },\n",
    "    \n",
    "    explorative=True,  # Ativa análises exploratórias adicionais no relatório\n",
    "    title=\"Profiling Report\"  # Define o título do relatório\n",
    ")\n",
    "\n",
    "# Salva o relatório gerado como um arquivo HTML chamado \"incluses.html\"\n",
    "profile_report.to_file(\"incluses.html\")"
   ]
  },
  {
   "cell_type": "markdown",
   "metadata": {},
   "source": [
    "##### Gerando o excel \"incluses_tratado.xlsx\" com os tratamentos que foram feitos."
   ]
  },
  {
   "cell_type": "code",
   "execution_count": 214,
   "metadata": {},
   "outputs": [],
   "source": [
    "df_incluses.to_excel('incluses_tratado.xlsx', index=False)"
   ]
  }
 ],
 "metadata": {
  "kernelspec": {
   "display_name": "Python 3",
   "language": "python",
   "name": "python3"
  },
  "language_info": {
   "codemirror_mode": {
    "name": "ipython",
    "version": 3
   },
   "file_extension": ".py",
   "mimetype": "text/x-python",
   "name": "python",
   "nbconvert_exporter": "python",
   "pygments_lexer": "ipython3",
   "version": "3.12.5"
  }
 },
 "nbformat": 4,
 "nbformat_minor": 2
}
